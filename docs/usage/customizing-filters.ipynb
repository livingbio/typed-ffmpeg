{
  "cells": [
    {
      "cell_type": "markdown",
      "metadata": {},
      "source": [
        "## Customizing Filters in Typed-FFmpeg\n",
        "\n",
        "### Introduction to Custom Filters\n",
        "While Typed-FFmpeg supports most of the FFmpeg filters out-of-the-box, there might be instances where you need to use filters that are not predefined in the library. For such cases, Typed-FFmpeg provides a flexible way to define and utilize custom filters.\n",
        "\n",
        "### Creating Single-input Custom Filters\n",
        "Easily create your own single-input custom filters with the `vfilter`, `afilter` method. This allows for direct application of new or specialized video filters not standard in Typed-FFmpeg."
      ]
    },
    {
      "cell_type": "code",
      "execution_count": 1,
      "metadata": {},
      "outputs": [
        {
          "data": {
            "image/png": "[encoded data removed]",
            "image/svg+xml": [
              "<?xml version=\"1.0\" encoding=\"UTF-8\" standalone=\"no\"?>\n",
              "<!DOCTYPE svg PUBLIC \"-//W3C//DTD SVG 1.1//EN\"\n",
              " \"http://www.w3.org/Graphics/SVG/1.1/DTD/svg11.dtd\">\n",
              "<!-- Generated by graphviz version 2.43.0 (0)\n",
              " -->\n",
              "<!-- Title: %3 Pages: 1 -->\n",
              "<svg width=\"439pt\" height=\"44pt\"\n",
              " viewBox=\"0.00 0.00 439.00 44.00\" xmlns=\"http://www.w3.org/2000/svg\" xmlns:xlink=\"http://www.w3.org/1999/xlink\">\n",
              "<g id=\"graph0\" class=\"graph\" transform=\"scale(1 1) rotate(0) translate(4 40)\">\n",
              "<title>%3</title>\n",
              "<polygon fill=\"white\" stroke=\"transparent\" points=\"-4,4 -4,-40 435,-40 435,4 -4,4\"/>\n",
              "<!-- 6ee75bf8c2cf393b -->\n",
              "<g id=\"node1\" class=\"node\">\n",
              "<title>6ee75bf8c2cf393b</title>\n",
              "<polygon fill=\"#99cc00\" stroke=\"black\" points=\"77,-36 0,-36 0,0 77,0 77,-36\"/>\n",
              "<text text-anchor=\"middle\" x=\"38.5\" y=\"-14.9\" font-family=\"Helvetica,sans-Serif\" font-size=\"12.00\">input.mp4</text>\n",
              "</g>\n",
              "<!-- 7a8e1d77a3630e14 -->\n",
              "<g id=\"node2\" class=\"node\">\n",
              "<title>7a8e1d77a3630e14</title>\n",
              "<polygon fill=\"#ffcc00\" stroke=\"black\" points=\"257,-36 162,-36 162,0 257,0 257,-36\"/>\n",
              "<text text-anchor=\"middle\" x=\"209.5\" y=\"-14.9\" font-family=\"Helvetica,sans-Serif\" font-size=\"12.00\">custom_filter</text>\n",
              "</g>\n",
              "<!-- 6ee75bf8c2cf393b&#45;&gt;7a8e1d77a3630e14 -->\n",
              "<g id=\"edge1\" class=\"edge\">\n",
              "<title>6ee75bf8c2cf393b&#45;&gt;7a8e1d77a3630e14</title>\n",
              "<path fill=\"none\" stroke=\"black\" d=\"M77.01,-18C98.87,-18 126.9,-18 151.45,-18\"/>\n",
              "<polygon fill=\"black\" stroke=\"black\" points=\"151.74,-21.5 161.74,-18 151.74,-14.5 151.74,-21.5\"/>\n",
              "<text text-anchor=\"middle\" x=\"119.5\" y=\"-21.8\" font-family=\"Times,serif\" font-size=\"14.00\">* =&gt; 0</text>\n",
              "</g>\n",
              "<!-- 7655b3392ecb235a -->\n",
              "<g id=\"node3\" class=\"node\">\n",
              "<title>7655b3392ecb235a</title>\n",
              "<polygon fill=\"#99ccff\" stroke=\"black\" points=\"431,-36 345,-36 345,0 431,0 431,-36\"/>\n",
              "<text text-anchor=\"middle\" x=\"388\" y=\"-14.9\" font-family=\"Helvetica,sans-Serif\" font-size=\"12.00\">output.mp4</text>\n",
              "</g>\n",
              "<!-- 7a8e1d77a3630e14&#45;&gt;7655b3392ecb235a -->\n",
              "<g id=\"edge2\" class=\"edge\">\n",
              "<title>7a8e1d77a3630e14&#45;&gt;7655b3392ecb235a</title>\n",
              "<path fill=\"none\" stroke=\"black\" d=\"M257.34,-18C281.11,-18 310.06,-18 334.57,-18\"/>\n",
              "<polygon fill=\"black\" stroke=\"black\" points=\"334.78,-21.5 344.78,-18 334.78,-14.5 334.78,-21.5\"/>\n",
              "<text text-anchor=\"middle\" x=\"301\" y=\"-21.8\" font-family=\"Times,serif\" font-size=\"14.00\">0 =&gt; 0</text>\n",
              "</g>\n",
              "</g>\n",
              "</svg>\n"
            ],
            "text/plain": [
              "OutputStream(node=OutputNode(kwargs=(), inputs=(VideoStream(node=FilterNode(kwargs=(('option1', 'value1'), ('option2', 'value2')), inputs=(AVStream(node=InputNode(kwargs=(), inputs=(), filename='input.mp4'), index=None),), name='custom_filter', input_typings=(<StreamType.video: 'video'>,), output_typings=(<StreamType.video: 'video'>,)), index=0),), filename='output.mp4'), index=None)"
            ]
          },
          "execution_count": 1,
          "metadata": {},
          "output_type": "execute_result"
        }
      ],
      "source": [
        "import ffmpeg\n",
        "\n",
        "# Apply a custom single-input video filter\n",
        "(\n",
        "    ffmpeg.input(\"input.mp4\")\n",
        "    .vfilter(name=\"custom_filter\", option1=\"value1\", option2=\"value2\")  # Apply \"custom_filter\" with specified options\n",
        "    .output(filename=\"output.mp4\")\n",
        ")"
      ]
    },
    {
      "cell_type": "markdown",
      "metadata": {},
      "source": [
        "This code snippet will correspond to the following FFmpeg command line:"
      ]
    },
    {
      "cell_type": "code",
      "execution_count": 2,
      "metadata": {},
      "outputs": [
        {
          "data": {
            "text/plain": [
              "\"ffmpeg -i input.mp4 -filter_complex '[0]custom_filter=option1=value1:option2=value2[s0]' -map '[s0]' output.mp4\""
            ]
          },
          "execution_count": 2,
          "metadata": {},
          "output_type": "execute_result"
        }
      ],
      "source": [
        "(\n",
        "    ffmpeg.input(\"input.mp4\")\n",
        "    .vfilter(name=\"custom_filter\", option1=\"value1\", option2=\"value2\")  # Apply \"custom_filter\" with specified options\n",
        "    .output(filename=\"output.mp4\")\n",
        ").compile_line()"
      ]
    },
    {
      "cell_type": "markdown",
      "metadata": {},
      "source": [
        "Alternatively:\n"
      ]
    },
    {
      "cell_type": "code",
      "execution_count": 3,
      "metadata": {},
      "outputs": [
        {
          "data": {
            "image/png": "[encoded data removed]",
            "image/svg+xml": [
              "<?xml version=\"1.0\" encoding=\"UTF-8\" standalone=\"no\"?>\n",
              "<!DOCTYPE svg PUBLIC \"-//W3C//DTD SVG 1.1//EN\"\n",
              " \"http://www.w3.org/Graphics/SVG/1.1/DTD/svg11.dtd\">\n",
              "<!-- Generated by graphviz version 2.43.0 (0)\n",
              " -->\n",
              "<!-- Title: %3 Pages: 1 -->\n",
              "<svg width=\"303pt\" height=\"44pt\"\n",
              " viewBox=\"0.00 0.00 303.00 44.00\" xmlns=\"http://www.w3.org/2000/svg\" xmlns:xlink=\"http://www.w3.org/1999/xlink\">\n",
              "<g id=\"graph0\" class=\"graph\" transform=\"scale(1 1) rotate(0) translate(4 40)\">\n",
              "<title>%3</title>\n",
              "<polygon fill=\"white\" stroke=\"transparent\" points=\"-4,4 -4,-40 299,-40 299,4 -4,4\"/>\n",
              "<!-- 6ee75bf8c2cf393b -->\n",
              "<g id=\"node1\" class=\"node\">\n",
              "<title>6ee75bf8c2cf393b</title>\n",
              "<polygon fill=\"#99cc00\" stroke=\"black\" points=\"77,-36 0,-36 0,0 77,0 77,-36\"/>\n",
              "<text text-anchor=\"middle\" x=\"38.5\" y=\"-14.9\" font-family=\"Helvetica,sans-Serif\" font-size=\"12.00\">input.mp4</text>\n",
              "</g>\n",
              "<!-- 6b1a08fca6d34bd7 -->\n",
              "<g id=\"node2\" class=\"node\">\n",
              "<title>6b1a08fca6d34bd7</title>\n",
              "<polygon fill=\"#ffcc00\" stroke=\"black\" points=\"295,-36 162,-36 162,0 295,0 295,-36\"/>\n",
              "<text text-anchor=\"middle\" x=\"228.5\" y=\"-14.9\" font-family=\"Helvetica,sans-Serif\" font-size=\"12.00\">custom_video_filter</text>\n",
              "</g>\n",
              "<!-- 6ee75bf8c2cf393b&#45;&gt;6b1a08fca6d34bd7 -->\n",
              "<g id=\"edge1\" class=\"edge\">\n",
              "<title>6ee75bf8c2cf393b&#45;&gt;6b1a08fca6d34bd7</title>\n",
              "<path fill=\"none\" stroke=\"black\" d=\"M77.09,-18C98.47,-18 126.03,-18 151.7,-18\"/>\n",
              "<polygon fill=\"black\" stroke=\"black\" points=\"151.81,-21.5 161.81,-18 151.81,-14.5 151.81,-21.5\"/>\n",
              "<text text-anchor=\"middle\" x=\"119.5\" y=\"-21.8\" font-family=\"Times,serif\" font-size=\"14.00\">* =&gt; 0</text>\n",
              "</g>\n",
              "</g>\n",
              "</svg>\n"
            ],
            "text/plain": [
              "VideoStream(node=FilterNode(kwargs=(('option1', 'value1'), ('option2', 'value2')), inputs=(AVStream(node=InputNode(kwargs=(), inputs=(), filename='input.mp4'), index=None),), name='custom_video_filter', input_typings=(<StreamType.video: 'video'>,), output_typings=(<StreamType.video: 'video'>,)), index=0)"
            ]
          },
          "execution_count": 3,
          "metadata": {},
          "output_type": "execute_result"
        }
      ],
      "source": [
        "import ffmpeg\n",
        "\n",
        "# Define a custom video filter for later use\n",
        "ffmpeg.vfilter(\n",
        "    ffmpeg.input(\"input.mp4\"),\n",
        "    name=\"custom_video_filter\",\n",
        "    option1=\"value1\",\n",
        "    option2=\"value2\"\n",
        ")"
      ]
    },
    {
      "cell_type": "markdown",
      "metadata": {},
      "source": [
        "\n",
        "### Implementing Multi-input Custom Filters\n",
        "For filters that require multiple inputs, specify the type of each input using the `input_typings` parameter to ensure correct stream handling.\n"
      ]
    },
    {
      "cell_type": "code",
      "execution_count": 4,
      "metadata": {},
      "outputs": [
        {
          "data": {
            "image/png": "[encoded data removed]",
            "image/svg+xml": [
              "<?xml version=\"1.0\" encoding=\"UTF-8\" standalone=\"no\"?>\n",
              "<!DOCTYPE svg PUBLIC \"-//W3C//DTD SVG 1.1//EN\"\n",
              " \"http://www.w3.org/Graphics/SVG/1.1/DTD/svg11.dtd\">\n",
              "<!-- Generated by graphviz version 2.43.0 (0)\n",
              " -->\n",
              "<!-- Title: %3 Pages: 1 -->\n",
              "<svg width=\"311pt\" height=\"98pt\"\n",
              " viewBox=\"0.00 0.00 311.00 98.00\" xmlns=\"http://www.w3.org/2000/svg\" xmlns:xlink=\"http://www.w3.org/1999/xlink\">\n",
              "<g id=\"graph0\" class=\"graph\" transform=\"scale(1 1) rotate(0) translate(4 94)\">\n",
              "<title>%3</title>\n",
              "<polygon fill=\"white\" stroke=\"transparent\" points=\"-4,4 -4,-94 307,-94 307,4 -4,4\"/>\n",
              "<!-- 7d40c273a7b8f96c -->\n",
              "<g id=\"node1\" class=\"node\">\n",
              "<title>7d40c273a7b8f96c</title>\n",
              "<polygon fill=\"#99cc00\" stroke=\"black\" points=\"85,-90 0,-90 0,-54 85,-54 85,-90\"/>\n",
              "<text text-anchor=\"middle\" x=\"42.5\" y=\"-68.9\" font-family=\"Helvetica,sans-Serif\" font-size=\"12.00\">input1.mp4</text>\n",
              "</g>\n",
              "<!-- 5878e744793c8b3e -->\n",
              "<g id=\"node3\" class=\"node\">\n",
              "<title>5878e744793c8b3e</title>\n",
              "<polygon fill=\"#ffcc00\" stroke=\"black\" points=\"303,-63 170,-63 170,-27 303,-27 303,-63\"/>\n",
              "<text text-anchor=\"middle\" x=\"236.5\" y=\"-41.9\" font-family=\"Helvetica,sans-Serif\" font-size=\"12.00\">custom_video_filter</text>\n",
              "</g>\n",
              "<!-- 7d40c273a7b8f96c&#45;&gt;5878e744793c8b3e -->\n",
              "<g id=\"edge1\" class=\"edge\">\n",
              "<title>7d40c273a7b8f96c&#45;&gt;5878e744793c8b3e</title>\n",
              "<path fill=\"none\" stroke=\"black\" d=\"M85.16,-66.14C106.97,-63.07 134.36,-59.22 159.77,-55.65\"/>\n",
              "<polygon fill=\"black\" stroke=\"black\" points=\"160.35,-59.1 169.76,-54.24 159.37,-52.17 160.35,-59.1\"/>\n",
              "<text text-anchor=\"middle\" x=\"127.5\" y=\"-66.8\" font-family=\"Times,serif\" font-size=\"14.00\">* =&gt; 0</text>\n",
              "</g>\n",
              "<!-- 3cd1760fc481ee83 -->\n",
              "<g id=\"node2\" class=\"node\">\n",
              "<title>3cd1760fc481ee83</title>\n",
              "<polygon fill=\"#99cc00\" stroke=\"black\" points=\"85,-36 0,-36 0,0 85,0 85,-36\"/>\n",
              "<text text-anchor=\"middle\" x=\"42.5\" y=\"-14.9\" font-family=\"Helvetica,sans-Serif\" font-size=\"12.00\">input2.mp4</text>\n",
              "</g>\n",
              "<!-- 3cd1760fc481ee83&#45;&gt;5878e744793c8b3e -->\n",
              "<g id=\"edge2\" class=\"edge\">\n",
              "<title>3cd1760fc481ee83&#45;&gt;5878e744793c8b3e</title>\n",
              "<path fill=\"none\" stroke=\"black\" d=\"M85.16,-23.86C106.97,-26.93 134.36,-30.78 159.77,-34.35\"/>\n",
              "<polygon fill=\"black\" stroke=\"black\" points=\"159.37,-37.83 169.76,-35.76 160.35,-30.9 159.37,-37.83\"/>\n",
              "<text text-anchor=\"middle\" x=\"127.5\" y=\"-36.8\" font-family=\"Times,serif\" font-size=\"14.00\">* =&gt; 1</text>\n",
              "</g>\n",
              "</g>\n",
              "</svg>\n"
            ],
            "text/plain": [
              "VideoStream(node=FilterNode(kwargs=(), inputs=(AVStream(node=InputNode(kwargs=(), inputs=(), filename='input1.mp4'), index=None), AVStream(node=InputNode(kwargs=(), inputs=(), filename='input2.mp4'), index=None)), name='custom_video_filter', input_typings=(<StreamType.video: 'video'>, <StreamType.video: 'video'>), output_typings=(<StreamType.video: 'video'>,)), index=0)"
            ]
          },
          "execution_count": 4,
          "metadata": {},
          "output_type": "execute_result"
        }
      ],
      "source": [
        "import ffmpeg\n",
        "from ffmpeg.schema import StreamType\n",
        "\n",
        "# Create a multi-input custom video filter\n",
        "(\n",
        "    ffmpeg.input(\"input1.mp4\")\n",
        "    .vfilter(\n",
        "        ffmpeg.input(\"input2.mp4\"),\n",
        "        name=\"custom_video_filter\",\n",
        "        input_typings=(StreamType.video, StreamType.video),\n",
        "    )\n",
        ")"
      ]
    },
    {
      "cell_type": "markdown",
      "metadata": {},
      "source": [
        "Alternatively, use the `vfilter`, `afilter` function directly for multi-input scenarios:\n"
      ]
    },
    {
      "cell_type": "code",
      "execution_count": 5,
      "metadata": {},
      "outputs": [
        {
          "data": {
            "image/png": "[encoded data removed]",
            "image/svg+xml": [
              "<?xml version=\"1.0\" encoding=\"UTF-8\" standalone=\"no\"?>\n",
              "<!DOCTYPE svg PUBLIC \"-//W3C//DTD SVG 1.1//EN\"\n",
              " \"http://www.w3.org/Graphics/SVG/1.1/DTD/svg11.dtd\">\n",
              "<!-- Generated by graphviz version 2.43.0 (0)\n",
              " -->\n",
              "<!-- Title: %3 Pages: 1 -->\n",
              "<svg width=\"311pt\" height=\"98pt\"\n",
              " viewBox=\"0.00 0.00 311.00 98.00\" xmlns=\"http://www.w3.org/2000/svg\" xmlns:xlink=\"http://www.w3.org/1999/xlink\">\n",
              "<g id=\"graph0\" class=\"graph\" transform=\"scale(1 1) rotate(0) translate(4 94)\">\n",
              "<title>%3</title>\n",
              "<polygon fill=\"white\" stroke=\"transparent\" points=\"-4,4 -4,-94 307,-94 307,4 -4,4\"/>\n",
              "<!-- 7d40c273a7b8f96c -->\n",
              "<g id=\"node1\" class=\"node\">\n",
              "<title>7d40c273a7b8f96c</title>\n",
              "<polygon fill=\"#99cc00\" stroke=\"black\" points=\"85,-90 0,-90 0,-54 85,-54 85,-90\"/>\n",
              "<text text-anchor=\"middle\" x=\"42.5\" y=\"-68.9\" font-family=\"Helvetica,sans-Serif\" font-size=\"12.00\">input1.mp4</text>\n",
              "</g>\n",
              "<!-- 5878e744793c8b3e -->\n",
              "<g id=\"node3\" class=\"node\">\n",
              "<title>5878e744793c8b3e</title>\n",
              "<polygon fill=\"#ffcc00\" stroke=\"black\" points=\"303,-63 170,-63 170,-27 303,-27 303,-63\"/>\n",
              "<text text-anchor=\"middle\" x=\"236.5\" y=\"-41.9\" font-family=\"Helvetica,sans-Serif\" font-size=\"12.00\">custom_video_filter</text>\n",
              "</g>\n",
              "<!-- 7d40c273a7b8f96c&#45;&gt;5878e744793c8b3e -->\n",
              "<g id=\"edge1\" class=\"edge\">\n",
              "<title>7d40c273a7b8f96c&#45;&gt;5878e744793c8b3e</title>\n",
              "<path fill=\"none\" stroke=\"black\" d=\"M85.16,-66.14C106.97,-63.07 134.36,-59.22 159.77,-55.65\"/>\n",
              "<polygon fill=\"black\" stroke=\"black\" points=\"160.35,-59.1 169.76,-54.24 159.37,-52.17 160.35,-59.1\"/>\n",
              "<text text-anchor=\"middle\" x=\"127.5\" y=\"-66.8\" font-family=\"Times,serif\" font-size=\"14.00\">* =&gt; 0</text>\n",
              "</g>\n",
              "<!-- 3cd1760fc481ee83 -->\n",
              "<g id=\"node2\" class=\"node\">\n",
              "<title>3cd1760fc481ee83</title>\n",
              "<polygon fill=\"#99cc00\" stroke=\"black\" points=\"85,-36 0,-36 0,0 85,0 85,-36\"/>\n",
              "<text text-anchor=\"middle\" x=\"42.5\" y=\"-14.9\" font-family=\"Helvetica,sans-Serif\" font-size=\"12.00\">input2.mp4</text>\n",
              "</g>\n",
              "<!-- 3cd1760fc481ee83&#45;&gt;5878e744793c8b3e -->\n",
              "<g id=\"edge2\" class=\"edge\">\n",
              "<title>3cd1760fc481ee83&#45;&gt;5878e744793c8b3e</title>\n",
              "<path fill=\"none\" stroke=\"black\" d=\"M85.16,-23.86C106.97,-26.93 134.36,-30.78 159.77,-34.35\"/>\n",
              "<polygon fill=\"black\" stroke=\"black\" points=\"159.37,-37.83 169.76,-35.76 160.35,-30.9 159.37,-37.83\"/>\n",
              "<text text-anchor=\"middle\" x=\"127.5\" y=\"-36.8\" font-family=\"Times,serif\" font-size=\"14.00\">* =&gt; 1</text>\n",
              "</g>\n",
              "</g>\n",
              "</svg>\n"
            ],
            "text/plain": [
              "VideoStream(node=FilterNode(kwargs=(), inputs=(AVStream(node=InputNode(kwargs=(), inputs=(), filename='input1.mp4'), index=None), AVStream(node=InputNode(kwargs=(), inputs=(), filename='input2.mp4'), index=None)), name='custom_video_filter', input_typings=(<StreamType.video: 'video'>, <StreamType.video: 'video'>), output_typings=(<StreamType.video: 'video'>,)), index=0)"
            ]
          },
          "execution_count": 5,
          "metadata": {},
          "output_type": "execute_result"
        }
      ],
      "source": [
        "import ffmpeg\n",
        "from ffmpeg.schema import StreamType\n",
        "\n",
        "# Define and apply a multi-input custom video filter\n",
        "ffmpeg.vfilter(\n",
        "    ffmpeg.input(\"input1.mp4\"),\n",
        "    ffmpeg.input(\"input2.mp4\"),\n",
        "    name=\"custom_video_filter\",\n",
        "    input_typings=(StreamType.video, StreamType.video),\n",
        ")"
      ]
    },
    {
      "cell_type": "markdown",
      "metadata": {},
      "source": [
        "\n",
        "### Defining Multi-output Custom Filters\n",
        "In cases where a filter generates multiple outputs, use `ffmpeg.filter_multi_output` function and specify the expected types of these outputs using the `output_typings` parameter. This feature is particularly useful for filters that split the input stream into several output streams.\n"
      ]
    },
    {
      "cell_type": "code",
      "execution_count": 6,
      "metadata": {},
      "outputs": [
        {
          "data": {
            "image/png": "[encoded data removed]",
            "image/svg+xml": [
              "<?xml version=\"1.0\" encoding=\"UTF-8\" standalone=\"no\"?>\n",
              "<!DOCTYPE svg PUBLIC \"-//W3C//DTD SVG 1.1//EN\"\n",
              " \"http://www.w3.org/Graphics/SVG/1.1/DTD/svg11.dtd\">\n",
              "<!-- Generated by graphviz version 2.43.0 (0)\n",
              " -->\n",
              "<!-- Title: %3 Pages: 1 -->\n",
              "<svg width=\"269pt\" height=\"44pt\"\n",
              " viewBox=\"0.00 0.00 269.00 44.00\" xmlns=\"http://www.w3.org/2000/svg\" xmlns:xlink=\"http://www.w3.org/1999/xlink\">\n",
              "<g id=\"graph0\" class=\"graph\" transform=\"scale(1 1) rotate(0) translate(4 40)\">\n",
              "<title>%3</title>\n",
              "<polygon fill=\"white\" stroke=\"transparent\" points=\"-4,4 -4,-40 265,-40 265,4 -4,4\"/>\n",
              "<!-- 7d40c273a7b8f96c -->\n",
              "<g id=\"node1\" class=\"node\">\n",
              "<title>7d40c273a7b8f96c</title>\n",
              "<polygon fill=\"#99cc00\" stroke=\"black\" points=\"85,-36 0,-36 0,0 85,0 85,-36\"/>\n",
              "<text text-anchor=\"middle\" x=\"42.5\" y=\"-14.9\" font-family=\"Helvetica,sans-Serif\" font-size=\"12.00\">input1.mp4</text>\n",
              "</g>\n",
              "<!-- 4a9c0e8254f4d3ff -->\n",
              "<g id=\"node2\" class=\"node\">\n",
              "<title>4a9c0e8254f4d3ff</title>\n",
              "<polygon fill=\"#ffcc00\" stroke=\"black\" points=\"261,-36 170,-36 170,0 261,0 261,-36\"/>\n",
              "<text text-anchor=\"middle\" x=\"215.5\" y=\"-14.9\" font-family=\"Helvetica,sans-Serif\" font-size=\"12.00\">custom_split</text>\n",
              "</g>\n",
              "<!-- 7d40c273a7b8f96c&#45;&gt;4a9c0e8254f4d3ff -->\n",
              "<g id=\"edge1\" class=\"edge\">\n",
              "<title>7d40c273a7b8f96c&#45;&gt;4a9c0e8254f4d3ff</title>\n",
              "<path fill=\"none\" stroke=\"black\" d=\"M85.33,-18C107.74,-18 135.62,-18 159.73,-18\"/>\n",
              "<polygon fill=\"black\" stroke=\"black\" points=\"159.81,-21.5 169.81,-18 159.81,-14.5 159.81,-21.5\"/>\n",
              "<text text-anchor=\"middle\" x=\"127.5\" y=\"-21.8\" font-family=\"Times,serif\" font-size=\"14.00\">* =&gt; 0</text>\n",
              "</g>\n",
              "</g>\n",
              "</svg>\n"
            ],
            "text/plain": [
              "FilterNode(kwargs=(('output_typings', (<StreamType.video: 'video'>, <StreamType.video: 'video'>)),), inputs=(AVStream(node=InputNode(kwargs=(), inputs=(), filename='input1.mp4'), index=None),), name='custom_split', input_typings=(<StreamType.video: 'video'>,), output_typings=())"
            ]
          },
          "execution_count": 6,
          "metadata": {},
          "output_type": "execute_result"
        }
      ],
      "source": [
        "import ffmpeg\n",
        "from ffmpeg.schema import StreamType\n",
        "\n",
        "# Create a custom filter that yields multiple outputs\n",
        "ffmpeg.filter_multi_output(\n",
        "    ffmpeg.input(\"input1.mp4\"),\n",
        "    name=\"custom_split\",\n",
        "    input_typings=(StreamType.video,),\n",
        "    output_typings=(StreamType.video, StreamType.video),\n",
        ")\n"
      ]
    },
    {
      "cell_type": "markdown",
      "metadata": {},
      "source": [
        "By following these guidelines, you can extend the functionality of Typed-FFmpeg to accommodate any specific filtering needs, ensuring maximum flexibility and efficiency in your video processing tasks.\n"
      ]
    }
  ],
  "metadata": {
    "kernelspec": {
      "display_name": ".venv",
      "language": "python",
      "name": "python3"
    },
    "language_info": {
      "codemirror_mode": {
        "name": "ipython",
        "version": 3
      },
      "file_extension": ".py",
      "mimetype": "text/x-python",
      "name": "python",
      "nbconvert_exporter": "python",
      "pygments_lexer": "ipython3",
      "version": "3.10.13"
    }
  },
  "nbformat": 4,
  "nbformat_minor": 2
}
