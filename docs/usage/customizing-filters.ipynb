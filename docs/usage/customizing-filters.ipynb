{
 "cells": [
  {
   "cell_type": "markdown",
   "metadata": {},
   "source": [
    "## Customizing Filters in Typed-FFmpeg\n",
    "\n",
    "### Introduction to Custom Filters\n",
    "While Typed-FFmpeg supports most of the FFmpeg filters out-of-the-box, there might be instances where you need to use filters that are not predefined in the library. For such cases, Typed-FFmpeg provides a flexible way to define and utilize custom filters.\n",
    "\n",
    "### Creating Single-input Custom Filters\n",
    "Easily create your own single-input custom filters with the `vfilter`, `afilter` method. This allows for direct application of new or specialized video filters not standard in Typed-FFmpeg."
   ]
  },
  {
   "cell_type": "code",
   "execution_count": 23,
   "metadata": {},
   "outputs": [
    {
     "name": "stdout",
     "output_type": "stream",
     "text": [
      "Exception reporting mode: Minimal\n"
     ]
    },
    {
     "data": {
      "image/png": "[encoded data removed]",
      "image/svg+xml": [
       "<?xml version=\"1.0\" encoding=\"UTF-8\" standalone=\"no\"?>\n",
       "<!DOCTYPE svg PUBLIC \"-//W3C//DTD SVG 1.1//EN\"\n",
       " \"http://www.w3.org/Graphics/SVG/1.1/DTD/svg11.dtd\">\n",
       "<!-- Generated by graphviz version 2.43.0 (0)\n",
       " -->\n",
       "<!-- Title: %3 Pages: 1 -->\n",
       "<svg width=\"760pt\" height=\"44pt\"\n",
       " viewBox=\"0.00 0.00 760.00 44.00\" xmlns=\"http://www.w3.org/2000/svg\" xmlns:xlink=\"http://www.w3.org/1999/xlink\">\n",
       "<g id=\"graph0\" class=\"graph\" transform=\"scale(1 1) rotate(0) translate(4 40)\">\n",
       "<title>%3</title>\n",
       "<polygon fill=\"white\" stroke=\"transparent\" points=\"-4,4 -4,-40 756,-40 756,4 -4,4\"/>\n",
       "<!-- 604ab03321d8ab8f -->\n",
       "<g id=\"node1\" class=\"node\">\n",
       "<title>604ab03321d8ab8f</title>\n",
       "<polygon fill=\"#99cc00\" stroke=\"black\" points=\"89,-36 0,-36 0,0 89,0 89,-36\"/>\n",
       "<text text-anchor=\"middle\" x=\"44.5\" y=\"-14.9\" font-family=\"Helvetica,sans-Serif\" font-size=\"12.00\">&#45;i input.mp4</text>\n",
       "</g>\n",
       "<!-- 4a9c5cba9739f997 -->\n",
       "<g id=\"node2\" class=\"node\">\n",
       "<title>4a9c5cba9739f997</title>\n",
       "<polygon fill=\"#ffcc00\" stroke=\"black\" points=\"516,-36 169,-36 169,0 516,0 516,-36\"/>\n",
       "<text text-anchor=\"middle\" x=\"342.5\" y=\"-14.9\" font-family=\"Helvetica,sans-Serif\" font-size=\"12.00\">[0] custom_filter= option1=value1:option2=value2 [s0]</text>\n",
       "</g>\n",
       "<!-- 604ab03321d8ab8f&#45;&gt;4a9c5cba9739f997 -->\n",
       "<g id=\"edge1\" class=\"edge\">\n",
       "<title>604ab03321d8ab8f&#45;&gt;4a9c5cba9739f997</title>\n",
       "<path fill=\"none\" stroke=\"black\" d=\"M89.18,-18C108.55,-18 132.79,-18 158.52,-18\"/>\n",
       "<polygon fill=\"black\" stroke=\"black\" points=\"158.84,-21.5 168.84,-18 158.84,-14.5 158.84,-21.5\"/>\n",
       "<text text-anchor=\"middle\" x=\"129\" y=\"-21.8\" font-family=\"Times,serif\" font-size=\"14.00\">0 &#45;&gt; 0</text>\n",
       "</g>\n",
       "<!-- 58a0a4c9beb05c96 -->\n",
       "<g id=\"node3\" class=\"node\">\n",
       "<title>58a0a4c9beb05c96</title>\n",
       "<polygon fill=\"#99ccff\" stroke=\"black\" points=\"752,-36 604,-36 604,0 752,0 752,-36\"/>\n",
       "<text text-anchor=\"middle\" x=\"678\" y=\"-14.9\" font-family=\"Helvetica,sans-Serif\" font-size=\"12.00\">&#45;map [s0] output.mp4</text>\n",
       "</g>\n",
       "<!-- 4a9c5cba9739f997&#45;&gt;58a0a4c9beb05c96 -->\n",
       "<g id=\"edge2\" class=\"edge\">\n",
       "<title>4a9c5cba9739f997&#45;&gt;58a0a4c9beb05c96</title>\n",
       "<path fill=\"none\" stroke=\"black\" d=\"M516.11,-18C543.23,-18 570.14,-18 593.97,-18\"/>\n",
       "<polygon fill=\"black\" stroke=\"black\" points=\"593.99,-21.5 603.99,-18 593.99,-14.5 593.99,-21.5\"/>\n",
       "<text text-anchor=\"middle\" x=\"560\" y=\"-21.8\" font-family=\"Times,serif\" font-size=\"14.00\">s0 &#45;&gt; 0</text>\n",
       "</g>\n",
       "</g>\n",
       "</svg>\n"
      ],
      "text/plain": [
       "OutputStream(node=OutputNode(kwargs=FrozenDict({}), inputs=(VideoStream(node=FilterNode(kwargs=FrozenDict({'option1': 'value1', 'option2': 'value2'}), inputs=(AVStream(node=InputNode(kwargs=FrozenDict({}), inputs=(), filename='input.mp4'), index=None, optional=False),), name='custom_filter', input_typings=(<StreamType.video: 'video'>,), output_typings=(<StreamType.video: 'video'>,)), index=0, optional=False),), filename='output.mp4'), index=None, optional=False)"
      ]
     },
     "execution_count": 23,
     "metadata": {},
     "output_type": "execute_result"
    }
   ],
   "source": [
    "%xmode Minimal\n",
    "import ffmpeg\n",
    "\n",
    "# Apply a custom single-input video filter\n",
    "(\n",
    "    ffmpeg.input(\"input.mp4\")\n",
    "    .vfilter(\n",
    "        name=\"custom_filter\", option1=\"value1\", option2=\"value2\"\n",
    "    )  # Apply \"custom_filter\" with specified options\n",
    "    .output(filename=\"output.mp4\")\n",
    ")"
   ]
  },
  {
   "cell_type": "markdown",
   "metadata": {},
   "source": [
    "This code snippet will correspond to the following FFmpeg command line:"
   ]
  },
  {
   "cell_type": "code",
   "execution_count": 24,
   "metadata": {},
   "outputs": [
    {
     "data": {
      "text/plain": [
       "\"ffmpeg -i input.mp4 -filter_complex '[0]custom_filter=option1=value1:option2=value2[s0]' -map '[s0]' output.mp4\""
      ]
     },
     "execution_count": 24,
     "metadata": {},
     "output_type": "execute_result"
    }
   ],
   "source": [
    "(\n",
    "    ffmpeg.input(\"input.mp4\")\n",
    "    .vfilter(\n",
    "        name=\"custom_filter\", option1=\"value1\", option2=\"value2\"\n",
    "    )  # Apply \"custom_filter\" with specified options\n",
    "    .output(filename=\"output.mp4\")\n",
    ").compile_line()"
   ]
  },
  {
   "cell_type": "markdown",
   "metadata": {},
   "source": [
    "Alternatively:\n"
   ]
  },
  {
   "cell_type": "code",
   "execution_count": 25,
   "metadata": {},
   "outputs": [
    {
     "data": {
      "image/png": "[encoded data removed]",
      "image/svg+xml": [
       "<?xml version=\"1.0\" encoding=\"UTF-8\" standalone=\"no\"?>\n",
       "<!DOCTYPE svg PUBLIC \"-//W3C//DTD SVG 1.1//EN\"\n",
       " \"http://www.w3.org/Graphics/SVG/1.1/DTD/svg11.dtd\">\n",
       "<!-- Generated by graphviz version 2.43.0 (0)\n",
       " -->\n",
       "<!-- Title: %3 Pages: 1 -->\n",
       "<svg width=\"540pt\" height=\"44pt\"\n",
       " viewBox=\"0.00 0.00 540.00 44.00\" xmlns=\"http://www.w3.org/2000/svg\" xmlns:xlink=\"http://www.w3.org/1999/xlink\">\n",
       "<g id=\"graph0\" class=\"graph\" transform=\"scale(1 1) rotate(0) translate(4 40)\">\n",
       "<title>%3</title>\n",
       "<polygon fill=\"white\" stroke=\"transparent\" points=\"-4,4 -4,-40 536,-40 536,4 -4,4\"/>\n",
       "<!-- 604ab03321d8ab8f -->\n",
       "<g id=\"node1\" class=\"node\">\n",
       "<title>604ab03321d8ab8f</title>\n",
       "<polygon fill=\"#99cc00\" stroke=\"black\" points=\"89,-36 0,-36 0,0 89,0 89,-36\"/>\n",
       "<text text-anchor=\"middle\" x=\"44.5\" y=\"-14.9\" font-family=\"Helvetica,sans-Serif\" font-size=\"12.00\">&#45;i input.mp4</text>\n",
       "</g>\n",
       "<!-- 19a46f1d094c55d1 -->\n",
       "<g id=\"node2\" class=\"node\">\n",
       "<title>19a46f1d094c55d1</title>\n",
       "<polygon fill=\"#ffcc00\" stroke=\"black\" points=\"532,-36 169,-36 169,0 532,0 532,-36\"/>\n",
       "<text text-anchor=\"middle\" x=\"350.5\" y=\"-14.9\" font-family=\"Helvetica,sans-Serif\" font-size=\"12.00\">[0] custom_video_filter= option1=value1:option2=value2 </text>\n",
       "</g>\n",
       "<!-- 604ab03321d8ab8f&#45;&gt;19a46f1d094c55d1 -->\n",
       "<g id=\"edge1\" class=\"edge\">\n",
       "<title>604ab03321d8ab8f&#45;&gt;19a46f1d094c55d1</title>\n",
       "<path fill=\"none\" stroke=\"black\" d=\"M89.06,-18C108.49,-18 132.86,-18 158.85,-18\"/>\n",
       "<polygon fill=\"black\" stroke=\"black\" points=\"158.88,-21.5 168.88,-18 158.88,-14.5 158.88,-21.5\"/>\n",
       "<text text-anchor=\"middle\" x=\"129\" y=\"-21.8\" font-family=\"Times,serif\" font-size=\"14.00\">0 &#45;&gt; 0</text>\n",
       "</g>\n",
       "</g>\n",
       "</svg>\n"
      ],
      "text/plain": [
       "VideoStream(node=FilterNode(kwargs=FrozenDict({'option1': 'value1', 'option2': 'value2'}), inputs=(AVStream(node=InputNode(kwargs=FrozenDict({}), inputs=(), filename='input.mp4'), index=None, optional=False),), name='custom_video_filter', input_typings=(<StreamType.video: 'video'>,), output_typings=(<StreamType.video: 'video'>,)), index=0, optional=False)"
      ]
     },
     "execution_count": 25,
     "metadata": {},
     "output_type": "execute_result"
    }
   ],
   "source": [
    "import ffmpeg\n",
    "\n",
    "# Define a custom video filter for later use\n",
    "ffmpeg.vfilter(\n",
    "    ffmpeg.input(\"input.mp4\"),\n",
    "    name=\"custom_video_filter\",\n",
    "    option1=\"value1\",\n",
    "    option2=\"value2\",\n",
    ")"
   ]
  },
  {
   "cell_type": "markdown",
   "metadata": {},
   "source": [
    "\n",
    "### Implementing Multi-input Custom Filters\n",
    "For filters that require multiple inputs, specify the type of each input using the `input_typings` parameter to ensure correct stream handling.\n"
   ]
  },
  {
   "cell_type": "code",
   "execution_count": 26,
   "metadata": {},
   "outputs": [
    {
     "data": {
      "image/png": "[encoded data removed]",
      "image/svg+xml": [
       "<?xml version=\"1.0\" encoding=\"UTF-8\" standalone=\"no\"?>\n",
       "<!DOCTYPE svg PUBLIC \"-//W3C//DTD SVG 1.1//EN\"\n",
       " \"http://www.w3.org/Graphics/SVG/1.1/DTD/svg11.dtd\">\n",
       "<!-- Generated by graphviz version 2.43.0 (0)\n",
       " -->\n",
       "<!-- Title: %3 Pages: 1 -->\n",
       "<svg width=\"357pt\" height=\"98pt\"\n",
       " viewBox=\"0.00 0.00 357.00 98.00\" xmlns=\"http://www.w3.org/2000/svg\" xmlns:xlink=\"http://www.w3.org/1999/xlink\">\n",
       "<g id=\"graph0\" class=\"graph\" transform=\"scale(1 1) rotate(0) translate(4 94)\">\n",
       "<title>%3</title>\n",
       "<polygon fill=\"white\" stroke=\"transparent\" points=\"-4,4 -4,-94 353,-94 353,4 -4,4\"/>\n",
       "<!-- 4365f434cb9d947c -->\n",
       "<g id=\"node1\" class=\"node\">\n",
       "<title>4365f434cb9d947c</title>\n",
       "<polygon fill=\"#99cc00\" stroke=\"black\" points=\"96,-90 0,-90 0,-54 96,-54 96,-90\"/>\n",
       "<text text-anchor=\"middle\" x=\"48\" y=\"-68.9\" font-family=\"Helvetica,sans-Serif\" font-size=\"12.00\">&#45;i input1.mp4</text>\n",
       "</g>\n",
       "<!-- 2dec9b05adba945f -->\n",
       "<g id=\"node3\" class=\"node\">\n",
       "<title>2dec9b05adba945f</title>\n",
       "<polygon fill=\"#ffcc00\" stroke=\"black\" points=\"349,-63 176,-63 176,-27 349,-27 349,-63\"/>\n",
       "<text text-anchor=\"middle\" x=\"262.5\" y=\"-41.9\" font-family=\"Helvetica,sans-Serif\" font-size=\"12.00\">[0][1] custom_video_filter </text>\n",
       "</g>\n",
       "<!-- 4365f434cb9d947c&#45;&gt;2dec9b05adba945f -->\n",
       "<g id=\"edge1\" class=\"edge\">\n",
       "<title>4365f434cb9d947c&#45;&gt;2dec9b05adba945f</title>\n",
       "<path fill=\"none\" stroke=\"black\" d=\"M96.16,-66.01C116.79,-63.39 141.79,-60.21 166.02,-57.13\"/>\n",
       "<polygon fill=\"black\" stroke=\"black\" points=\"166.51,-60.6 175.99,-55.87 165.63,-53.65 166.51,-60.6\"/>\n",
       "<text text-anchor=\"middle\" x=\"136\" y=\"-66.8\" font-family=\"Times,serif\" font-size=\"14.00\">0 &#45;&gt; 0</text>\n",
       "</g>\n",
       "<!-- 1a9957d0ad34d0c6 -->\n",
       "<g id=\"node2\" class=\"node\">\n",
       "<title>1a9957d0ad34d0c6</title>\n",
       "<polygon fill=\"#99cc00\" stroke=\"black\" points=\"96,-36 0,-36 0,0 96,0 96,-36\"/>\n",
       "<text text-anchor=\"middle\" x=\"48\" y=\"-14.9\" font-family=\"Helvetica,sans-Serif\" font-size=\"12.00\">&#45;i input2.mp4</text>\n",
       "</g>\n",
       "<!-- 1a9957d0ad34d0c6&#45;&gt;2dec9b05adba945f -->\n",
       "<g id=\"edge2\" class=\"edge\">\n",
       "<title>1a9957d0ad34d0c6&#45;&gt;2dec9b05adba945f</title>\n",
       "<path fill=\"none\" stroke=\"black\" d=\"M96.16,-23.99C116.79,-26.61 141.79,-29.79 166.02,-32.87\"/>\n",
       "<polygon fill=\"black\" stroke=\"black\" points=\"165.63,-36.35 175.99,-34.13 166.51,-29.4 165.63,-36.35\"/>\n",
       "<text text-anchor=\"middle\" x=\"136\" y=\"-34.8\" font-family=\"Times,serif\" font-size=\"14.00\">1 &#45;&gt; 1</text>\n",
       "</g>\n",
       "</g>\n",
       "</svg>\n"
      ],
      "text/plain": [
       "VideoStream(node=FilterNode(kwargs=FrozenDict({}), inputs=(AVStream(node=InputNode(kwargs=FrozenDict({}), inputs=(), filename='input1.mp4'), index=None, optional=False), AVStream(node=InputNode(kwargs=FrozenDict({}), inputs=(), filename='input2.mp4'), index=None, optional=False)), name='custom_video_filter', input_typings=(<StreamType.video: 'video'>, <StreamType.video: 'video'>), output_typings=(<StreamType.video: 'video'>,)), index=0, optional=False)"
      ]
     },
     "execution_count": 26,
     "metadata": {},
     "output_type": "execute_result"
    }
   ],
   "source": [
    "import ffmpeg\n",
    "from ffmpeg.schema import StreamType\n",
    "\n",
    "# Create a multi-input custom video filter\n",
    "(\n",
    "    ffmpeg.input(\"input1.mp4\").vfilter(\n",
    "        ffmpeg.input(\"input2.mp4\"),\n",
    "        name=\"custom_video_filter\",\n",
    "        input_typings=(StreamType.video, StreamType.video),\n",
    "    )\n",
    ")"
   ]
  },
  {
   "cell_type": "markdown",
   "metadata": {},
   "source": [
    "Alternatively, use the `vfilter`, `afilter` function directly for multi-input scenarios:\n"
   ]
  },
  {
   "cell_type": "code",
   "execution_count": 27,
   "metadata": {},
   "outputs": [
    {
     "data": {
      "image/png": "[encoded data removed]",
      "image/svg+xml": [
       "<?xml version=\"1.0\" encoding=\"UTF-8\" standalone=\"no\"?>\n",
       "<!DOCTYPE svg PUBLIC \"-//W3C//DTD SVG 1.1//EN\"\n",
       " \"http://www.w3.org/Graphics/SVG/1.1/DTD/svg11.dtd\">\n",
       "<!-- Generated by graphviz version 2.43.0 (0)\n",
       " -->\n",
       "<!-- Title: %3 Pages: 1 -->\n",
       "<svg width=\"357pt\" height=\"98pt\"\n",
       " viewBox=\"0.00 0.00 357.00 98.00\" xmlns=\"http://www.w3.org/2000/svg\" xmlns:xlink=\"http://www.w3.org/1999/xlink\">\n",
       "<g id=\"graph0\" class=\"graph\" transform=\"scale(1 1) rotate(0) translate(4 94)\">\n",
       "<title>%3</title>\n",
       "<polygon fill=\"white\" stroke=\"transparent\" points=\"-4,4 -4,-94 353,-94 353,4 -4,4\"/>\n",
       "<!-- 4365f434cb9d947c -->\n",
       "<g id=\"node1\" class=\"node\">\n",
       "<title>4365f434cb9d947c</title>\n",
       "<polygon fill=\"#99cc00\" stroke=\"black\" points=\"96,-90 0,-90 0,-54 96,-54 96,-90\"/>\n",
       "<text text-anchor=\"middle\" x=\"48\" y=\"-68.9\" font-family=\"Helvetica,sans-Serif\" font-size=\"12.00\">&#45;i input1.mp4</text>\n",
       "</g>\n",
       "<!-- 2dec9b05adba945f -->\n",
       "<g id=\"node3\" class=\"node\">\n",
       "<title>2dec9b05adba945f</title>\n",
       "<polygon fill=\"#ffcc00\" stroke=\"black\" points=\"349,-63 176,-63 176,-27 349,-27 349,-63\"/>\n",
       "<text text-anchor=\"middle\" x=\"262.5\" y=\"-41.9\" font-family=\"Helvetica,sans-Serif\" font-size=\"12.00\">[0][1] custom_video_filter </text>\n",
       "</g>\n",
       "<!-- 4365f434cb9d947c&#45;&gt;2dec9b05adba945f -->\n",
       "<g id=\"edge1\" class=\"edge\">\n",
       "<title>4365f434cb9d947c&#45;&gt;2dec9b05adba945f</title>\n",
       "<path fill=\"none\" stroke=\"black\" d=\"M96.16,-66.01C116.79,-63.39 141.79,-60.21 166.02,-57.13\"/>\n",
       "<polygon fill=\"black\" stroke=\"black\" points=\"166.51,-60.6 175.99,-55.87 165.63,-53.65 166.51,-60.6\"/>\n",
       "<text text-anchor=\"middle\" x=\"136\" y=\"-66.8\" font-family=\"Times,serif\" font-size=\"14.00\">0 &#45;&gt; 0</text>\n",
       "</g>\n",
       "<!-- 1a9957d0ad34d0c6 -->\n",
       "<g id=\"node2\" class=\"node\">\n",
       "<title>1a9957d0ad34d0c6</title>\n",
       "<polygon fill=\"#99cc00\" stroke=\"black\" points=\"96,-36 0,-36 0,0 96,0 96,-36\"/>\n",
       "<text text-anchor=\"middle\" x=\"48\" y=\"-14.9\" font-family=\"Helvetica,sans-Serif\" font-size=\"12.00\">&#45;i input2.mp4</text>\n",
       "</g>\n",
       "<!-- 1a9957d0ad34d0c6&#45;&gt;2dec9b05adba945f -->\n",
       "<g id=\"edge2\" class=\"edge\">\n",
       "<title>1a9957d0ad34d0c6&#45;&gt;2dec9b05adba945f</title>\n",
       "<path fill=\"none\" stroke=\"black\" d=\"M96.16,-23.99C116.79,-26.61 141.79,-29.79 166.02,-32.87\"/>\n",
       "<polygon fill=\"black\" stroke=\"black\" points=\"165.63,-36.35 175.99,-34.13 166.51,-29.4 165.63,-36.35\"/>\n",
       "<text text-anchor=\"middle\" x=\"136\" y=\"-34.8\" font-family=\"Times,serif\" font-size=\"14.00\">1 &#45;&gt; 1</text>\n",
       "</g>\n",
       "</g>\n",
       "</svg>\n"
      ],
      "text/plain": [
       "VideoStream(node=FilterNode(kwargs=FrozenDict({}), inputs=(AVStream(node=InputNode(kwargs=FrozenDict({}), inputs=(), filename='input1.mp4'), index=None, optional=False), AVStream(node=InputNode(kwargs=FrozenDict({}), inputs=(), filename='input2.mp4'), index=None, optional=False)), name='custom_video_filter', input_typings=(<StreamType.video: 'video'>, <StreamType.video: 'video'>), output_typings=(<StreamType.video: 'video'>,)), index=0, optional=False)"
      ]
     },
     "execution_count": 27,
     "metadata": {},
     "output_type": "execute_result"
    }
   ],
   "source": [
    "import ffmpeg\n",
    "from ffmpeg.schema import StreamType\n",
    "\n",
    "# Define and apply a multi-input custom video filter\n",
    "ffmpeg.vfilter(\n",
    "    ffmpeg.input(\"input1.mp4\"),\n",
    "    ffmpeg.input(\"input2.mp4\"),\n",
    "    name=\"custom_video_filter\",\n",
    "    input_typings=(StreamType.video, StreamType.video),\n",
    ")"
   ]
  },
  {
   "cell_type": "markdown",
   "metadata": {},
   "source": [
    "\n",
    "### Defining Multi-output Custom Filters\n",
    "In cases where a filter generates multiple outputs, use `ffmpeg.filter_multi_output` function and specify the expected types of these outputs using the `output_typings` parameter. This feature is particularly useful for filters that split the input stream into several output streams.\n"
   ]
  },
  {
   "cell_type": "code",
   "execution_count": 32,
   "metadata": {},
   "outputs": [
    {
     "data": {
      "image/png": "[encoded data removed]",
      "image/svg+xml": [
       "<?xml version=\"1.0\" encoding=\"UTF-8\" standalone=\"no\"?>\n",
       "<!DOCTYPE svg PUBLIC \"-//W3C//DTD SVG 1.1//EN\"\n",
       " \"http://www.w3.org/Graphics/SVG/1.1/DTD/svg11.dtd\">\n",
       "<!-- Generated by graphviz version 2.43.0 (0)\n",
       " -->\n",
       "<!-- Title: %3 Pages: 1 -->\n",
       "<svg width=\"792pt\" height=\"44pt\"\n",
       " viewBox=\"0.00 0.00 792.00 44.00\" xmlns=\"http://www.w3.org/2000/svg\" xmlns:xlink=\"http://www.w3.org/1999/xlink\">\n",
       "<g id=\"graph0\" class=\"graph\" transform=\"scale(1 1) rotate(0) translate(4 40)\">\n",
       "<title>%3</title>\n",
       "<polygon fill=\"white\" stroke=\"transparent\" points=\"-4,4 -4,-40 788,-40 788,4 -4,4\"/>\n",
       "<!-- 4365f434cb9d947c -->\n",
       "<g id=\"node1\" class=\"node\">\n",
       "<title>4365f434cb9d947c</title>\n",
       "<polygon fill=\"#99cc00\" stroke=\"black\" points=\"96,-36 0,-36 0,0 96,0 96,-36\"/>\n",
       "<text text-anchor=\"middle\" x=\"48\" y=\"-14.9\" font-family=\"Helvetica,sans-Serif\" font-size=\"12.00\">&#45;i input1.mp4</text>\n",
       "</g>\n",
       "<!-- 7b93dc9393d461ad -->\n",
       "<g id=\"node2\" class=\"node\">\n",
       "<title>7b93dc9393d461ad</title>\n",
       "<polygon fill=\"#ffcc00\" stroke=\"black\" points=\"784,-36 176,-36 176,0 784,0 784,-36\"/>\n",
       "<text text-anchor=\"middle\" x=\"480\" y=\"-14.9\" font-family=\"Helvetica,sans-Serif\" font-size=\"12.00\">[0] custom_split= output_typings=(&lt;StreamType.video\\: \\&#39;video\\&#39;&gt;, &lt;StreamType.video\\: \\&#39;video\\&#39;&gt;) </text>\n",
       "</g>\n",
       "<!-- 4365f434cb9d947c&#45;&gt;7b93dc9393d461ad -->\n",
       "<g id=\"edge1\" class=\"edge\">\n",
       "<title>4365f434cb9d947c&#45;&gt;7b93dc9393d461ad</title>\n",
       "<path fill=\"none\" stroke=\"black\" d=\"M96.25,-18C115.4,-18 139.24,-18 165.59,-18\"/>\n",
       "<polygon fill=\"black\" stroke=\"black\" points=\"165.81,-21.5 175.81,-18 165.81,-14.5 165.81,-21.5\"/>\n",
       "<text text-anchor=\"middle\" x=\"136\" y=\"-21.8\" font-family=\"Times,serif\" font-size=\"14.00\">0 &#45;&gt; 0</text>\n",
       "</g>\n",
       "</g>\n",
       "</svg>\n"
      ],
      "text/plain": [
       "FilterNode(kwargs=FrozenDict({'output_typings': (<StreamType.video: 'video'>, <StreamType.video: 'video'>)}), inputs=(AVStream(node=InputNode(kwargs=FrozenDict({}), inputs=(), filename='input1.mp4'), index=None, optional=False),), name='custom_split', input_typings=(<StreamType.video: 'video'>,), output_typings=())"
      ]
     },
     "execution_count": 32,
     "metadata": {},
     "output_type": "execute_result"
    }
   ],
   "source": [
    "import ffmpeg\n",
    "from ffmpeg.schema import StreamType\n",
    "\n",
    "# Create a custom filter that yields multiple outputs\n",
    "ffmpeg.filter_multi_output(\n",
    "    ffmpeg.input(\"input1.mp4\"),\n",
    "    name=\"custom_split\",\n",
    "    input_typings=(StreamType.video,),\n",
    "    output_typings=(StreamType.video, StreamType.video),\n",
    ")"
   ]
  },
  {
   "cell_type": "markdown",
   "metadata": {},
   "source": [
    "By following these guidelines, you can extend the functionality of Typed-FFmpeg to accommodate any specific filtering needs, ensuring maximum flexibility and efficiency in your video processing tasks.\n"
   ]
  },
  {
   "cell_type": "markdown",
   "metadata": {},
   "source": [
    "\n",
    "### Define Source Filter\n",
    "Source filter can also be defined in the same way\n"
   ]
  },
  {
   "cell_type": "code",
   "execution_count": 33,
   "metadata": {},
   "outputs": [
    {
     "data": {
      "image/png": "[encoded data removed]",
      "image/svg+xml": [
       "<?xml version=\"1.0\" encoding=\"UTF-8\" standalone=\"no\"?>\n",
       "<!DOCTYPE svg PUBLIC \"-//W3C//DTD SVG 1.1//EN\"\n",
       " \"http://www.w3.org/Graphics/SVG/1.1/DTD/svg11.dtd\">\n",
       "<!-- Generated by graphviz version 2.43.0 (0)\n",
       " -->\n",
       "<!-- Title: %3 Pages: 1 -->\n",
       "<svg width=\"515pt\" height=\"44pt\"\n",
       " viewBox=\"0.00 0.00 515.00 44.00\" xmlns=\"http://www.w3.org/2000/svg\" xmlns:xlink=\"http://www.w3.org/1999/xlink\">\n",
       "<g id=\"graph0\" class=\"graph\" transform=\"scale(1 1) rotate(0) translate(4 40)\">\n",
       "<title>%3</title>\n",
       "<polygon fill=\"white\" stroke=\"transparent\" points=\"-4,4 -4,-40 511,-40 511,4 -4,4\"/>\n",
       "<!-- bf9a7907cbc772 -->\n",
       "<g id=\"node1\" class=\"node\">\n",
       "<title>bf9a7907cbc772</title>\n",
       "<polygon fill=\"#ffcc00\" stroke=\"black\" points=\"507,-36 0,-36 0,0 507,0 507,-36\"/>\n",
       "<text text-anchor=\"middle\" x=\"253.5\" y=\"-14.9\" font-family=\"Helvetica,sans-Serif\" font-size=\"12.00\"> color= color=black:duration=1:output_typings=(&lt;StreamType.video\\: \\&#39;video\\&#39;&gt;,) </text>\n",
       "</g>\n",
       "</g>\n",
       "</svg>\n"
      ],
      "text/plain": [
       "VideoStream(node=FilterNode(kwargs=FrozenDict({'color': 'black', 'duration': 1, 'output_typings': (<StreamType.video: 'video'>,)}), inputs=(), name='color', input_typings=(), output_typings=(<StreamType.video: 'video'>,)), index=0, optional=False)"
      ]
     },
     "execution_count": 33,
     "metadata": {},
     "output_type": "execute_result"
    }
   ],
   "source": [
    "import ffmpeg\n",
    "from ffmpeg.schema import StreamType\n",
    "\n",
    "ffmpeg.vfilter(\n",
    "    name=\"color\",\n",
    "    color=\"black\",\n",
    "    duration=1,\n",
    "    input_typings=(),\n",
    "    output_typings=(StreamType.video,),\n",
    ")"
   ]
  }
 ],
 "metadata": {
  "kernelspec": {
   "display_name": ".venv",
   "language": "python",
   "name": "python3"
  },
  "language_info": {
   "codemirror_mode": {
    "name": "ipython",
    "version": 3
   },
   "file_extension": ".py",
   "mimetype": "text/x-python",
   "name": "python",
   "nbconvert_exporter": "python",
   "pygments_lexer": "ipython3",
   "version": "3.12.3"
  }
 },
 "nbformat": 4,
 "nbformat_minor": 2
}
