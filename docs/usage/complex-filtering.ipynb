{
  "cells": [
    {
      "cell_type": "markdown",
      "metadata": {},
      "source": [
        "## Complex Filtering with FFmpeg\n",
        "\n",
        "### Introduction to FFmpeg's Filter System\n",
        "FFmpeg's versatility and power largely stem from its comprehensive filter system, allowing for complex video and audio processing. The typed-ffmpeg library maintains this capability, providing a user-friendly interface for applying various filters.\n",
        "\n",
        "### Applying Basic Filters\n",
        "Below is an example of how to trim a video and add a text watermark using FFmpeg's filter functions:\n"
      ]
    },
    {
      "cell_type": "code",
      "execution_count": 1,
      "metadata": {},
      "outputs": [
        {
          "name": "stdout",
          "output_type": "stream",
          "text": [
            "Exception reporting mode: Minimal\n"
          ]
        },
        {
          "data": {
            "image/png": "[encoded data removed]",
            "image/svg+xml": [
              "<?xml version=\"1.0\" encoding=\"UTF-8\" standalone=\"no\"?>\n",
              "<!DOCTYPE svg PUBLIC \"-//W3C//DTD SVG 1.1//EN\"\n",
              " \"http://www.w3.org/Graphics/SVG/1.1/DTD/svg11.dtd\">\n",
              "<!-- Generated by graphviz version 2.43.0 (0)\n",
              " -->\n",
              "<!-- Title: %3 Pages: 1 -->\n",
              "<svg width=\"556pt\" height=\"44pt\"\n",
              " viewBox=\"0.00 0.00 556.00 44.00\" xmlns=\"http://www.w3.org/2000/svg\" xmlns:xlink=\"http://www.w3.org/1999/xlink\">\n",
              "<g id=\"graph0\" class=\"graph\" transform=\"scale(1 1) rotate(0) translate(4 40)\">\n",
              "<title>%3</title>\n",
              "<polygon fill=\"white\" stroke=\"transparent\" points=\"-4,4 -4,-40 552,-40 552,4 -4,4\"/>\n",
              "<!-- 506117c55ecf5528 -->\n",
              "<g id=\"node1\" class=\"node\">\n",
              "<title>506117c55ecf5528</title>\n",
              "<polygon fill=\"#99cc00\" stroke=\"black\" points=\"77,-36 0,-36 0,0 77,0 77,-36\"/>\n",
              "<text text-anchor=\"middle\" x=\"38.5\" y=\"-14.9\" font-family=\"Helvetica,sans-Serif\" font-size=\"12.00\">input.mp4</text>\n",
              "</g>\n",
              "<!-- 79c184fb766f45b6 -->\n",
              "<g id=\"node2\" class=\"node\">\n",
              "<title>79c184fb766f45b6</title>\n",
              "<polygon fill=\"#ffcc00\" stroke=\"black\" points=\"216,-36 162,-36 162,0 216,0 216,-36\"/>\n",
              "<text text-anchor=\"middle\" x=\"189\" y=\"-14.9\" font-family=\"Helvetica,sans-Serif\" font-size=\"12.00\">trim</text>\n",
              "</g>\n",
              "<!-- 506117c55ecf5528&#45;&gt;79c184fb766f45b6 -->\n",
              "<g id=\"edge1\" class=\"edge\">\n",
              "<title>506117c55ecf5528&#45;&gt;79c184fb766f45b6</title>\n",
              "<path fill=\"none\" stroke=\"black\" d=\"M77.36,-18C100.21,-18 129.16,-18 151.72,-18\"/>\n",
              "<polygon fill=\"black\" stroke=\"black\" points=\"151.91,-21.5 161.91,-18 151.91,-14.5 151.91,-21.5\"/>\n",
              "<text text-anchor=\"middle\" x=\"119.5\" y=\"-21.8\" font-family=\"Times,serif\" font-size=\"14.00\">* =&gt; 0</text>\n",
              "</g>\n",
              "<!-- 16da3fd76685610 -->\n",
              "<g id=\"node3\" class=\"node\">\n",
              "<title>16da3fd76685610</title>\n",
              "<polygon fill=\"#ffcc00\" stroke=\"black\" points=\"374,-36 304,-36 304,0 374,0 374,-36\"/>\n",
              "<text text-anchor=\"middle\" x=\"339\" y=\"-14.9\" font-family=\"Helvetica,sans-Serif\" font-size=\"12.00\">drawtext</text>\n",
              "</g>\n",
              "<!-- 79c184fb766f45b6&#45;&gt;16da3fd76685610 -->\n",
              "<g id=\"edge2\" class=\"edge\">\n",
              "<title>79c184fb766f45b6&#45;&gt;16da3fd76685610</title>\n",
              "<path fill=\"none\" stroke=\"black\" d=\"M216.12,-18C237.56,-18 268.4,-18 293.7,-18\"/>\n",
              "<polygon fill=\"black\" stroke=\"black\" points=\"293.8,-21.5 303.8,-18 293.8,-14.5 293.8,-21.5\"/>\n",
              "<text text-anchor=\"middle\" x=\"260\" y=\"-21.8\" font-family=\"Times,serif\" font-size=\"14.00\">0 =&gt; 0</text>\n",
              "</g>\n",
              "<!-- 1ef6669d7269afb1 -->\n",
              "<g id=\"node4\" class=\"node\">\n",
              "<title>1ef6669d7269afb1</title>\n",
              "<polygon fill=\"#99ccff\" stroke=\"black\" points=\"548,-36 462,-36 462,0 548,0 548,-36\"/>\n",
              "<text text-anchor=\"middle\" x=\"505\" y=\"-14.9\" font-family=\"Helvetica,sans-Serif\" font-size=\"12.00\">output.mp4</text>\n",
              "</g>\n",
              "<!-- 16da3fd76685610&#45;&gt;1ef6669d7269afb1 -->\n",
              "<g id=\"edge3\" class=\"edge\">\n",
              "<title>16da3fd76685610&#45;&gt;1ef6669d7269afb1</title>\n",
              "<path fill=\"none\" stroke=\"black\" d=\"M374.38,-18C396.75,-18 426.36,-18 451.63,-18\"/>\n",
              "<polygon fill=\"black\" stroke=\"black\" points=\"451.8,-21.5 461.8,-18 451.8,-14.5 451.8,-21.5\"/>\n",
              "<text text-anchor=\"middle\" x=\"418\" y=\"-21.8\" font-family=\"Times,serif\" font-size=\"14.00\">0 =&gt; 0</text>\n",
              "</g>\n",
              "</g>\n",
              "</svg>\n"
            ],
            "text/plain": [
              "OutputStream(node=OutputNode(kwargs=(), inputs=(VideoStream(node=FilterNode(kwargs=(('text', 'Hello World'), ('fontsize', 12), ('x', 10), ('y', 10)), inputs=(VideoStream(node=FilterNode(kwargs=(('start', 10), ('end', 20)), inputs=(AVStream(node=InputNode(kwargs=(), inputs=(), filename='input.mp4'), index=None),), name='trim', input_typings=(<StreamType.video: 'video'>,), output_typings=(<StreamType.video: 'video'>,)), index=0),), name='drawtext', input_typings=(<StreamType.video: 'video'>,), output_typings=(<StreamType.video: 'video'>,)), index=0),), filename='output.mp4'), index=None)"
            ]
          },
          "execution_count": 1,
          "metadata": {},
          "output_type": "execute_result"
        }
      ],
      "source": [
        "%xmode Minimal\n",
        "import ffmpeg\n",
        "\n",
        "# Initialize the input stream from a video file\n",
        "input_stream = ffmpeg.input('input.mp4')\n",
        "\n",
        "# Apply trimming and drawtext filters, then output to a new file\n",
        "(\n",
        "    input_stream\n",
        "    .trim(start=10, end=20)\n",
        "    .drawtext(text='Hello World', fontsize=12, x=10, y=10)\n",
        "    .output(filename=\"output.mp4\")\n",
        ")"
      ]
    },
    {
      "cell_type": "markdown",
      "metadata": {},
      "source": [
        "This operation is visualized in the accompanying diagram, illustrating the workflow of trimming a video and adding a watermark.\n"
      ]
    },
    {
      "cell_type": "markdown",
      "metadata": {},
      "source": [
        "### Handling Stream Types with FFmpeg\n",
        "\n",
        "#### Understanding Typed Filters in FFmpeg\n",
        "FFmpeg classifies its filters based on the type of media stream they process: some are intended for video streams, while others are for audio streams. This type-specific approach ensures that each filter operates on the appropriate kind of data. The typed-ffmpeg library enforces this classification through both static type checking (compatible with tools like mypy) and runtime validation, minimizing errors and streamlining filter application.\n",
        "\n",
        "#### Example: Applying Filters Correctly by Stream Type\n",
        "\n",
        "Consider the following code where we initialize an input stream and apply different filters:\n",
        "\n"
      ]
    },
    {
      "cell_type": "code",
      "execution_count": 2,
      "metadata": {},
      "outputs": [
        {
          "ename": "FFMpegTypeError",
          "evalue": "Expected input 0 to have audio component, got VideoStream",
          "output_type": "error",
          "traceback": [
            "\u001b[0;31mFFMpegTypeError\u001b[0m\u001b[0;31m:\u001b[0m Expected input 0 to have audio component, got VideoStream\n"
          ]
        }
      ],
      "source": [
        "import ffmpeg\n",
        "\n",
        "# Initialize an input stream from a video file\n",
        "input1 = ffmpeg.input('input1.mp4')  # The input stream here is an AVStream, capable of handling both audio and video operations.\n",
        "\n",
        "# Apply a reverse filter, which is specifically a video filter, to the stream\n",
        "video = input1.reverse()  # The 'reverse' filter is applied, resulting in a VideoStream output.\n",
        "\n",
        "# Attempting to apply an audio filter (amix) to a video stream results in an error\n",
        "ffmpeg.filters.amix(video)  # This line will raise an exception because 'amix' is an audio filter, incompatible with a VideoStream."
      ]
    },
    {
      "cell_type": "markdown",
      "metadata": {},
      "source": [
        "\n",
        "In this example, the `reverse` filter, which is designed for video streams, successfully transforms the input into a reversed video stream. However, when attempting to apply the `amix` filter, which is intended for audio streams, to the reversed video stream, the code will raise an exception. This error occurs because typed-ffmpeg recognizes the mismatch between the stream type (video) and the expected input type for the `amix` filter (audio).\n",
        "\n",
        "By incorporating these type checks, typed-ffmpeg aids in preventing common mistakes, such as applying an audio filter to a video stream or vice versa, thereby ensuring that filters are applied correctly and efficiently.\n",
        "\n",
        "### Working with Multiple Inputs\n",
        "Certain filters accept multiple inputs. When using such filters with typed-ffmpeg, ensure that the exact number of required streams is passed, as validated by static type checking:\n"
      ]
    },
    {
      "cell_type": "code",
      "execution_count": null,
      "metadata": {},
      "outputs": [
        {
          "data": {
            "image/png": "[encoded data removed]",
            "image/svg+xml": [
              "<?xml version=\"1.0\" encoding=\"UTF-8\" standalone=\"no\"?>\n",
              "<!DOCTYPE svg PUBLIC \"-//W3C//DTD SVG 1.1//EN\"\n",
              " \"http://www.w3.org/Graphics/SVG/1.1/DTD/svg11.dtd\">\n",
              "<!-- Generated by graphviz version 2.43.0 (0)\n",
              " -->\n",
              "<!-- Title: %3 Pages: 1 -->\n",
              "<svg width=\"413pt\" height=\"98pt\"\n",
              " viewBox=\"0.00 0.00 413.00 98.00\" xmlns=\"http://www.w3.org/2000/svg\" xmlns:xlink=\"http://www.w3.org/1999/xlink\">\n",
              "<g id=\"graph0\" class=\"graph\" transform=\"scale(1 1) rotate(0) translate(4 94)\">\n",
              "<title>%3</title>\n",
              "<polygon fill=\"white\" stroke=\"transparent\" points=\"-4,4 -4,-94 409,-94 409,4 -4,4\"/>\n",
              "<!-- 1dbdfcd507384b59 -->\n",
              "<g id=\"node1\" class=\"node\">\n",
              "<title>1dbdfcd507384b59</title>\n",
              "<polygon fill=\"#99cc00\" stroke=\"black\" points=\"85,-90 0,-90 0,-54 85,-54 85,-90\"/>\n",
              "<text text-anchor=\"middle\" x=\"42.5\" y=\"-68.9\" font-family=\"Helvetica,sans-Serif\" font-size=\"12.00\">input1.mp4</text>\n",
              "</g>\n",
              "<!-- 6fd58f9a179f3e0a -->\n",
              "<g id=\"node3\" class=\"node\">\n",
              "<title>6fd58f9a179f3e0a</title>\n",
              "<polygon fill=\"#ffcc00\" stroke=\"black\" points=\"231,-63 170,-63 170,-27 231,-27 231,-63\"/>\n",
              "<text text-anchor=\"middle\" x=\"200.5\" y=\"-41.9\" font-family=\"Helvetica,sans-Serif\" font-size=\"12.00\">overlay</text>\n",
              "</g>\n",
              "<!-- 1dbdfcd507384b59&#45;&gt;6fd58f9a179f3e0a -->\n",
              "<g id=\"edge1\" class=\"edge\">\n",
              "<title>1dbdfcd507384b59&#45;&gt;6fd58f9a179f3e0a</title>\n",
              "<path fill=\"none\" stroke=\"black\" d=\"M85.31,-64.76C108.47,-60.75 137.11,-55.8 159.91,-51.85\"/>\n",
              "<polygon fill=\"black\" stroke=\"black\" points=\"160.68,-55.27 169.94,-50.12 159.49,-48.37 160.68,-55.27\"/>\n",
              "<text text-anchor=\"middle\" x=\"127.5\" y=\"-63.8\" font-family=\"Times,serif\" font-size=\"14.00\">* =&gt; 0</text>\n",
              "</g>\n",
              "<!-- 5be0928ed382666e -->\n",
              "<g id=\"node2\" class=\"node\">\n",
              "<title>5be0928ed382666e</title>\n",
              "<polygon fill=\"#99cc00\" stroke=\"black\" points=\"85,-36 0,-36 0,0 85,0 85,-36\"/>\n",
              "<text text-anchor=\"middle\" x=\"42.5\" y=\"-14.9\" font-family=\"Helvetica,sans-Serif\" font-size=\"12.00\">input2.mp4</text>\n",
              "</g>\n",
              "<!-- 5be0928ed382666e&#45;&gt;6fd58f9a179f3e0a -->\n",
              "<g id=\"edge2\" class=\"edge\">\n",
              "<title>5be0928ed382666e&#45;&gt;6fd58f9a179f3e0a</title>\n",
              "<path fill=\"none\" stroke=\"black\" d=\"M85.11,-23.33C105.36,-26.13 130.02,-29.84 152,-34 154.64,-34.5 157.35,-35.04 160.08,-35.61\"/>\n",
              "<polygon fill=\"black\" stroke=\"black\" points=\"159.42,-39.05 169.93,-37.76 160.91,-32.21 159.42,-39.05\"/>\n",
              "<text text-anchor=\"middle\" x=\"127.5\" y=\"-37.8\" font-family=\"Times,serif\" font-size=\"14.00\">* =&gt; 1</text>\n",
              "</g>\n",
              "<!-- 7eda97ca97a93a4f -->\n",
              "<g id=\"node4\" class=\"node\">\n",
              "<title>7eda97ca97a93a4f</title>\n",
              "<polygon fill=\"#99ccff\" stroke=\"black\" points=\"405,-63 319,-63 319,-27 405,-27 405,-63\"/>\n",
              "<text text-anchor=\"middle\" x=\"362\" y=\"-41.9\" font-family=\"Helvetica,sans-Serif\" font-size=\"12.00\">output.mp4</text>\n",
              "</g>\n",
              "<!-- 6fd58f9a179f3e0a&#45;&gt;7eda97ca97a93a4f -->\n",
              "<g id=\"edge3\" class=\"edge\">\n",
              "<title>6fd58f9a179f3e0a&#45;&gt;7eda97ca97a93a4f</title>\n",
              "<path fill=\"none\" stroke=\"black\" d=\"M231.13,-45C252.92,-45 283.11,-45 308.9,-45\"/>\n",
              "<polygon fill=\"black\" stroke=\"black\" points=\"308.9,-48.5 318.9,-45 308.9,-41.5 308.9,-48.5\"/>\n",
              "<text text-anchor=\"middle\" x=\"275\" y=\"-48.8\" font-family=\"Times,serif\" font-size=\"14.00\">0 =&gt; 0</text>\n",
              "</g>\n",
              "</g>\n",
              "</svg>\n"
            ],
            "text/plain": [
              "OutputStream(node=OutputNode(kwargs=(), inputs=(VideoStream(node=FilterNode(kwargs=(('x', 10), ('y', 10)), inputs=(AVStream(node=InputNode(kwargs=(), inputs=(), filename='input1.mp4'), index=None), AVStream(node=InputNode(kwargs=(), inputs=(), filename='input2.mp4'), index=None)), name='overlay', input_typings=(<StreamType.video: 'video'>, <StreamType.video: 'video'>), output_typings=(<StreamType.video: 'video'>,)), index=0),), filename='output.mp4'), index=None)"
            ]
          },
          "execution_count": 4,
          "metadata": {},
          "output_type": "execute_result"
        }
      ],
      "source": [
        "import ffmpeg\n",
        "\n",
        "# Initialize two input streams\n",
        "input1 = ffmpeg.input('input1.mp4')\n",
        "input2 = ffmpeg.input('input2.mp4')\n",
        "\n",
        "# Overlay one stream over the other and output to a new file\n",
        "(\n",
        "    input1\n",
        "    .overlay(input2, x=10, y=10)\n",
        "    .output(filename=\"output.mp4\")\n",
        ")"
      ]
    },
    {
      "cell_type": "markdown",
      "metadata": {},
      "source": [
        "The process of overlaying two video streams is illustrated in the diagram:\n"
      ]
    },
    {
      "cell_type": "markdown",
      "metadata": {},
      "source": [
        "\n",
        "### Handling Multiple Outputs\n",
        "Some filters, when applied, generate multiple output streams. typed-ffmpeg facilitates handling these scenarios with clear and concise code:"
      ]
    },
    {
      "cell_type": "code",
      "execution_count": null,
      "metadata": {},
      "outputs": [
        {
          "data": {
            "image/png": "[encoded data removed]",
            "image/svg+xml": [
              "<?xml version=\"1.0\" encoding=\"UTF-8\" standalone=\"no\"?>\n",
              "<!DOCTYPE svg PUBLIC \"-//W3C//DTD SVG 1.1//EN\"\n",
              " \"http://www.w3.org/Graphics/SVG/1.1/DTD/svg11.dtd\">\n",
              "<!-- Generated by graphviz version 2.43.0 (0)\n",
              " -->\n",
              "<!-- Title: %3 Pages: 1 -->\n",
              "<svg width=\"729pt\" height=\"98pt\"\n",
              " viewBox=\"0.00 0.00 729.00 98.00\" xmlns=\"http://www.w3.org/2000/svg\" xmlns:xlink=\"http://www.w3.org/1999/xlink\">\n",
              "<g id=\"graph0\" class=\"graph\" transform=\"scale(1 1) rotate(0) translate(4 94)\">\n",
              "<title>%3</title>\n",
              "<polygon fill=\"white\" stroke=\"transparent\" points=\"-4,4 -4,-94 725,-94 725,4 -4,4\"/>\n",
              "<!-- 1dbdfcd507384b59 -->\n",
              "<g id=\"node1\" class=\"node\">\n",
              "<title>1dbdfcd507384b59</title>\n",
              "<polygon fill=\"#99cc00\" stroke=\"black\" points=\"85,-90 0,-90 0,-54 85,-54 85,-90\"/>\n",
              "<text text-anchor=\"middle\" x=\"42.5\" y=\"-68.9\" font-family=\"Helvetica,sans-Serif\" font-size=\"12.00\">input1.mp4</text>\n",
              "</g>\n",
              "<!-- 6eae80403fc1d12e -->\n",
              "<g id=\"node3\" class=\"node\">\n",
              "<title>6eae80403fc1d12e</title>\n",
              "<polygon fill=\"#ffcc00\" stroke=\"black\" points=\"242,-63 170,-63 170,-27 242,-27 242,-63\"/>\n",
              "<text text-anchor=\"middle\" x=\"206\" y=\"-41.9\" font-family=\"Helvetica,sans-Serif\" font-size=\"12.00\">feedback</text>\n",
              "</g>\n",
              "<!-- 1dbdfcd507384b59&#45;&gt;6eae80403fc1d12e -->\n",
              "<g id=\"edge1\" class=\"edge\">\n",
              "<title>1dbdfcd507384b59&#45;&gt;6eae80403fc1d12e</title>\n",
              "<path fill=\"none\" stroke=\"black\" d=\"M85.09,-65.05C107.97,-61.22 136.38,-56.47 159.8,-52.56\"/>\n",
              "<polygon fill=\"black\" stroke=\"black\" points=\"160.55,-55.98 169.84,-50.88 159.4,-49.08 160.55,-55.98\"/>\n",
              "<text text-anchor=\"middle\" x=\"127.5\" y=\"-64.8\" font-family=\"Times,serif\" font-size=\"14.00\">* =&gt; 0</text>\n",
              "</g>\n",
              "<!-- 5be0928ed382666e -->\n",
              "<g id=\"node2\" class=\"node\">\n",
              "<title>5be0928ed382666e</title>\n",
              "<polygon fill=\"#99cc00\" stroke=\"black\" points=\"85,-36 0,-36 0,0 85,0 85,-36\"/>\n",
              "<text text-anchor=\"middle\" x=\"42.5\" y=\"-14.9\" font-family=\"Helvetica,sans-Serif\" font-size=\"12.00\">input2.mp4</text>\n",
              "</g>\n",
              "<!-- 5be0928ed382666e&#45;&gt;6eae80403fc1d12e -->\n",
              "<g id=\"edge2\" class=\"edge\">\n",
              "<title>5be0928ed382666e&#45;&gt;6eae80403fc1d12e</title>\n",
              "<path fill=\"none\" stroke=\"black\" d=\"M85.02,-24.2C105.25,-27.29 129.92,-31.19 152,-35 154.63,-35.45 157.34,-35.93 160.07,-36.42\"/>\n",
              "<polygon fill=\"black\" stroke=\"black\" points=\"159.5,-39.88 169.96,-38.23 160.75,-32.99 159.5,-39.88\"/>\n",
              "<text text-anchor=\"middle\" x=\"127.5\" y=\"-38.8\" font-family=\"Times,serif\" font-size=\"14.00\">* =&gt; 1</text>\n",
              "</g>\n",
              "<!-- 367ac04545cc83b1 -->\n",
              "<g id=\"node4\" class=\"node\">\n",
              "<title>367ac04545cc83b1</title>\n",
              "<polygon fill=\"#ffcc00\" stroke=\"black\" points=\"400,-90 330,-90 330,-54 400,-54 400,-90\"/>\n",
              "<text text-anchor=\"middle\" x=\"365\" y=\"-68.9\" font-family=\"Helvetica,sans-Serif\" font-size=\"12.00\">drawtext</text>\n",
              "</g>\n",
              "<!-- 6eae80403fc1d12e&#45;&gt;367ac04545cc83b1 -->\n",
              "<g id=\"edge3\" class=\"edge\">\n",
              "<title>6eae80403fc1d12e&#45;&gt;367ac04545cc83b1</title>\n",
              "<path fill=\"none\" stroke=\"black\" d=\"M242.23,-51.06C265.17,-55 295.29,-60.18 319.82,-64.4\"/>\n",
              "<polygon fill=\"black\" stroke=\"black\" points=\"319.51,-67.9 329.96,-66.15 320.7,-61 319.51,-67.9\"/>\n",
              "<text text-anchor=\"middle\" x=\"286\" y=\"-65.8\" font-family=\"Times,serif\" font-size=\"14.00\">0 =&gt; 0</text>\n",
              "</g>\n",
              "<!-- 39b0a7deb4fefa9d -->\n",
              "<g id=\"node5\" class=\"node\">\n",
              "<title>39b0a7deb4fefa9d</title>\n",
              "<polygon fill=\"#ffcc00\" stroke=\"black\" points=\"400,-36 330,-36 330,0 400,0 400,-36\"/>\n",
              "<text text-anchor=\"middle\" x=\"365\" y=\"-14.9\" font-family=\"Helvetica,sans-Serif\" font-size=\"12.00\">drawtext</text>\n",
              "</g>\n",
              "<!-- 6eae80403fc1d12e&#45;&gt;39b0a7deb4fefa9d -->\n",
              "<g id=\"edge4\" class=\"edge\">\n",
              "<title>6eae80403fc1d12e&#45;&gt;39b0a7deb4fefa9d</title>\n",
              "<path fill=\"none\" stroke=\"black\" d=\"M242.04,-38.26C248.03,-37.15 254.19,-36.02 260,-35 279.61,-31.55 301.35,-27.96 319.85,-24.97\"/>\n",
              "<polygon fill=\"black\" stroke=\"black\" points=\"320.45,-28.42 329.77,-23.38 319.34,-21.51 320.45,-28.42\"/>\n",
              "<text text-anchor=\"middle\" x=\"286\" y=\"-38.8\" font-family=\"Times,serif\" font-size=\"14.00\">1 =&gt; 0</text>\n",
              "</g>\n",
              "<!-- 1c87746b8223ad3e -->\n",
              "<g id=\"node6\" class=\"node\">\n",
              "<title>1c87746b8223ad3e</title>\n",
              "<polygon fill=\"#99ccff\" stroke=\"black\" points=\"582,-90 488,-90 488,-54 582,-54 582,-90\"/>\n",
              "<text text-anchor=\"middle\" x=\"535\" y=\"-68.9\" font-family=\"Helvetica,sans-Serif\" font-size=\"12.00\">output1.mp4</text>\n",
              "</g>\n",
              "<!-- 367ac04545cc83b1&#45;&gt;1c87746b8223ad3e -->\n",
              "<g id=\"edge5\" class=\"edge\">\n",
              "<title>367ac04545cc83b1&#45;&gt;1c87746b8223ad3e</title>\n",
              "<path fill=\"none\" stroke=\"black\" d=\"M400.4,-72C422.59,-72 451.98,-72 477.54,-72\"/>\n",
              "<polygon fill=\"black\" stroke=\"black\" points=\"477.85,-75.5 487.85,-72 477.85,-68.5 477.85,-75.5\"/>\n",
              "<text text-anchor=\"middle\" x=\"444\" y=\"-75.8\" font-family=\"Times,serif\" font-size=\"14.00\">0 =&gt; 0</text>\n",
              "</g>\n",
              "<!-- 6c1412793eaa349e -->\n",
              "<g id=\"node7\" class=\"node\">\n",
              "<title>6c1412793eaa349e</title>\n",
              "<polygon fill=\"#99ccff\" stroke=\"black\" points=\"582,-36 488,-36 488,0 582,0 582,-36\"/>\n",
              "<text text-anchor=\"middle\" x=\"535\" y=\"-14.9\" font-family=\"Helvetica,sans-Serif\" font-size=\"12.00\">output2.mp4</text>\n",
              "</g>\n",
              "<!-- 39b0a7deb4fefa9d&#45;&gt;6c1412793eaa349e -->\n",
              "<g id=\"edge6\" class=\"edge\">\n",
              "<title>39b0a7deb4fefa9d&#45;&gt;6c1412793eaa349e</title>\n",
              "<path fill=\"none\" stroke=\"black\" d=\"M400.4,-18C422.59,-18 451.98,-18 477.54,-18\"/>\n",
              "<polygon fill=\"black\" stroke=\"black\" points=\"477.85,-21.5 487.85,-18 477.85,-14.5 477.85,-21.5\"/>\n",
              "<text text-anchor=\"middle\" x=\"444\" y=\"-21.8\" font-family=\"Times,serif\" font-size=\"14.00\">0 =&gt; 0</text>\n",
              "</g>\n",
              "<!-- 73d2ba27084ed7f6 -->\n",
              "<g id=\"node8\" class=\"node\">\n",
              "<title>73d2ba27084ed7f6</title>\n",
              "<polygon fill=\"lightgrey\" stroke=\"black\" points=\"721,-63 667,-63 667,-27 721,-27 721,-63\"/>\n",
              "</g>\n",
              "<!-- 1c87746b8223ad3e&#45;&gt;73d2ba27084ed7f6 -->\n",
              "<g id=\"edge7\" class=\"edge\">\n",
              "<title>1c87746b8223ad3e&#45;&gt;73d2ba27084ed7f6</title>\n",
              "<path fill=\"none\" stroke=\"black\" d=\"M582.26,-64.05C605.99,-59.96 634.49,-55.06 656.64,-51.25\"/>\n",
              "<polygon fill=\"black\" stroke=\"black\" points=\"657.37,-54.68 666.63,-49.53 656.18,-47.78 657.37,-54.68\"/>\n",
              "<text text-anchor=\"middle\" x=\"624.5\" y=\"-63.8\" font-family=\"Times,serif\" font-size=\"14.00\">* =&gt; 0</text>\n",
              "</g>\n",
              "<!-- 6c1412793eaa349e&#45;&gt;73d2ba27084ed7f6 -->\n",
              "<g id=\"edge8\" class=\"edge\">\n",
              "<title>6c1412793eaa349e&#45;&gt;73d2ba27084ed7f6</title>\n",
              "<path fill=\"none\" stroke=\"black\" d=\"M582.14,-22.7C602.71,-25.17 627.18,-28.6 649,-33 651.51,-33.51 654.09,-34.08 656.69,-34.69\"/>\n",
              "<polygon fill=\"black\" stroke=\"black\" points=\"656.06,-38.14 666.61,-37.19 657.77,-31.35 656.06,-38.14\"/>\n",
              "<text text-anchor=\"middle\" x=\"624.5\" y=\"-36.8\" font-family=\"Times,serif\" font-size=\"14.00\">* =&gt; 1</text>\n",
              "</g>\n",
              "</g>\n",
              "</svg>\n"
            ],
            "text/plain": [
              "GlobalStream(node=GlobalNode(kwargs=(), inputs=(OutputStream(node=OutputNode(kwargs=(), inputs=(VideoStream(node=FilterNode(kwargs=(('text', 'Hello World'), ('fontsize', 12), ('x', 10), ('y', 10)), inputs=(VideoStream(node=FilterNode(kwargs=(), inputs=(AVStream(node=InputNode(kwargs=(), inputs=(), filename='input1.mp4'), index=None), AVStream(node=InputNode(kwargs=(), inputs=(), filename='input2.mp4'), index=None)), name='feedback', input_typings=(<StreamType.video: 'video'>, <StreamType.video: 'video'>), output_typings=(<StreamType.video: 'video'>, <StreamType.video: 'video'>)), index=0),), name='drawtext', input_typings=(<StreamType.video: 'video'>,), output_typings=(<StreamType.video: 'video'>,)), index=0),), filename='output1.mp4'), index=None), OutputStream(node=OutputNode(kwargs=(), inputs=(VideoStream(node=FilterNode(kwargs=(('text', 'Hello World'), ('fontsize', 12), ('x', 10), ('y', 10)), inputs=(VideoStream(node=FilterNode(kwargs=(), inputs=(AVStream(node=InputNode(kwargs=(), inputs=(), filename='input1.mp4'), index=None), AVStream(node=InputNode(kwargs=(), inputs=(), filename='input2.mp4'), index=None)), name='feedback', input_typings=(<StreamType.video: 'video'>, <StreamType.video: 'video'>), output_typings=(<StreamType.video: 'video'>, <StreamType.video: 'video'>)), index=1),), name='drawtext', input_typings=(<StreamType.video: 'video'>,), output_typings=(<StreamType.video: 'video'>,)), index=0),), filename='output2.mp4'), index=None))), index=None)"
            ]
          },
          "execution_count": 8,
          "metadata": {},
          "output_type": "execute_result"
        }
      ],
      "source": [
        "import ffmpeg\n",
        "\n",
        "# Initialize input streams\n",
        "input1 = ffmpeg.input('input1.mp4')\n",
        "input2 = ffmpeg.input('input2.mp4')\n",
        "\n",
        "# Apply a filter that generates multiple outputs\n",
        "video, feedout = input1.feedback(input2)  # Generates two output streams\n",
        "\n",
        "# Process and output each stream separately\n",
        "o1 = video.drawtext(text='Hello World', fontsize=12, x=10, y=10).output(filename=\"output1.mp4\")\n",
        "o2 = feedout.drawtext(text='Hello World', fontsize=12, x=10, y=10).output(filename=\"output2.mp4\")\n",
        "\n",
        "# Merge the outputs\n",
        "ffmpeg.merge_outputs(o1, o2)"
      ]
    },
    {
      "cell_type": "markdown",
      "metadata": {},
      "source": [
        "The generation of multiple output streams from a single filter application is depicted:\n",
        "\n",
        "\n",
        "### Dynamic Input Filters\n",
        "Some filters accept a variable number of inputs. In these cases, typed-ffmpeg offers flexibility but requires careful input management:"
      ]
    },
    {
      "cell_type": "code",
      "execution_count": null,
      "metadata": {},
      "outputs": [
        {
          "data": {
            "image/png": "[encoded data removed]",
            "image/svg+xml": [
              "<?xml version=\"1.0\" encoding=\"UTF-8\" standalone=\"no\"?>\n",
              "<!DOCTYPE svg PUBLIC \"-//W3C//DTD SVG 1.1//EN\"\n",
              " \"http://www.w3.org/Graphics/SVG/1.1/DTD/svg11.dtd\">\n",
              "<!-- Generated by graphviz version 2.43.0 (0)\n",
              " -->\n",
              "<!-- Title: %3 Pages: 1 -->\n",
              "<svg width=\"232pt\" height=\"98pt\"\n",
              " viewBox=\"0.00 0.00 232.00 98.00\" xmlns=\"http://www.w3.org/2000/svg\" xmlns:xlink=\"http://www.w3.org/1999/xlink\">\n",
              "<g id=\"graph0\" class=\"graph\" transform=\"scale(1 1) rotate(0) translate(4 94)\">\n",
              "<title>%3</title>\n",
              "<polygon fill=\"white\" stroke=\"transparent\" points=\"-4,4 -4,-94 228,-94 228,4 -4,4\"/>\n",
              "<!-- 1dbdfcd507384b59 -->\n",
              "<g id=\"node1\" class=\"node\">\n",
              "<title>1dbdfcd507384b59</title>\n",
              "<polygon fill=\"#99cc00\" stroke=\"black\" points=\"85,-90 0,-90 0,-54 85,-54 85,-90\"/>\n",
              "<text text-anchor=\"middle\" x=\"42.5\" y=\"-68.9\" font-family=\"Helvetica,sans-Serif\" font-size=\"12.00\">input1.mp4</text>\n",
              "</g>\n",
              "<!-- 699806d939e96a21 -->\n",
              "<g id=\"node3\" class=\"node\">\n",
              "<title>699806d939e96a21</title>\n",
              "<polygon fill=\"#ffcc00\" stroke=\"black\" points=\"224,-63 170,-63 170,-27 224,-27 224,-63\"/>\n",
              "<text text-anchor=\"middle\" x=\"197\" y=\"-41.9\" font-family=\"Helvetica,sans-Serif\" font-size=\"12.00\">amix</text>\n",
              "</g>\n",
              "<!-- 1dbdfcd507384b59&#45;&gt;699806d939e96a21 -->\n",
              "<g id=\"edge1\" class=\"edge\">\n",
              "<title>1dbdfcd507384b59&#45;&gt;699806d939e96a21</title>\n",
              "<path fill=\"none\" stroke=\"black\" d=\"M85.17,-64.62C108.47,-60.5 137.23,-55.41 159.61,-51.44\"/>\n",
              "<polygon fill=\"black\" stroke=\"black\" points=\"160.48,-54.84 169.72,-49.65 159.26,-47.95 160.48,-54.84\"/>\n",
              "<text text-anchor=\"middle\" x=\"127.5\" y=\"-63.8\" font-family=\"Times,serif\" font-size=\"14.00\">* =&gt; 0</text>\n",
              "</g>\n",
              "<!-- 5be0928ed382666e -->\n",
              "<g id=\"node2\" class=\"node\">\n",
              "<title>5be0928ed382666e</title>\n",
              "<polygon fill=\"#99cc00\" stroke=\"black\" points=\"85,-36 0,-36 0,0 85,0 85,-36\"/>\n",
              "<text text-anchor=\"middle\" x=\"42.5\" y=\"-14.9\" font-family=\"Helvetica,sans-Serif\" font-size=\"12.00\">input2.mp4</text>\n",
              "</g>\n",
              "<!-- 5be0928ed382666e&#45;&gt;699806d939e96a21 -->\n",
              "<g id=\"edge2\" class=\"edge\">\n",
              "<title>5be0928ed382666e&#45;&gt;699806d939e96a21</title>\n",
              "<path fill=\"none\" stroke=\"black\" d=\"M85.19,-22.49C105.46,-24.99 130.11,-28.52 152,-33 154.51,-33.51 157.09,-34.09 159.68,-34.7\"/>\n",
              "<polygon fill=\"black\" stroke=\"black\" points=\"159.06,-38.16 169.61,-37.21 160.77,-31.37 159.06,-38.16\"/>\n",
              "<text text-anchor=\"middle\" x=\"127.5\" y=\"-36.8\" font-family=\"Times,serif\" font-size=\"14.00\">* =&gt; 1</text>\n",
              "</g>\n",
              "</g>\n",
              "</svg>\n"
            ],
            "text/plain": [
              "AudioStream(node=FilterNode(kwargs=(('inputs', 2),), inputs=(AVStream(node=InputNode(kwargs=(), inputs=(), filename='input1.mp4'), index=None), AVStream(node=InputNode(kwargs=(), inputs=(), filename='input2.mp4'), index=None)), name='amix', input_typings=(<StreamType.audio: 'audio'>, <StreamType.audio: 'audio'>), output_typings=(<StreamType.audio: 'audio'>,)), index=0)"
            ]
          },
          "execution_count": 11,
          "metadata": {},
          "output_type": "execute_result"
        }
      ],
      "source": [
        "import ffmpeg\n",
        "\n",
        "# Correct usage with the expected number of inputs\n",
        "input1 = ffmpeg.input('input1.mp4')\n",
        "input2 = ffmpeg.input('input2.mp4')\n",
        "ffmpeg.filters.amix(input1, input2, inputs=2)"
      ]
    },
    {
      "cell_type": "markdown",
      "metadata": {},
      "source": [
        "Incorrect input numbers will trigger exceptions, providing immediate feedback without needing to execute FFmpeg:\n"
      ]
    },
    {
      "cell_type": "code",
      "execution_count": null,
      "metadata": {},
      "outputs": [
        {
          "ename": "FFMpegValueError",
          "evalue": "Expected 3 inputs, got 2",
          "output_type": "error",
          "traceback": [
            "\u001b[0;31mFFMpegValueError\u001b[0m\u001b[0;31m:\u001b[0m Expected 3 inputs, got 2\n"
          ]
        }
      ],
      "source": [
        "import ffmpeg\n",
        "\n",
        "# Incorrect usage leading to a ValueError\n",
        "input1 = ffmpeg.input('input1.mp4')\n",
        "input2 = ffmpeg.input('input2.mp4')\n",
        "f = ffmpeg.filters.amix(input1, input2, inputs=3)  # This will raise a ValueError"
      ]
    },
    {
      "cell_type": "markdown",
      "metadata": {},
      "source": [
        "Fortunately, typed-ffmpeg offers automatic detection for input variables in many of ffmpeg's dynamic input filters."
      ]
    },
    {
      "cell_type": "code",
      "execution_count": null,
      "metadata": {},
      "outputs": [
        {
          "data": {
            "image/png": "[encoded data removed]",
            "image/svg+xml": [
              "<?xml version=\"1.0\" encoding=\"UTF-8\" standalone=\"no\"?>\n",
              "<!DOCTYPE svg PUBLIC \"-//W3C//DTD SVG 1.1//EN\"\n",
              " \"http://www.w3.org/Graphics/SVG/1.1/DTD/svg11.dtd\">\n",
              "<!-- Generated by graphviz version 2.43.0 (0)\n",
              " -->\n",
              "<!-- Title: %3 Pages: 1 -->\n",
              "<svg width=\"232pt\" height=\"98pt\"\n",
              " viewBox=\"0.00 0.00 232.00 98.00\" xmlns=\"http://www.w3.org/2000/svg\" xmlns:xlink=\"http://www.w3.org/1999/xlink\">\n",
              "<g id=\"graph0\" class=\"graph\" transform=\"scale(1 1) rotate(0) translate(4 94)\">\n",
              "<title>%3</title>\n",
              "<polygon fill=\"white\" stroke=\"transparent\" points=\"-4,4 -4,-94 228,-94 228,4 -4,4\"/>\n",
              "<!-- 4d47150918b3d477 -->\n",
              "<g id=\"node1\" class=\"node\">\n",
              "<title>4d47150918b3d477</title>\n",
              "<polygon fill=\"#99cc00\" stroke=\"black\" points=\"85,-90 0,-90 0,-54 85,-54 85,-90\"/>\n",
              "<text text-anchor=\"middle\" x=\"42.5\" y=\"-68.9\" font-family=\"Helvetica,sans-Serif\" font-size=\"12.00\">input1.mp4</text>\n",
              "</g>\n",
              "<!-- 1136aa788eff356d -->\n",
              "<g id=\"node3\" class=\"node\">\n",
              "<title>1136aa788eff356d</title>\n",
              "<polygon fill=\"#ffcc00\" stroke=\"black\" points=\"224,-63 170,-63 170,-27 224,-27 224,-63\"/>\n",
              "<text text-anchor=\"middle\" x=\"197\" y=\"-41.9\" font-family=\"Helvetica,sans-Serif\" font-size=\"12.00\">amix</text>\n",
              "</g>\n",
              "<!-- 4d47150918b3d477&#45;&gt;1136aa788eff356d -->\n",
              "<g id=\"edge1\" class=\"edge\">\n",
              "<title>4d47150918b3d477&#45;&gt;1136aa788eff356d</title>\n",
              "<path fill=\"none\" stroke=\"black\" d=\"M85.17,-64.62C108.47,-60.5 137.23,-55.41 159.61,-51.44\"/>\n",
              "<polygon fill=\"black\" stroke=\"black\" points=\"160.48,-54.84 169.72,-49.65 159.26,-47.95 160.48,-54.84\"/>\n",
              "<text text-anchor=\"middle\" x=\"127.5\" y=\"-63.8\" font-family=\"Times,serif\" font-size=\"14.00\">* =&gt; 0</text>\n",
              "</g>\n",
              "<!-- 450716557b03a3c1 -->\n",
              "<g id=\"node2\" class=\"node\">\n",
              "<title>450716557b03a3c1</title>\n",
              "<polygon fill=\"#99cc00\" stroke=\"black\" points=\"85,-36 0,-36 0,0 85,0 85,-36\"/>\n",
              "<text text-anchor=\"middle\" x=\"42.5\" y=\"-14.9\" font-family=\"Helvetica,sans-Serif\" font-size=\"12.00\">input2.mp4</text>\n",
              "</g>\n",
              "<!-- 450716557b03a3c1&#45;&gt;1136aa788eff356d -->\n",
              "<g id=\"edge2\" class=\"edge\">\n",
              "<title>450716557b03a3c1&#45;&gt;1136aa788eff356d</title>\n",
              "<path fill=\"none\" stroke=\"black\" d=\"M85.19,-22.49C105.46,-24.99 130.11,-28.52 152,-33 154.51,-33.51 157.09,-34.09 159.68,-34.7\"/>\n",
              "<polygon fill=\"black\" stroke=\"black\" points=\"159.06,-38.16 169.61,-37.21 160.77,-31.37 159.06,-38.16\"/>\n",
              "<text text-anchor=\"middle\" x=\"127.5\" y=\"-36.8\" font-family=\"Times,serif\" font-size=\"14.00\">* =&gt; 1</text>\n",
              "</g>\n",
              "</g>\n",
              "</svg>\n"
            ],
            "text/plain": [
              "AudioStream(node=FilterNode(kwargs=(('inputs', 2),), inputs=(AVStream(node=InputNode(kwargs=(), inputs=(), filename='input1.mp4'), index=None), AVStream(node=InputNode(kwargs=(), inputs=(), filename='input2.mp4'), index=None)), name='amix', input_typings=(<StreamType.audio: 'audio'>, <StreamType.audio: 'audio'>), output_typings=(<StreamType.audio: 'audio'>,)), index=0)"
            ]
          },
          "execution_count": 3,
          "metadata": {},
          "output_type": "execute_result"
        }
      ],
      "source": [
        "import ffmpeg\n",
        "\n",
        "input1 = ffmpeg.input('input1.mp4')\n",
        "input2 = ffmpeg.input('input2.mp4')\n",
        "\n",
        "ffmpeg.filters.amix(input1, input2)  # typed-ffmpeg will auto detect the correct inputs value\n",
        "\n"
      ]
    },
    {
      "cell_type": "markdown",
      "metadata": {},
      "source": [
        "\n",
        "### Dynamic Output Filters\n",
        "Similarly, some filters yield a dynamic number of outputs. typed-ffmpeg ensures that any mismatches are quickly identified:\n"
      ]
    },
    {
      "cell_type": "code",
      "execution_count": 3,
      "metadata": {},
      "outputs": [
        {
          "ename": "FFMpegValueError",
          "evalue": "Specified index 2 is out of range for video outputs 2",
          "output_type": "error",
          "traceback": [
            "\u001b[0;31mFFMpegValueError\u001b[0m\u001b[0;31m:\u001b[0m Specified index 2 is out of range for video outputs 2\n"
          ]
        }
      ],
      "source": [
        "import ffmpeg\n",
        "\n",
        "# Initialize input and apply a split filter\n",
        "input1 = ffmpeg.input('input1.mp4')\n",
        "split = input1.split(outputs=2)\n",
        "\n",
        "# Correctly accessing the outputs\n",
        "video0 = split.video(0)\n",
        "video1 = split.video(1)\n",
        "\n",
        "# Incorrectly accessing an out-of-range output will raise an error\n",
        "video2 = split.video(2)  # This will raise a ValueError\n"
      ]
    }
  ],
  "metadata": {
    "kernelspec": {
      "display_name": ".venv",
      "language": "python",
      "name": "python3"
    },
    "language_info": {
      "codemirror_mode": {
        "name": "ipython",
        "version": 3
      },
      "file_extension": ".py",
      "mimetype": "text/x-python",
      "name": "python",
      "nbconvert_exporter": "python",
      "pygments_lexer": "ipython3",
      "version": "3.10.13"
    }
  },
  "nbformat": 4,
  "nbformat_minor": 2
}
