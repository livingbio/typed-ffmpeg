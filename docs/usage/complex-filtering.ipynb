{
  "cells": [
    {
      "cell_type": "markdown",
      "metadata": {},
      "source": [
        "## Complex Filtering with FFmpeg\n",
        "\n",
        "### Introduction to FFmpeg's Filter System\n",
        "FFmpeg's versatility and power largely stem from its comprehensive filter system, allowing for complex video and audio processing. The typed-ffmpeg library maintains this capability, providing a user-friendly interface for applying various filters.\n",
        "\n",
        "### Applying Basic Filters\n",
        "Below is an example of how to trim a video and add a text watermark using FFmpeg's filter functions:\n"
      ]
    },
    {
      "cell_type": "code",
      "execution_count": 2,
      "metadata": {},
      "outputs": [
        {
          "ename": "SyntaxError",
          "evalue": "unterminated string literal (detected at line 4) (820833972.py, line 4)",
          "output_type": "error",
          "traceback": [
            "\u001b[0;36m  Cell \u001b[0;32mIn[2], line 4\u001b[0;36m\u001b[0m\n\u001b[0;31m    FFmpeg's versatility and power largely stem from its comprehensive filter system, allowing for complex video and audio processing. The typed-ffmpeg library maintains this capability, providing a user-friendly interface for applying various filters.\u001b[0m\n\u001b[0m          ^\u001b[0m\n\u001b[0;31mSyntaxError\u001b[0m\u001b[0;31m:\u001b[0m unterminated string literal (detected at line 4)\n"
          ]
        }
      ],
      "source": [
        "import ffmpeg\n",
        "\n",
        "# Initialize the input stream from a video file\n",
        "input_stream = ffmpeg.input('input.mp4')\n",
        "\n",
        "# Apply trimming and drawtext filters, then output to a new file\n",
        "(\n",
        "    input_stream\n",
        "    .trim(start=10, end=20)\n",
        "    .drawtext(text='Hello World', fontsize=12, x=10, y=10)\n",
        "    .output(filename=\"output.mp4\")\n",
        ")"
      ]
    },
    {
      "cell_type": "markdown",
      "metadata": {},
      "source": [
        "This operation is visualized in the accompanying diagram, illustrating the workflow of trimming a video and adding a watermark.\n"
      ]
    },
    {
      "cell_type": "markdown",
      "metadata": {},
      "source": [
        "### Handling Stream Types with FFmpeg\n",
        "\n",
        "#### Understanding Typed Filters in FFmpeg\n",
        "FFmpeg classifies its filters based on the type of media stream they process: some are intended for video streams, while others are for audio streams. This type-specific approach ensures that each filter operates on the appropriate kind of data. The typed-ffmpeg library enforces this classification through both static type checking (compatible with tools like mypy) and runtime validation, minimizing errors and streamlining filter application.\n",
        "\n",
        "#### Example: Applying Filters Correctly by Stream Type\n",
        "\n",
        "Consider the following code where we initialize an input stream and apply different filters:\n",
        "\n"
      ]
    },
    {
      "cell_type": "code",
      "execution_count": null,
      "metadata": {},
      "outputs": [],
      "source": [
        "import ffmpeg\n",
        "\n",
        "# Initialize an input stream from a video file\n",
        "input1 = ffmpeg.input('input1.mp4')  # The input stream here is an AVStream, capable of handling both audio and video operations.\n",
        "\n",
        "# Apply a reverse filter, which is specifically a video filter, to the stream\n",
        "video = input1.reverse()  # The 'reverse' filter is applied, resulting in a VideoStream output.\n",
        "\n",
        "# Attempting to apply an audio filter (amix) to a video stream results in an error\n",
        "ffmpeg.filters.amix(video)  # This line will raise an exception because 'amix' is an audio filter, incompatible with a VideoStream."
      ]
    },
    {
      "cell_type": "markdown",
      "metadata": {},
      "source": [
        "\n",
        "In this example, the `reverse` filter, which is designed for video streams, successfully transforms the input into a reversed video stream. However, when attempting to apply the `amix` filter, which is intended for audio streams, to the reversed video stream, the code will raise an exception. This error occurs because typed-ffmpeg recognizes the mismatch between the stream type (video) and the expected input type for the `amix` filter (audio).\n",
        "\n",
        "By incorporating these type checks, typed-ffmpeg aids in preventing common mistakes, such as applying an audio filter to a video stream or vice versa, thereby ensuring that filters are applied correctly and efficiently.\n",
        "\n",
        "### Working with Multiple Inputs\n",
        "Certain filters accept multiple inputs. When using such filters with typed-ffmpeg, ensure that the exact number of required streams is passed, as validated by static type checking:\n"
      ]
    },
    {
      "cell_type": "code",
      "execution_count": null,
      "metadata": {},
      "outputs": [],
      "source": [
        "import ffmpeg\n",
        "\n",
        "# Initialize two input streams\n",
        "input1 = ffmpeg.input('input1.mp4')\n",
        "input2 = ffmpeg.input('input2.mp4')\n",
        "\n",
        "# Overlay one stream over the other and output to a new file\n",
        "(\n",
        "    input1\n",
        "    .overlay(input2, x=10, y=10)\n",
        "    .output(filename=\"output.mp4\")\n",
        ")"
      ]
    },
    {
      "cell_type": "markdown",
      "metadata": {},
      "source": [
        "The process of overlaying two video streams is illustrated in the following diagram:\n"
      ]
    },
    {
      "cell_type": "markdown",
      "metadata": {},
      "source": [
        "\n",
        "### Handling Multiple Outputs\n",
        "Some filters, when applied, generate multiple output streams. typed-ffmpeg facilitates handling these scenarios with clear and concise code:"
      ]
    },
    {
      "cell_type": "code",
      "execution_count": null,
      "metadata": {},
      "outputs": [],
      "source": [
        "import ffmpeg\n",
        "\n",
        "# Initialize input streams\n",
        "input1 = ffmpeg.input('input1.mp4')\n",
        "input2 = ffmpeg.input('input2.mp4')\n",
        "\n",
        "# Apply a filter that generates multiple outputs\n",
        "video, feedout = input1.feedback(input2)  # Generates two output streams\n",
        "\n",
        "# Process and output each stream separately\n",
        "o1 = video.drawtext(text='Hello World', fontsize=12, x=10, y=10).output(filename=\"output1.mp4\")\n",
        "o2 = feedout.drawtext(text='Hello World', fontsize=12, x=10, y=10).output(filename=\"output2.mp4\")\n",
        "\n",
        "# Merge the outputs\n",
        "ffmpeg.merge_outputs(o1, o2)"
      ]
    },
    {
      "cell_type": "markdown",
      "metadata": {},
      "source": [
        "The generation of multiple output streams from a single filter application is depicted below:\n",
        "\n",
        "\n",
        "### Dynamic Input Filters\n",
        "Some filters accept a variable number of inputs. In these cases, typed-ffmpeg offers flexibility but requires careful input management:"
      ]
    },
    {
      "cell_type": "code",
      "execution_count": null,
      "metadata": {},
      "outputs": [],
      "source": [
        "import ffmpeg\n",
        "\n",
        "# Correct usage with the expected number of inputs\n",
        "input1 = ffmpeg.input('input1.mp4')\n",
        "input2 = ffmpeg.input('input2.mp4')\n",
        "ffmpeg.filters.amix(input1, input2, inputs=2)"
      ]
    },
    {
      "cell_type": "markdown",
      "metadata": {},
      "source": [
        "Incorrect input numbers will trigger exceptions, providing immediate feedback without needing to execute FFmpeg:\n"
      ]
    },
    {
      "cell_type": "code",
      "execution_count": null,
      "metadata": {},
      "outputs": [],
      "source": [
        "import ffmpeg\n",
        "\n",
        "# Incorrect usage leading to a ValueError\n",
        "input1 = ffmpeg.input('input1.mp4')\n",
        "input2 = ffmpeg.input('input2.mp4')\n",
        "f = ffmpeg.filters.amix(input1, input2, inputs=3)  # This will raise a ValueError"
      ]
    },
    {
      "cell_type": "markdown",
      "metadata": {},
      "source": [
        "\n",
        "### Dynamic Output Filters\n",
        "Similarly, some filters yield a dynamic number of outputs. typed-ffmpeg ensures that any mismatches are quickly identified:\n"
      ]
    },
    {
      "cell_type": "code",
      "execution_count": null,
      "metadata": {},
      "outputs": [],
      "source": [
        "import ffmpeg\n",
        "\n",
        "# Initialize input and apply a split filter\n",
        "input1 = ffmpeg.input('input1.mp4')\n",
        "split = input1.split(outputs=2)\n",
        "\n",
        "# Correctly accessing the outputs\n",
        "video0 = split.video(0)\n",
        "video1 = split.video(1)\n",
        "\n",
        "# Incorrectly accessing an out-of-range output will raise an error\n",
        "video2 = split.video(2)  # This will raise a ValueError\n"
      ]
    }
  ],
  "metadata": {
    "kernelspec": {
      "display_name": ".venv",
      "language": "python",
      "name": "python3"
    },
    "language_info": {
      "codemirror_mode": {
        "name": "ipython",
        "version": 3
      },
      "file_extension": ".py",
      "mimetype": "text/x-python",
      "name": "python",
      "nbconvert_exporter": "python",
      "pygments_lexer": "ipython3",
      "version": "3.10.13"
    }
  },
  "nbformat": 4,
  "nbformat_minor": 2
}
