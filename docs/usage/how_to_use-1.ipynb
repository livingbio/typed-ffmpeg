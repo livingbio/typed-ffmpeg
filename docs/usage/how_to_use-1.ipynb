{
  "cells": [
    {
      "cell_type": "markdown",
      "metadata": {},
      "source": [
        "# Basic API Usage for FFmpeg\n",
        "\n",
        "## Input\n",
        "\n",
        "### Creating a New Input Stream\n",
        "To create a new input stream, use the `ffmpeg.input` function. This function is straightforward and initiates the stream from a specified file.\n"
      ]
    },
    {
      "cell_type": "code",
      "execution_count": 1,
      "metadata": {},
      "outputs": [
        {
          "data": {
            "image/png": "[encoded data removed]",
            "text/plain": [
              "AVStream(node=InputNode(kwargs=(), inputs=(), filename='input.mp4'), index=None)"
            ]
          },
          "execution_count": 1,
          "metadata": {},
          "output_type": "execute_result"
        }
      ],
      "source": [
        "\n",
        "import ffmpeg\n",
        "\n",
        "# Create a new input stream\n",
        "ffmpeg.input('input.mp4')\n"
      ]
    },
    {
      "cell_type": "markdown",
      "metadata": {},
      "source": [
        "### Adding Input Options\n",
        "To specify additional options for the input stream, such as start time and duration, you can include them directly in the `ffmpeg.input` function.\n"
      ]
    },
    {
      "cell_type": "code",
      "execution_count": 3,
      "metadata": {},
      "outputs": [
        {
          "data": {
            "image/png": "[encoded data removed]",
            "text/plain": [
              "AVStream(node=InputNode(kwargs=(('t', 20), ('ss', 10)), inputs=(), filename='input.mp4'), index=None)"
            ]
          },
          "execution_count": 3,
          "metadata": {},
          "output_type": "execute_result"
        }
      ],
      "source": [
        "import ffmpeg\n",
        "\n",
        "# Create a new input stream with specific options\n",
        "ffmpeg.input('input.mp4', ss=10, t=20)  # Start at 10 seconds and last for 20 seconds\n"
      ]
    },
    {
      "cell_type": "markdown",
      "metadata": {},
      "source": [
        "\n",
        "!!! note\n",
        "    The `ss` option specifies the start time (in seconds), and the `t` option specifies the duration (in seconds) of the input stream. For more details, refer to the [FFmpeg documentation](https://ffmpeg.org/ffmpeg.html#Main-options).\n",
        "\n",
        "## Output\n",
        "\n",
        "### Creating a New Output Stream\n",
        "To create a new output stream, use the `ffmpeg.output` function. This function is used to configure the output settings of the stream.\n"
      ]
    },
    {
      "cell_type": "code",
      "execution_count": 5,
      "metadata": {},
      "outputs": [
        {
          "data": {
            "image/png": "[encoded data removed]",
            "text/plain": [
              "OutputStream(node=OutputNode(kwargs=(), inputs=(AVStream(node=InputNode(kwargs=(), inputs=(), filename='input.mp4'), index=None),), filename='output.mp4'), index=None)"
            ]
          },
          "execution_count": 5,
          "metadata": {},
          "output_type": "execute_result"
        }
      ],
      "source": [
        "import ffmpeg\n",
        "\n",
        "# Create a new output stream\n",
        "ffmpeg.input(\"input.mp4\").output(filename=\"output.mp4\")"
      ]
    },
    {
      "cell_type": "markdown",
      "metadata": {},
      "source": [
        "\n",
        "### Specifying Output Options\n",
        "You can specify various output options directly in the `ffmpeg.output` function, such as the start time and duration for the output file."
      ]
    },
    {
      "cell_type": "code",
      "execution_count": 7,
      "metadata": {},
      "outputs": [
        {
          "data": {
            "image/png": "[encoded data removed]",
            "text/plain": [
              "OutputStream(node=OutputNode(kwargs=(('t', 20), ('ss', 10)), inputs=(AVStream(node=InputNode(kwargs=(), inputs=(), filename='input.mp4'), index=None),), filename='output.mp4'), index=None)"
            ]
          },
          "execution_count": 7,
          "metadata": {},
          "output_type": "execute_result"
        }
      ],
      "source": [
        "import ffmpeg\n",
        "\n",
        "# Create and configure a new output stream\n",
        "ffmpeg.input(\"input.mp4\").output(filename=\"output.mp4\", ss=10, t=20)  # Output starting at 10 seconds with a duration of 20 seconds"
      ]
    },
    {
      "cell_type": "markdown",
      "metadata": {},
      "source": [
        "You can also map multiple streams to a single output file.\n"
      ]
    },
    {
      "cell_type": "code",
      "execution_count": 9,
      "metadata": {},
      "outputs": [
        {
          "data": {
            "image/png": "[encoded data removed]",
            "text/plain": [
              "OutputStream(node=OutputNode(kwargs=(), inputs=(AVStream(node=InputNode(kwargs=(), inputs=(), filename='input1.mp4'), index=None), AVStream(node=InputNode(kwargs=(), inputs=(), filename='input2.mp3'), index=None)), filename='output.mp4'), index=None)"
            ]
          },
          "execution_count": 9,
          "metadata": {},
          "output_type": "execute_result"
        }
      ],
      "source": [
        "import ffmpeg\n",
        "\n",
        "# Define input streams\n",
        "input1 = ffmpeg.input('input1.mp4')\n",
        "input2 = ffmpeg.input('input2.mp3')\n",
        "\n",
        "# Map multiple inputs to a single output\n",
        "ffmpeg.output(input1, input2, filename=\"output.mp4\")"
      ]
    },
    {
      "cell_type": "markdown",
      "metadata": {},
      "source": [
        "Alternatively:\n"
      ]
    },
    {
      "cell_type": "code",
      "execution_count": 11,
      "metadata": {},
      "outputs": [
        {
          "data": {
            "image/png": "[encoded data removed]",
            "text/plain": [
              "OutputStream(node=OutputNode(kwargs=(), inputs=(AVStream(node=InputNode(kwargs=(), inputs=(), filename='input1.mp4'), index=None), AVStream(node=InputNode(kwargs=(), inputs=(), filename='input2.mp3'), index=None)), filename='output.mp4'), index=None)"
            ]
          },
          "execution_count": 11,
          "metadata": {},
          "output_type": "execute_result"
        }
      ],
      "source": [
        "import ffmpeg\n",
        "\n",
        "# Chain input and output operations\n",
        "(\n",
        "    ffmpeg.input('input1.mp4')\n",
        "    .output(ffmpeg.input(\"input2.mp3\"), filename=\"output.mp4\")\n",
        ")\n"
      ]
    },
    {
      "cell_type": "markdown",
      "metadata": {},
      "source": [
        "\n",
        "## Merging Outputs\n",
        "\n",
        "FFmpeg allows processing multiple output files simultaneously. The Python FFmpeg wrapper supports this feature through the `merge_outputs` method.\n"
      ]
    },
    {
      "cell_type": "code",
      "execution_count": 12,
      "metadata": {},
      "outputs": [
        {
          "ename": "NameError",
          "evalue": "name '_show' is not defined",
          "output_type": "error",
          "traceback": [
            "\u001b[0;31m---------------------------------------------------------------------------\u001b[0m",
            "\u001b[0;31mNameError\u001b[0m                                 Traceback (most recent call last)",
            "Cell \u001b[0;32mIn[12], line 13\u001b[0m\n\u001b[1;32m     11\u001b[0m \u001b[38;5;66;03m# Merge the outputs into a single operation\u001b[39;00m\n\u001b[1;32m     12\u001b[0m stream \u001b[38;5;241m=\u001b[39m ffmpeg\u001b[38;5;241m.\u001b[39mmerge_outputs(output1, output2)\n\u001b[0;32m---> 13\u001b[0m \u001b[43m_show\u001b[49m(stream)\n",
            "\u001b[0;31mNameError\u001b[0m: name '_show' is not defined"
          ]
        }
      ],
      "source": [
        "import ffmpeg\n",
        "\n",
        "# Define input streams\n",
        "input1 = ffmpeg.input('input1.mp4')\n",
        "input2 = ffmpeg.input('input2.mp4')\n",
        "\n",
        "# Define output streams\n",
        "output1 = input1.output(filename=\"output1.mp4\")\n",
        "output2 = input2.output(filename=\"output2.mp4\")\n",
        "\n",
        "# Merge the outputs into a single operation\n",
        "ffmpeg.merge_outputs(output1, output2)\n"
      ]
    }
  ],
  "metadata": {
    "kernelspec": {
      "display_name": ".venv",
      "language": "python",
      "name": "python3"
    },
    "language_info": {
      "codemirror_mode": {
        "name": "ipython",
        "version": 3
      },
      "file_extension": ".py",
      "mimetype": "text/x-python",
      "name": "python",
      "nbconvert_exporter": "python",
      "pygments_lexer": "ipython3",
      "version": "3.10.13"
    }
  },
  "nbformat": 4,
  "nbformat_minor": 2
}
