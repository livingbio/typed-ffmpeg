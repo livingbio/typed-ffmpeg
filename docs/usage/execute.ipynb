{
  "cells": [
    {
      "cell_type": "markdown",
      "metadata": {},
      "source": [
        "## Execute\n",
        "\n",
        "Once you have defined your FFmpeg processing pipeline in Typed-FFmpeg, executing the command or inspecting the underlying FFmpeg command is straightforward. This section covers how to run your FFmpeg tasks programmatically and how to retrieve the command line equivalent for debugging or educational purposes.\n"
      ]
    },
    {
      "cell_type": "code",
      "execution_count": 1,
      "metadata": {},
      "outputs": [
        {
          "data": {
            "image/png": "[encoded data removed]",
            "image/svg+xml": [
              "<?xml version=\"1.0\" encoding=\"UTF-8\" standalone=\"no\"?>\n",
              "<!DOCTYPE svg PUBLIC \"-//W3C//DTD SVG 1.1//EN\"\n",
              " \"http://www.w3.org/Graphics/SVG/1.1/DTD/svg11.dtd\">\n",
              "<!-- Generated by graphviz version 2.43.0 (0)\n",
              " -->\n",
              "<!-- Title: %3 Pages: 1 -->\n",
              "<svg width=\"1089pt\" height=\"44pt\"\n",
              " viewBox=\"0.00 0.00 1089.00 44.00\" xmlns=\"http://www.w3.org/2000/svg\" xmlns:xlink=\"http://www.w3.org/1999/xlink\">\n",
              "<g id=\"graph0\" class=\"graph\" transform=\"scale(1 1) rotate(0) translate(4 40)\">\n",
              "<title>%3</title>\n",
              "<polygon fill=\"white\" stroke=\"transparent\" points=\"-4,4 -4,-40 1085,-40 1085,4 -4,4\"/>\n",
              "<!-- 7e0ac570f6bc07ab -->\n",
              "<g id=\"node1\" class=\"node\">\n",
              "<title>7e0ac570f6bc07ab</title>\n",
              "<polygon fill=\"#99cc00\" stroke=\"black\" points=\"89,-36 0,-36 0,0 89,0 89,-36\"/>\n",
              "<text text-anchor=\"middle\" x=\"44.5\" y=\"-14.9\" font-family=\"Helvetica,sans-Serif\" font-size=\"12.00\">&#45;i input.mp4</text>\n",
              "</g>\n",
              "<!-- 77e195d7d1b34e68 -->\n",
              "<g id=\"node2\" class=\"node\">\n",
              "<title>77e195d7d1b34e68</title>\n",
              "<polygon fill=\"#ffcc00\" stroke=\"black\" points=\"374,-36 169,-36 169,0 374,0 374,-36\"/>\n",
              "<text text-anchor=\"middle\" x=\"271.5\" y=\"-14.9\" font-family=\"Helvetica,sans-Serif\" font-size=\"12.00\">[0] trim= start=10:end=20 [s0]</text>\n",
              "</g>\n",
              "<!-- 7e0ac570f6bc07ab&#45;&gt;77e195d7d1b34e68 -->\n",
              "<g id=\"edge1\" class=\"edge\">\n",
              "<title>7e0ac570f6bc07ab&#45;&gt;77e195d7d1b34e68</title>\n",
              "<path fill=\"none\" stroke=\"black\" d=\"M89.15,-18C109.14,-18 133.85,-18 158.52,-18\"/>\n",
              "<polygon fill=\"black\" stroke=\"black\" points=\"158.71,-21.5 168.71,-18 158.71,-14.5 158.71,-21.5\"/>\n",
              "<text text-anchor=\"middle\" x=\"129\" y=\"-21.8\" font-family=\"Times,serif\" font-size=\"14.00\">0 &#45;&gt; 0</text>\n",
              "</g>\n",
              "<!-- 2eb71ff063e11e5b -->\n",
              "<g id=\"node3\" class=\"node\">\n",
              "<title>2eb71ff063e11e5b</title>\n",
              "<polygon fill=\"#ffcc00\" stroke=\"black\" points=\"845,-36 462,-36 462,0 845,0 845,-36\"/>\n",
              "<text text-anchor=\"middle\" x=\"653.5\" y=\"-14.9\" font-family=\"Helvetica,sans-Serif\" font-size=\"12.00\">[s0] drawtext= text=Hello World:fontsize=12:x=10:y=10 [s1]</text>\n",
              "</g>\n",
              "<!-- 77e195d7d1b34e68&#45;&gt;2eb71ff063e11e5b -->\n",
              "<g id=\"edge2\" class=\"edge\">\n",
              "<title>77e195d7d1b34e68&#45;&gt;2eb71ff063e11e5b</title>\n",
              "<path fill=\"none\" stroke=\"black\" d=\"M374.33,-18C398.41,-18 424.91,-18 451.7,-18\"/>\n",
              "<polygon fill=\"black\" stroke=\"black\" points=\"451.98,-21.5 461.98,-18 451.98,-14.5 451.98,-21.5\"/>\n",
              "<text text-anchor=\"middle\" x=\"418\" y=\"-21.8\" font-family=\"Times,serif\" font-size=\"14.00\">s0 &#45;&gt; 0</text>\n",
              "</g>\n",
              "<!-- 2a93c41e63750047 -->\n",
              "<g id=\"node4\" class=\"node\">\n",
              "<title>2a93c41e63750047</title>\n",
              "<polygon fill=\"#99ccff\" stroke=\"black\" points=\"1081,-36 933,-36 933,0 1081,0 1081,-36\"/>\n",
              "<text text-anchor=\"middle\" x=\"1007\" y=\"-14.9\" font-family=\"Helvetica,sans-Serif\" font-size=\"12.00\">&#45;map [s1] output.mp4</text>\n",
              "</g>\n",
              "<!-- 2eb71ff063e11e5b&#45;&gt;2a93c41e63750047 -->\n",
              "<g id=\"edge3\" class=\"edge\">\n",
              "<title>2eb71ff063e11e5b&#45;&gt;2a93c41e63750047</title>\n",
              "<path fill=\"none\" stroke=\"black\" d=\"M845.17,-18C872.3,-18 898.95,-18 922.52,-18\"/>\n",
              "<polygon fill=\"black\" stroke=\"black\" points=\"922.77,-21.5 932.77,-18 922.77,-14.5 922.77,-21.5\"/>\n",
              "<text text-anchor=\"middle\" x=\"889\" y=\"-21.8\" font-family=\"Times,serif\" font-size=\"14.00\">s1 &#45;&gt; 0</text>\n",
              "</g>\n",
              "</g>\n",
              "</svg>\n"
            ],
            "text/plain": [
              "OutputStream(node=OutputNode(kwargs=FrozenDict({}), inputs=(VideoStream(node=FilterNode(kwargs=FrozenDict({'text': 'Hello World', 'fontsize': 12, 'x': 10, 'y': 10}), inputs=(VideoStream(node=FilterNode(kwargs=FrozenDict({'start': 10, 'end': 20}), inputs=(AVStream(node=InputNode(kwargs=FrozenDict({}), inputs=(), filename='input.mp4'), index=None, optional=False),), name='trim', input_typings=(<StreamType.video: 'video'>,), output_typings=(<StreamType.video: 'video'>,)), index=0, optional=False),), name='drawtext', input_typings=(<StreamType.video: 'video'>,), output_typings=(<StreamType.video: 'video'>,)), index=0, optional=False),), filename='output.mp4'), index=None, optional=False)"
            ]
          },
          "execution_count": 1,
          "metadata": {},
          "output_type": "execute_result"
        }
      ],
      "source": [
        "import ffmpeg\n",
        "\n",
        "# Define the FFmpeg command with filters and output\n",
        "input_stream = ffmpeg.input(\"input.mp4\")\n",
        "f = (\n",
        "    input_stream.trim(start=10, end=20)\n",
        "    .drawtext(text=\"Hello World\", fontsize=12, x=10, y=10)\n",
        "    .output(filename=\"output.mp4\")\n",
        ")\n",
        "f"
      ]
    },
    {
      "cell_type": "markdown",
      "metadata": {},
      "source": [
        "```python\n",
        "# Execute the FFmpeg command\n",
        "f.run()\n",
        "```"
      ]
    },
    {
      "cell_type": "markdown",
      "metadata": {},
      "source": [
        "\n",
        "### Retrieving the Command Line\n",
        "\n",
        "For debugging or verification purposes, you might want to inspect the exact command line that Typed-FFmpeg will execute. This can be done using the .compile() or .command_line() methods. These methods are especially useful for understanding how Typed-FFmpeg translates your Python code into FFmpeg command-line arguments.\n"
      ]
    },
    {
      "cell_type": "code",
      "execution_count": 2,
      "metadata": {},
      "outputs": [
        {
          "data": {
            "text/plain": [
              "['ffmpeg',\n",
              " '-i',\n",
              " 'input.mp4',\n",
              " '-filter_complex',\n",
              " '[0]trim=start=10:end=20[s0];[s0]drawtext=text=Hello World:fontsize=12:x=10:y=10[s1]',\n",
              " '-map',\n",
              " '[s1]',\n",
              " 'output.mp4']"
            ]
          },
          "execution_count": 2,
          "metadata": {},
          "output_type": "execute_result"
        }
      ],
      "source": [
        "# Compile the FFmpeg command into a list format\n",
        "command_list = f.compile()\n",
        "command_list"
      ]
    },
    {
      "cell_type": "code",
      "execution_count": 3,
      "metadata": {},
      "outputs": [
        {
          "data": {
            "text/plain": [
              "\"ffmpeg -i input.mp4 -filter_complex '[0]trim=start=10:end=20[s0];[s0]drawtext=text=Hello World:fontsize=12:x=10:y=10[s1]' -map '[s1]' output.mp4\""
            ]
          },
          "execution_count": 3,
          "metadata": {},
          "output_type": "execute_result"
        }
      ],
      "source": [
        "# Alternatively, get the command line as a single string\n",
        "command_string = f.compile_line()\n",
        "command_string"
      ]
    },
    {
      "cell_type": "markdown",
      "metadata": {},
      "source": [
        "These methods are primarily intended for debugging and ensuring that the Typed-FFmpeg commands align with your expectations.\n"
      ]
    },
    {
      "cell_type": "markdown",
      "metadata": {},
      "source": [
        "### Visualizing the Command\n",
        "\n",
        "Typed-FFmpeg also offers a method to visualize your filter graph, which can help in understanding the flow and structure of your FFmpeg command. This is particularly helpful when dealing with complex filter chains or multi-stream workflows.\n"
      ]
    },
    {
      "cell_type": "code",
      "execution_count": 4,
      "metadata": {},
      "outputs": [
        {
          "data": {
            "text/plain": [
              "'Digraph.gv.png'"
            ]
          },
          "execution_count": 4,
          "metadata": {},
          "output_type": "execute_result"
        }
      ],
      "source": [
        "# Visualize the FFmpeg filter graph\n",
        "f.view()"
      ]
    },
    {
      "cell_type": "markdown",
      "metadata": {},
      "source": [
        "Utilizing the .view() method renders a graphical representation of your command's filter graph, providing a clear and intuitive overview of how your streams and filters are interconnected.\n",
        "\n",
        "By following these steps, you can effectively execute, debug, and visualize your video and audio processing tasks within the Typed-FFmpeg framework.\n",
        "\n",
        "\n",
        "### Validate & Auto Fix with Typed-FFmpeg\n",
        "\n",
        "Typed-FFmpeg introduces an advanced feature for validating and automatically correcting your FFmpeg commands. This functionality is invaluable for ensuring that your commands are not only syntactically correct but also adhere to FFmpeg's operational requirements, which can sometimes be non-intuitive and lead to user confusion.\n",
        "\n",
        "#### Resolving Missing Split Filters\n",
        "\n",
        "A common issue in FFmpeg commands is the improper reuse of filtered streams without a split. FFmpeg requires distinct stream references when a stream is used in multiple contexts. Typed-FFmpeg can automatically insert necessary split filters to rectify this.\n",
        "\n",
        "**Example of a Missing Split Filter Issue:**"
      ]
    },
    {
      "cell_type": "code",
      "execution_count": 5,
      "metadata": {},
      "outputs": [
        {
          "data": {
            "image/png": "[encoded data removed]",
            "image/svg+xml": [
              "<?xml version=\"1.0\" encoding=\"UTF-8\" standalone=\"no\"?>\n",
              "<!DOCTYPE svg PUBLIC \"-//W3C//DTD SVG 1.1//EN\"\n",
              " \"http://www.w3.org/Graphics/SVG/1.1/DTD/svg11.dtd\">\n",
              "<!-- Generated by graphviz version 2.43.0 (0)\n",
              " -->\n",
              "<!-- Title: %3 Pages: 1 -->\n",
              "<svg width=\"764pt\" height=\"47pt\"\n",
              " viewBox=\"0.00 0.00 764.00 46.82\" xmlns=\"http://www.w3.org/2000/svg\" xmlns:xlink=\"http://www.w3.org/1999/xlink\">\n",
              "<g id=\"graph0\" class=\"graph\" transform=\"scale(1 1) rotate(0) translate(4 42.82)\">\n",
              "<title>%3</title>\n",
              "<polygon fill=\"white\" stroke=\"transparent\" points=\"-4,4 -4,-42.82 760,-42.82 760,4 -4,4\"/>\n",
              "<!-- 7e0ac570f6bc07ab -->\n",
              "<g id=\"node1\" class=\"node\">\n",
              "<title>7e0ac570f6bc07ab</title>\n",
              "<polygon fill=\"#99cc00\" stroke=\"black\" points=\"89,-38.82 0,-38.82 0,-2.82 89,-2.82 89,-38.82\"/>\n",
              "<text text-anchor=\"middle\" x=\"44.5\" y=\"-17.72\" font-family=\"Helvetica,sans-Serif\" font-size=\"12.00\">&#45;i input.mp4</text>\n",
              "</g>\n",
              "<!-- 30d7d279da389ae8 -->\n",
              "<g id=\"node2\" class=\"node\">\n",
              "<title>30d7d279da389ae8</title>\n",
              "<polygon fill=\"#ffcc00\" stroke=\"black\" points=\"277,-38.82 169,-38.82 169,-2.82 277,-2.82 277,-38.82\"/>\n",
              "<text text-anchor=\"middle\" x=\"223\" y=\"-17.72\" font-family=\"Helvetica,sans-Serif\" font-size=\"12.00\">[0] reverse [s0]</text>\n",
              "</g>\n",
              "<!-- 7e0ac570f6bc07ab&#45;&gt;30d7d279da389ae8 -->\n",
              "<g id=\"edge1\" class=\"edge\">\n",
              "<title>7e0ac570f6bc07ab&#45;&gt;30d7d279da389ae8</title>\n",
              "<path fill=\"none\" stroke=\"black\" d=\"M89.13,-20.82C110.12,-20.82 135.67,-20.82 158.74,-20.82\"/>\n",
              "<polygon fill=\"black\" stroke=\"black\" points=\"158.8,-24.32 168.8,-20.82 158.8,-17.32 158.8,-24.32\"/>\n",
              "<text text-anchor=\"middle\" x=\"129\" y=\"-24.62\" font-family=\"Times,serif\" font-size=\"14.00\">0 &#45;&gt; 0</text>\n",
              "</g>\n",
              "<!-- 69f56d11f05e7b60 -->\n",
              "<g id=\"node3\" class=\"node\">\n",
              "<title>69f56d11f05e7b60</title>\n",
              "<polygon fill=\"#ffcc00\" stroke=\"black\" points=\"535,-38.82 365,-38.82 365,-2.82 535,-2.82 535,-38.82\"/>\n",
              "<text text-anchor=\"middle\" x=\"450\" y=\"-17.72\" font-family=\"Helvetica,sans-Serif\" font-size=\"12.00\">[s0][s0] concat= n=2 [s1]</text>\n",
              "</g>\n",
              "<!-- 30d7d279da389ae8&#45;&gt;69f56d11f05e7b60 -->\n",
              "<g id=\"edge2\" class=\"edge\">\n",
              "<title>30d7d279da389ae8&#45;&gt;69f56d11f05e7b60</title>\n",
              "<path fill=\"none\" stroke=\"black\" d=\"M277.04,-20.82C300.19,-20.82 328.07,-20.82 354.57,-20.82\"/>\n",
              "<polygon fill=\"black\" stroke=\"black\" points=\"354.64,-24.32 364.64,-20.82 354.64,-17.32 354.64,-24.32\"/>\n",
              "<text text-anchor=\"middle\" x=\"321\" y=\"-24.62\" font-family=\"Times,serif\" font-size=\"14.00\">s0 &#45;&gt; 0</text>\n",
              "</g>\n",
              "<!-- 30d7d279da389ae8&#45;&gt;69f56d11f05e7b60 -->\n",
              "<g id=\"edge3\" class=\"edge\">\n",
              "<title>30d7d279da389ae8&#45;&gt;69f56d11f05e7b60</title>\n",
              "<path fill=\"none\" stroke=\"black\" d=\"M277.2,-4.98C283.16,-3.69 289.18,-2.59 295,-1.82 314.65,0.76 335.72,0.29 355.78,-1.69\"/>\n",
              "<polygon fill=\"black\" stroke=\"black\" points=\"355.52,-5.18 365.85,-2.82 356.3,1.77 355.52,-5.18\"/>\n",
              "<text text-anchor=\"middle\" x=\"321\" y=\"-5.62\" font-family=\"Times,serif\" font-size=\"14.00\">s0 &#45;&gt; 1</text>\n",
              "</g>\n",
              "<!-- 4941cd54fbaf46d7 -->\n",
              "<g id=\"node4\" class=\"node\">\n",
              "<title>4941cd54fbaf46d7</title>\n",
              "<polygon fill=\"#99ccff\" stroke=\"black\" points=\"756,-38.82 623,-38.82 623,-2.82 756,-2.82 756,-38.82\"/>\n",
              "<text text-anchor=\"middle\" x=\"689.5\" y=\"-17.72\" font-family=\"Helvetica,sans-Serif\" font-size=\"12.00\">&#45;map [s1] tmp.mp4</text>\n",
              "</g>\n",
              "<!-- 69f56d11f05e7b60&#45;&gt;4941cd54fbaf46d7 -->\n",
              "<g id=\"edge4\" class=\"edge\">\n",
              "<title>69f56d11f05e7b60&#45;&gt;4941cd54fbaf46d7</title>\n",
              "<path fill=\"none\" stroke=\"black\" d=\"M535.07,-20.82C560.4,-20.82 588.04,-20.82 612.8,-20.82\"/>\n",
              "<polygon fill=\"black\" stroke=\"black\" points=\"612.85,-24.32 622.85,-20.82 612.85,-17.32 612.85,-24.32\"/>\n",
              "<text text-anchor=\"middle\" x=\"579\" y=\"-24.62\" font-family=\"Times,serif\" font-size=\"14.00\">s1 &#45;&gt; 0</text>\n",
              "</g>\n",
              "</g>\n",
              "</svg>\n"
            ],
            "text/plain": [
              "OutputStream(node=OutputNode(kwargs=FrozenDict({}), inputs=(VideoStream(node=FilterNode(kwargs=FrozenDict({'n': 2}), inputs=(VideoStream(node=FilterNode(kwargs=FrozenDict({}), inputs=(AVStream(node=InputNode(kwargs=FrozenDict({}), inputs=(), filename='input.mp4'), index=None, optional=False),), name='reverse', input_typings=(<StreamType.video: 'video'>,), output_typings=(<StreamType.video: 'video'>,)), index=0, optional=False), VideoStream(node=FilterNode(kwargs=FrozenDict({}), inputs=(AVStream(node=InputNode(kwargs=FrozenDict({}), inputs=(), filename='input.mp4'), index=None, optional=False),), name='reverse', input_typings=(<StreamType.video: 'video'>,), output_typings=(<StreamType.video: 'video'>,)), index=0, optional=False)), name='concat', input_typings=(<StreamType.video: 'video'>, <StreamType.video: 'video'>), output_typings=(<StreamType.video: 'video'>,)), index=0, optional=False),), filename='tmp.mp4'), index=None, optional=False)"
            ]
          },
          "execution_count": 5,
          "metadata": {},
          "output_type": "execute_result"
        }
      ],
      "source": [
        "from ffmpeg import input\n",
        "from ffmpeg.filters import concat\n",
        "\n",
        "# Define a problematic FFmpeg graph without the required split\n",
        "input_stream = input(\"input.mp4\")\n",
        "stream = input_stream.reverse()\n",
        "graph = concat(stream, stream).video(0).output(filename=\"tmp.mp4\")\n",
        "graph"
      ]
    },
    {
      "cell_type": "code",
      "execution_count": 6,
      "metadata": {},
      "outputs": [
        {
          "data": {
            "text/plain": [
              "\"ffmpeg -i input.mp4 -filter_complex '[0]reverse[s0];[s0][s0]concat=n=2[s1]' -map '[s1]' tmp.mp4\""
            ]
          },
          "execution_count": 6,
          "metadata": {},
          "output_type": "execute_result"
        }
      ],
      "source": [
        "# Attempt to compile the command without auto-fixing\n",
        "graph.compile_line(auto_fix=False)\n",
        "# Incorrect command: ffmpeg -i input.mp4 -filter_complex '[0:v]reverse[r];[r][r]concat[c]' -map '[c]' tmp.mp4"
      ]
    },
    {
      "cell_type": "code",
      "execution_count": 7,
      "metadata": {},
      "outputs": [
        {
          "ename": "ModuleNotFoundError",
          "evalue": "No module named 'ffmpeg.dag.validate'",
          "output_type": "error",
          "traceback": [
            "\u001b[0;31m---------------------------------------------------------------------------\u001b[0m",
            "\u001b[0;31mModuleNotFoundError\u001b[0m                       Traceback (most recent call last)",
            "Cell \u001b[0;32mIn[7], line 3\u001b[0m\n\u001b[1;32m      1\u001b[0m \u001b[38;5;66;03m# typed-ffmpeg's built-in validation will catch the issue and suggest a fix\u001b[39;00m\n\u001b[0;32m----> 3\u001b[0m \u001b[38;5;28;01mfrom\u001b[39;00m\u001b[38;5;250m \u001b[39m\u001b[38;5;21;01mffmpeg\u001b[39;00m\u001b[38;5;21;01m.\u001b[39;00m\u001b[38;5;21;01mdag\u001b[39;00m\u001b[38;5;21;01m.\u001b[39;00m\u001b[38;5;21;01mvalidate\u001b[39;00m\u001b[38;5;250m \u001b[39m\u001b[38;5;28;01mimport\u001b[39;00m validate\n\u001b[1;32m      5\u001b[0m validate(graph)\n",
            "\u001b[0;31mModuleNotFoundError\u001b[0m: No module named 'ffmpeg.dag.validate'"
          ]
        }
      ],
      "source": [
        "# typed-ffmpeg's built-in validation will catch the issue and suggest a fix\n",
        "\n",
        "from ffmpeg.dag.validate import validate\n",
        "\n",
        "validate(graph)"
      ]
    },
    {
      "cell_type": "code",
      "execution_count": 8,
      "metadata": {},
      "outputs": [
        {
          "data": {
            "text/plain": [
              "\"ffmpeg -i input.mp4 -filter_complex '[0]reverse[s0];[s0]split=outputs=2[s1#0][s1#1];[s1#0][s1#1]concat=n=2[s2]' -map '[s2]' tmp.mp4\""
            ]
          },
          "execution_count": 8,
          "metadata": {},
          "output_type": "execute_result"
        }
      ],
      "source": [
        "# Automatically fix and compile the command\n",
        "graph.compile_line()\n",
        "# Corrected command: ffmpeg -i input.mp4 -filter_complex '[0:v]reverse[r];[r]split=2[s1][s2];[s1][s2]concat[c]' -map '[c]' tmp.mp4"
      ]
    },
    {
      "cell_type": "markdown",
      "metadata": {},
      "source": [
        "\n",
        "In this case, Typed-FFmpeg intelligently adds a split filter to meet FFmpeg's requirements for stream usage.\n",
        "\n",
        "#### Eliminating Redundant Split Filters\n",
        "\n",
        "Conversely, unnecessary split filters can also introduce problems, such as unintended stream selections or inefficient processing. Typed-FFmpeg can identify and remove these redundant filters, streamlining your command.\n",
        "\n",
        "**Example of Redundant Split Filter Issue:**"
      ]
    },
    {
      "cell_type": "code",
      "execution_count": 9,
      "metadata": {},
      "outputs": [
        {
          "data": {
            "image/png": "[encoded data removed]",
            "image/svg+xml": [
              "<?xml version=\"1.0\" encoding=\"UTF-8\" standalone=\"no\"?>\n",
              "<!DOCTYPE svg PUBLIC \"-//W3C//DTD SVG 1.1//EN\"\n",
              " \"http://www.w3.org/Graphics/SVG/1.1/DTD/svg11.dtd\">\n",
              "<!-- Generated by graphviz version 2.43.0 (0)\n",
              " -->\n",
              "<!-- Title: %3 Pages: 1 -->\n",
              "<svg width=\"858pt\" height=\"44pt\"\n",
              " viewBox=\"0.00 0.00 858.00 44.00\" xmlns=\"http://www.w3.org/2000/svg\" xmlns:xlink=\"http://www.w3.org/1999/xlink\">\n",
              "<g id=\"graph0\" class=\"graph\" transform=\"scale(1 1) rotate(0) translate(4 40)\">\n",
              "<title>%3</title>\n",
              "<polygon fill=\"white\" stroke=\"transparent\" points=\"-4,4 -4,-40 854,-40 854,4 -4,4\"/>\n",
              "<!-- 1cf030ba98477879 -->\n",
              "<g id=\"node1\" class=\"node\">\n",
              "<title>1cf030ba98477879</title>\n",
              "<polygon fill=\"#99cc00\" stroke=\"black\" points=\"96,-36 0,-36 0,0 96,0 96,-36\"/>\n",
              "<text text-anchor=\"middle\" x=\"48\" y=\"-14.9\" font-family=\"Helvetica,sans-Serif\" font-size=\"12.00\">&#45;i input1.mp4</text>\n",
              "</g>\n",
              "<!-- 1210a3b6241f80bc -->\n",
              "<g id=\"node2\" class=\"node\">\n",
              "<title>1210a3b6241f80bc</title>\n",
              "<polygon fill=\"#ffcc00\" stroke=\"black\" points=\"356,-36 176,-36 176,0 356,0 356,-36\"/>\n",
              "<text text-anchor=\"middle\" x=\"266\" y=\"-14.9\" font-family=\"Helvetica,sans-Serif\" font-size=\"12.00\">[0] split= outputs=2 [s0#0]</text>\n",
              "</g>\n",
              "<!-- 1cf030ba98477879&#45;&gt;1210a3b6241f80bc -->\n",
              "<g id=\"edge1\" class=\"edge\">\n",
              "<title>1cf030ba98477879&#45;&gt;1210a3b6241f80bc</title>\n",
              "<path fill=\"none\" stroke=\"black\" d=\"M96.14,-18C116.55,-18 141.28,-18 165.45,-18\"/>\n",
              "<polygon fill=\"black\" stroke=\"black\" points=\"165.75,-21.5 175.75,-18 165.75,-14.5 165.75,-21.5\"/>\n",
              "<text text-anchor=\"middle\" x=\"136\" y=\"-21.8\" font-family=\"Times,serif\" font-size=\"14.00\">0 &#45;&gt; 0</text>\n",
              "</g>\n",
              "<!-- 762f4fa32e8f5f8 -->\n",
              "<g id=\"node3\" class=\"node\">\n",
              "<title>762f4fa32e8f5f8</title>\n",
              "<polygon fill=\"#ffcc00\" stroke=\"black\" points=\"629,-36 465,-36 465,0 629,0 629,-36\"/>\n",
              "<text text-anchor=\"middle\" x=\"547\" y=\"-14.9\" font-family=\"Helvetica,sans-Serif\" font-size=\"12.00\">[s0#0] trim= end=5 [s1]</text>\n",
              "</g>\n",
              "<!-- 1210a3b6241f80bc&#45;&gt;762f4fa32e8f5f8 -->\n",
              "<g id=\"edge2\" class=\"edge\">\n",
              "<title>1210a3b6241f80bc&#45;&gt;762f4fa32e8f5f8</title>\n",
              "<path fill=\"none\" stroke=\"black\" d=\"M356.04,-18C387.56,-18 423.04,-18 454.74,-18\"/>\n",
              "<polygon fill=\"black\" stroke=\"black\" points=\"454.89,-21.5 464.89,-18 454.89,-14.5 454.89,-21.5\"/>\n",
              "<text text-anchor=\"middle\" x=\"410.5\" y=\"-21.8\" font-family=\"Times,serif\" font-size=\"14.00\">s0#0 &#45;&gt; 0</text>\n",
              "</g>\n",
              "<!-- 2279180abe357d35 -->\n",
              "<g id=\"node4\" class=\"node\">\n",
              "<title>2279180abe357d35</title>\n",
              "<polygon fill=\"#99ccff\" stroke=\"black\" points=\"850,-36 717,-36 717,0 850,0 850,-36\"/>\n",
              "<text text-anchor=\"middle\" x=\"783.5\" y=\"-14.9\" font-family=\"Helvetica,sans-Serif\" font-size=\"12.00\">&#45;map [s1] tmp.mp4</text>\n",
              "</g>\n",
              "<!-- 762f4fa32e8f5f8&#45;&gt;2279180abe357d35 -->\n",
              "<g id=\"edge3\" class=\"edge\">\n",
              "<title>762f4fa32e8f5f8&#45;&gt;2279180abe357d35</title>\n",
              "<path fill=\"none\" stroke=\"black\" d=\"M629.03,-18C654.28,-18 682.01,-18 706.88,-18\"/>\n",
              "<polygon fill=\"black\" stroke=\"black\" points=\"706.98,-21.5 716.98,-18 706.98,-14.5 706.98,-21.5\"/>\n",
              "<text text-anchor=\"middle\" x=\"673\" y=\"-21.8\" font-family=\"Times,serif\" font-size=\"14.00\">s1 &#45;&gt; 0</text>\n",
              "</g>\n",
              "</g>\n",
              "</svg>\n"
            ],
            "text/plain": [
              "OutputStream(node=OutputNode(kwargs=FrozenDict({}), inputs=(VideoStream(node=FilterNode(kwargs=FrozenDict({'end': 5}), inputs=(VideoStream(node=FilterNode(kwargs=FrozenDict({'outputs': 2}), inputs=(AVStream(node=InputNode(kwargs=FrozenDict({}), inputs=(), filename='input1.mp4'), index=None, optional=False),), name='split', input_typings=(<StreamType.video: 'video'>,), output_typings=(<StreamType.video: 'video'>, <StreamType.video: 'video'>)), index=0, optional=False),), name='trim', input_typings=(<StreamType.video: 'video'>,), output_typings=(<StreamType.video: 'video'>,)), index=0, optional=False),), filename='tmp.mp4'), index=None, optional=False)"
            ]
          },
          "execution_count": 9,
          "metadata": {},
          "output_type": "execute_result"
        }
      ],
      "source": [
        "from ffmpeg import input\n",
        "\n",
        "# Set up an FFmpeg graph with a redundant split\n",
        "input1 = input(\"input1.mp4\")\n",
        "f = input1.split(outputs=2).video(0).trim(end=5).output(filename=\"tmp.mp4\")\n",
        "f"
      ]
    },
    {
      "cell_type": "code",
      "execution_count": 10,
      "metadata": {},
      "outputs": [
        {
          "data": {
            "text/plain": [
              "\"ffmpeg -i input1.mp4 -filter_complex '[0]split=outputs=2[s0#0];[s0#0]trim=end=5[s1]' -map '[s1]' tmp.mp4\""
            ]
          },
          "execution_count": 10,
          "metadata": {},
          "output_type": "execute_result"
        }
      ],
      "source": [
        "# Compile the command with the redundant split, without auto-fixing\n",
        "f.compile_line(auto_fix=False)\n",
        "# Inefficient command: ffmpeg -i input1.mp4 -filter_complex '[0:v]split=2[s0][s1];[s0]trim=end=5[t]' -map '[t]' tmp.mp4"
      ]
    },
    {
      "cell_type": "code",
      "execution_count": 12,
      "metadata": {},
      "outputs": [
        {
          "ename": "ModuleNotFoundError",
          "evalue": "No module named 'ffmpeg.dag.validate'",
          "output_type": "error",
          "traceback": [
            "\u001b[0;31m---------------------------------------------------------------------------\u001b[0m",
            "\u001b[0;31mModuleNotFoundError\u001b[0m                       Traceback (most recent call last)",
            "Cell \u001b[0;32mIn[12], line 3\u001b[0m\n\u001b[1;32m      1\u001b[0m \u001b[38;5;66;03m# typed-ffmpeg's built-in validation will catch the issue and suggest a fix\u001b[39;00m\n\u001b[0;32m----> 3\u001b[0m \u001b[38;5;28;01mfrom\u001b[39;00m\u001b[38;5;250m \u001b[39m\u001b[38;5;21;01mffmpeg\u001b[39;00m\u001b[38;5;21;01m.\u001b[39;00m\u001b[38;5;21;01mdag\u001b[39;00m\u001b[38;5;21;01m.\u001b[39;00m\u001b[38;5;21;01mvalidate\u001b[39;00m\u001b[38;5;250m \u001b[39m\u001b[38;5;28;01mimport\u001b[39;00m validate\n\u001b[1;32m      5\u001b[0m validate(f)\n",
            "\u001b[0;31mModuleNotFoundError\u001b[0m: No module named 'ffmpeg.dag.validate'"
          ]
        }
      ],
      "source": [
        "# typed-ffmpeg's built-in validation will catch the issue and suggest a fix\n",
        "\n",
        "from ffmpeg.dag.validate import validate\n",
        "\n",
        "validate(f)"
      ]
    },
    {
      "cell_type": "code",
      "execution_count": 13,
      "metadata": {},
      "outputs": [
        {
          "data": {
            "text/plain": [
              "\"ffmpeg -i input1.mp4 -filter_complex '[0]trim=end=5[s0]' -map '[s0]' tmp.mp4\""
            ]
          },
          "execution_count": 13,
          "metadata": {},
          "output_type": "execute_result"
        }
      ],
      "source": [
        "# Auto-remove the redundant split and compile\n",
        "f.compile_line()\n",
        "# Optimized command: ffmpeg -i input1.mp4 -filter_complex '[0:v]trim=end=5[t]' -map '[t]' tmp.mp4"
      ]
    },
    {
      "cell_type": "markdown",
      "metadata": {},
      "source": [
        "\n",
        "In this example, Typed-FFmpeg eliminates the unnecessary split, thereby simplifying the command and potentially improving processing efficiency.\n",
        "\n",
        "#### Conclusion\n",
        "\n",
        "Typed-FFmpeg's validation and auto-fixing capabilities greatly enhance the user experience by automating the resolution of common issues and optimizing command structure. This ensures that users can focus more on their creative and technical goals rather than on navigating the intricacies of FFmpeg's syntax and stream management rules.\n"
      ]
    }
  ],
  "metadata": {
    "kernelspec": {
      "display_name": ".venv",
      "language": "python",
      "name": "python3"
    },
    "language_info": {
      "codemirror_mode": {
        "name": "ipython",
        "version": 3
      },
      "file_extension": ".py",
      "mimetype": "text/x-python",
      "name": "python",
      "nbconvert_exporter": "python",
      "pygments_lexer": "ipython3",
      "version": "3.12.3"
    }
  },
  "nbformat": 4,
  "nbformat_minor": 2
}
