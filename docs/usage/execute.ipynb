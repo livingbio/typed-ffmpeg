{
  "cells": [
    {
      "cell_type": "markdown",
      "metadata": {},
      "source": [
        "## Execute\n",
        "\n",
        "Once you have defined your FFmpeg processing pipeline in Typed-FFmpeg, executing the command or inspecting the underlying FFmpeg command is straightforward. This section covers how to run your FFmpeg tasks programmatically and how to retrieve the command line equivalent for debugging or educational purposes.\n"
      ]
    },
    {
      "cell_type": "code",
      "execution_count": 14,
      "metadata": {},
      "outputs": [
        {
          "data": {
            "image/png": "[encoded data removed]",
            "image/svg+xml": [
              "<?xml version=\"1.0\" encoding=\"UTF-8\" standalone=\"no\"?>\n",
              "<!DOCTYPE svg PUBLIC \"-//W3C//DTD SVG 1.1//EN\"\n",
              " \"http://www.w3.org/Graphics/SVG/1.1/DTD/svg11.dtd\">\n",
              "<!-- Generated by graphviz version 2.43.0 (0)\n",
              " -->\n",
              "<!-- Title: %3 Pages: 1 -->\n",
              "<svg width=\"556pt\" height=\"44pt\"\n",
              " viewBox=\"0.00 0.00 556.00 44.00\" xmlns=\"http://www.w3.org/2000/svg\" xmlns:xlink=\"http://www.w3.org/1999/xlink\">\n",
              "<g id=\"graph0\" class=\"graph\" transform=\"scale(1 1) rotate(0) translate(4 40)\">\n",
              "<title>%3</title>\n",
              "<polygon fill=\"white\" stroke=\"transparent\" points=\"-4,4 -4,-40 552,-40 552,4 -4,4\"/>\n",
              "<!-- e113d8a4702134a -->\n",
              "<g id=\"node1\" class=\"node\">\n",
              "<title>e113d8a4702134a</title>\n",
              "<polygon fill=\"#99cc00\" stroke=\"black\" points=\"77,-36 0,-36 0,0 77,0 77,-36\"/>\n",
              "<text text-anchor=\"middle\" x=\"38.5\" y=\"-14.9\" font-family=\"Helvetica,sans-Serif\" font-size=\"12.00\">input.mp4</text>\n",
              "</g>\n",
              "<!-- 6a228d8fa08b356b -->\n",
              "<g id=\"node2\" class=\"node\">\n",
              "<title>6a228d8fa08b356b</title>\n",
              "<polygon fill=\"#ffcc00\" stroke=\"black\" points=\"216,-36 162,-36 162,0 216,0 216,-36\"/>\n",
              "<text text-anchor=\"middle\" x=\"189\" y=\"-14.9\" font-family=\"Helvetica,sans-Serif\" font-size=\"12.00\">trim</text>\n",
              "</g>\n",
              "<!-- e113d8a4702134a&#45;&gt;6a228d8fa08b356b -->\n",
              "<g id=\"edge1\" class=\"edge\">\n",
              "<title>e113d8a4702134a&#45;&gt;6a228d8fa08b356b</title>\n",
              "<path fill=\"none\" stroke=\"black\" d=\"M77.36,-18C100.21,-18 129.16,-18 151.72,-18\"/>\n",
              "<polygon fill=\"black\" stroke=\"black\" points=\"151.91,-21.5 161.91,-18 151.91,-14.5 151.91,-21.5\"/>\n",
              "<text text-anchor=\"middle\" x=\"119.5\" y=\"-21.8\" font-family=\"Times,serif\" font-size=\"14.00\">* =&gt; 0</text>\n",
              "</g>\n",
              "<!-- 5acacff9608970e7 -->\n",
              "<g id=\"node3\" class=\"node\">\n",
              "<title>5acacff9608970e7</title>\n",
              "<polygon fill=\"#ffcc00\" stroke=\"black\" points=\"374,-36 304,-36 304,0 374,0 374,-36\"/>\n",
              "<text text-anchor=\"middle\" x=\"339\" y=\"-14.9\" font-family=\"Helvetica,sans-Serif\" font-size=\"12.00\">drawtext</text>\n",
              "</g>\n",
              "<!-- 6a228d8fa08b356b&#45;&gt;5acacff9608970e7 -->\n",
              "<g id=\"edge2\" class=\"edge\">\n",
              "<title>6a228d8fa08b356b&#45;&gt;5acacff9608970e7</title>\n",
              "<path fill=\"none\" stroke=\"black\" d=\"M216.12,-18C237.56,-18 268.4,-18 293.7,-18\"/>\n",
              "<polygon fill=\"black\" stroke=\"black\" points=\"293.8,-21.5 303.8,-18 293.8,-14.5 293.8,-21.5\"/>\n",
              "<text text-anchor=\"middle\" x=\"260\" y=\"-21.8\" font-family=\"Times,serif\" font-size=\"14.00\">0 =&gt; 0</text>\n",
              "</g>\n",
              "<!-- aa16dbf27b36977 -->\n",
              "<g id=\"node4\" class=\"node\">\n",
              "<title>aa16dbf27b36977</title>\n",
              "<polygon fill=\"#99ccff\" stroke=\"black\" points=\"548,-36 462,-36 462,0 548,0 548,-36\"/>\n",
              "<text text-anchor=\"middle\" x=\"505\" y=\"-14.9\" font-family=\"Helvetica,sans-Serif\" font-size=\"12.00\">output.mp4</text>\n",
              "</g>\n",
              "<!-- 5acacff9608970e7&#45;&gt;aa16dbf27b36977 -->\n",
              "<g id=\"edge3\" class=\"edge\">\n",
              "<title>5acacff9608970e7&#45;&gt;aa16dbf27b36977</title>\n",
              "<path fill=\"none\" stroke=\"black\" d=\"M374.38,-18C396.75,-18 426.36,-18 451.63,-18\"/>\n",
              "<polygon fill=\"black\" stroke=\"black\" points=\"451.8,-21.5 461.8,-18 451.8,-14.5 451.8,-21.5\"/>\n",
              "<text text-anchor=\"middle\" x=\"418\" y=\"-21.8\" font-family=\"Times,serif\" font-size=\"14.00\">0 =&gt; 0</text>\n",
              "</g>\n",
              "</g>\n",
              "</svg>\n"
            ],
            "text/plain": [
              "OutputStream(node=OutputNode(kwargs=(), inputs=(VideoStream(node=FilterNode(kwargs=(('text', 'Hello World'), ('fontsize', 12), ('x', 10), ('y', 10)), inputs=(VideoStream(node=FilterNode(kwargs=(('start', 10), ('end', 20)), inputs=(AVStream(node=InputNode(kwargs=(), inputs=(), filename='input.mp4'), index=None),), name='trim', input_typings=(<StreamType.video: 'video'>,), output_typings=(<StreamType.video: 'video'>,)), index=0),), name='drawtext', input_typings=(<StreamType.video: 'video'>,), output_typings=(<StreamType.video: 'video'>,)), index=0),), filename='output.mp4'), index=None)"
            ]
          },
          "execution_count": 14,
          "metadata": {},
          "output_type": "execute_result"
        }
      ],
      "source": [
        "import ffmpeg\n",
        "\n",
        "# Define the FFmpeg command with filters and output\n",
        "input_stream = ffmpeg.input('input.mp4')\n",
        "f = (\n",
        "    input_stream\n",
        "    .trim(start=10, end=20)\n",
        "    .drawtext(text='Hello World', fontsize=12, x=10, y=10)\n",
        "    .output(filename=\"output.mp4\")\n",
        ")\n",
        "f "
      ]
    },
    {
      "cell_type": "markdown",
      "metadata": {},
      "source": [
        "```python\n",
        "# Execute the FFmpeg command\n",
        "f.run()\n",
        "```"
      ]
    },
    {
      "cell_type": "markdown",
      "metadata": {},
      "source": [
        "\n",
        "### Retrieving the Command Line\n",
        "\n",
        "For debugging or verification purposes, you might want to inspect the exact command line that Typed-FFmpeg will execute. This can be done using the .compile() or .command_line() methods. These methods are especially useful for understanding how Typed-FFmpeg translates your Python code into FFmpeg command-line arguments.\n"
      ]
    },
    {
      "cell_type": "code",
      "execution_count": 15,
      "metadata": {},
      "outputs": [
        {
          "data": {
            "text/plain": [
              "['ffmpeg',\n",
              " '-i',\n",
              " 'input.mp4',\n",
              " '-filter_complex',\n",
              " '[0]trim=start=10:end=20[s0];[s0]drawtext=text=Hello World:fontsize=12:x=10:y=10[s1]',\n",
              " '-map',\n",
              " '[s1]',\n",
              " 'output.mp4']"
            ]
          },
          "execution_count": 15,
          "metadata": {},
          "output_type": "execute_result"
        }
      ],
      "source": [
        "# Compile the FFmpeg command into a list format\n",
        "command_list = f.compile()\n",
        "command_list\n"
      ]
    },
    {
      "cell_type": "code",
      "execution_count": 16,
      "metadata": {},
      "outputs": [
        {
          "data": {
            "text/plain": [
              "\"ffmpeg -i input.mp4 -filter_complex '[0]trim=start=10:end=20[s0];[s0]drawtext=text=Hello World:fontsize=12:x=10:y=10[s1]' -map '[s1]' output.mp4\""
            ]
          },
          "execution_count": 16,
          "metadata": {},
          "output_type": "execute_result"
        }
      ],
      "source": [
        "# Alternatively, get the command line as a single string\n",
        "command_string = f.compile_line()\n",
        "command_string\n"
      ]
    },
    {
      "cell_type": "markdown",
      "metadata": {},
      "source": [
        "These methods are primarily intended for debugging and ensuring that the Typed-FFmpeg commands align with your expectations.\n"
      ]
    },
    {
      "cell_type": "markdown",
      "metadata": {},
      "source": [
        "### Visualizing the Command\n",
        "\n",
        "Typed-FFmpeg also offers a method to visualize your filter graph, which can help in understanding the flow and structure of your FFmpeg command. This is particularly helpful when dealing with complex filter chains or multi-stream workflows.\n"
      ]
    },
    {
      "cell_type": "code",
      "execution_count": 17,
      "metadata": {},
      "outputs": [
        {
          "data": {
            "text/plain": [
              "'Digraph.gv.png'"
            ]
          },
          "execution_count": 17,
          "metadata": {},
          "output_type": "execute_result"
        }
      ],
      "source": [
        "# Visualize the FFmpeg filter graph\n",
        "f.view()"
      ]
    },
    {
      "cell_type": "markdown",
      "metadata": {},
      "source": [
        "Utilizing the .view() method renders a graphical representation of your command's filter graph, providing a clear and intuitive overview of how your streams and filters are interconnected.\n",
        "\n",
        "By following these steps, you can effectively execute, debug, and visualize your video and audio processing tasks within the Typed-FFmpeg framework.\n",
        "\n",
        "\n",
        "### Validate & Auto Fix with Typed-FFmpeg\n",
        "\n",
        "Typed-FFmpeg introduces an advanced feature for validating and automatically correcting your FFmpeg commands. This functionality is invaluable for ensuring that your commands are not only syntactically correct but also adhere to FFmpeg's operational requirements, which can sometimes be non-intuitive and lead to user confusion.\n",
        "\n",
        "#### Resolving Missing Split Filters\n",
        "\n",
        "A common issue in FFmpeg commands is the improper reuse of filtered streams without a split. FFmpeg requires distinct stream references when a stream is used in multiple contexts. Typed-FFmpeg can automatically insert necessary split filters to rectify this.\n",
        "\n",
        "**Example of a Missing Split Filter Issue:**"
      ]
    },
    {
      "cell_type": "code",
      "execution_count": 24,
      "metadata": {},
      "outputs": [
        {
          "data": {
            "image/png": "[encoded data removed]",
            "image/svg+xml": [
              "<?xml version=\"1.0\" encoding=\"UTF-8\" standalone=\"no\"?>\n",
              "<!DOCTYPE svg PUBLIC \"-//W3C//DTD SVG 1.1//EN\"\n",
              " \"http://www.w3.org/Graphics/SVG/1.1/DTD/svg11.dtd\">\n",
              "<!-- Generated by graphviz version 2.43.0 (0)\n",
              " -->\n",
              "<!-- Title: %3 Pages: 1 -->\n",
              "<svg width=\"536pt\" height=\"48pt\"\n",
              " viewBox=\"0.00 0.00 536.00 48.35\" xmlns=\"http://www.w3.org/2000/svg\" xmlns:xlink=\"http://www.w3.org/1999/xlink\">\n",
              "<g id=\"graph0\" class=\"graph\" transform=\"scale(1 1) rotate(0) translate(4 44.35)\">\n",
              "<title>%3</title>\n",
              "<polygon fill=\"white\" stroke=\"transparent\" points=\"-4,4 -4,-44.35 532,-44.35 532,4 -4,4\"/>\n",
              "<!-- e113d8a4702134a -->\n",
              "<g id=\"node1\" class=\"node\">\n",
              "<title>e113d8a4702134a</title>\n",
              "<polygon fill=\"#99cc00\" stroke=\"black\" points=\"77,-40.35 0,-40.35 0,-4.35 77,-4.35 77,-40.35\"/>\n",
              "<text text-anchor=\"middle\" x=\"38.5\" y=\"-19.25\" font-family=\"Helvetica,sans-Serif\" font-size=\"12.00\">input.mp4</text>\n",
              "</g>\n",
              "<!-- 3aa8ecf782dd547d -->\n",
              "<g id=\"node2\" class=\"node\">\n",
              "<title>3aa8ecf782dd547d</title>\n",
              "<polygon fill=\"#ffcc00\" stroke=\"black\" points=\"224,-40.35 162,-40.35 162,-4.35 224,-4.35 224,-40.35\"/>\n",
              "<text text-anchor=\"middle\" x=\"193\" y=\"-19.25\" font-family=\"Helvetica,sans-Serif\" font-size=\"12.00\">reverse</text>\n",
              "</g>\n",
              "<!-- e113d8a4702134a&#45;&gt;3aa8ecf782dd547d -->\n",
              "<g id=\"edge1\" class=\"edge\">\n",
              "<title>e113d8a4702134a&#45;&gt;3aa8ecf782dd547d</title>\n",
              "<path fill=\"none\" stroke=\"black\" d=\"M77.2,-22.35C99.84,-22.35 128.63,-22.35 151.72,-22.35\"/>\n",
              "<polygon fill=\"black\" stroke=\"black\" points=\"151.88,-25.85 161.88,-22.35 151.88,-18.85 151.88,-25.85\"/>\n",
              "<text text-anchor=\"middle\" x=\"119.5\" y=\"-26.15\" font-family=\"Times,serif\" font-size=\"14.00\">* =&gt; 0</text>\n",
              "</g>\n",
              "<!-- 455e6a31fdf3b22 -->\n",
              "<g id=\"node3\" class=\"node\">\n",
              "<title>455e6a31fdf3b22</title>\n",
              "<polygon fill=\"#ffcc00\" stroke=\"black\" points=\"369,-40.35 312,-40.35 312,-4.35 369,-4.35 369,-40.35\"/>\n",
              "<text text-anchor=\"middle\" x=\"340.5\" y=\"-19.25\" font-family=\"Helvetica,sans-Serif\" font-size=\"12.00\">concat</text>\n",
              "</g>\n",
              "<!-- 3aa8ecf782dd547d&#45;&gt;455e6a31fdf3b22 -->\n",
              "<g id=\"edge2\" class=\"edge\">\n",
              "<title>3aa8ecf782dd547d&#45;&gt;455e6a31fdf3b22</title>\n",
              "<path fill=\"none\" stroke=\"black\" d=\"M224.15,-22.35C246.63,-22.35 277.48,-22.35 301.62,-22.35\"/>\n",
              "<polygon fill=\"black\" stroke=\"black\" points=\"301.85,-25.85 311.85,-22.35 301.85,-18.85 301.85,-25.85\"/>\n",
              "<text text-anchor=\"middle\" x=\"268\" y=\"-26.15\" font-family=\"Times,serif\" font-size=\"14.00\">0 =&gt; 0</text>\n",
              "</g>\n",
              "<!-- 3aa8ecf782dd547d&#45;&gt;455e6a31fdf3b22 -->\n",
              "<g id=\"edge3\" class=\"edge\">\n",
              "<title>3aa8ecf782dd547d&#45;&gt;455e6a31fdf3b22</title>\n",
              "<path fill=\"none\" stroke=\"black\" d=\"M224.21,-8.42C230,-6.32 236.1,-4.48 242,-3.35 264.7,0.98 271.34,1.19 294,-3.35 296.66,-3.89 299.36,-4.58 302.05,-5.38\"/>\n",
              "<polygon fill=\"black\" stroke=\"black\" points=\"301.06,-8.74 311.65,-8.7 303.34,-2.13 301.06,-8.74\"/>\n",
              "<text text-anchor=\"middle\" x=\"268\" y=\"-7.15\" font-family=\"Times,serif\" font-size=\"14.00\">0 =&gt; 1</text>\n",
              "</g>\n",
              "<!-- 5a6b2a4e7038196f -->\n",
              "<g id=\"node4\" class=\"node\">\n",
              "<title>5a6b2a4e7038196f</title>\n",
              "<polygon fill=\"#99ccff\" stroke=\"black\" points=\"528,-40.35 457,-40.35 457,-4.35 528,-4.35 528,-40.35\"/>\n",
              "<text text-anchor=\"middle\" x=\"492.5\" y=\"-19.25\" font-family=\"Helvetica,sans-Serif\" font-size=\"12.00\">tmp.mp4</text>\n",
              "</g>\n",
              "<!-- 455e6a31fdf3b22&#45;&gt;5a6b2a4e7038196f -->\n",
              "<g id=\"edge4\" class=\"edge\">\n",
              "<title>455e6a31fdf3b22&#45;&gt;5a6b2a4e7038196f</title>\n",
              "<path fill=\"none\" stroke=\"black\" d=\"M369.01,-22.35C390.72,-22.35 421.44,-22.35 446.68,-22.35\"/>\n",
              "<polygon fill=\"black\" stroke=\"black\" points=\"446.77,-25.85 456.77,-22.35 446.77,-18.85 446.77,-25.85\"/>\n",
              "<text text-anchor=\"middle\" x=\"413\" y=\"-26.15\" font-family=\"Times,serif\" font-size=\"14.00\">0 =&gt; 0</text>\n",
              "</g>\n",
              "</g>\n",
              "</svg>\n"
            ],
            "text/plain": [
              "OutputStream(node=OutputNode(kwargs=(), inputs=(VideoStream(node=FilterNode(kwargs=(('n', 2),), inputs=(VideoStream(node=FilterNode(kwargs=(), inputs=(AVStream(node=InputNode(kwargs=(), inputs=(), filename='input.mp4'), index=None),), name='reverse', input_typings=(<StreamType.video: 'video'>,), output_typings=(<StreamType.video: 'video'>,)), index=0), VideoStream(node=FilterNode(kwargs=(), inputs=(AVStream(node=InputNode(kwargs=(), inputs=(), filename='input.mp4'), index=None),), name='reverse', input_typings=(<StreamType.video: 'video'>,), output_typings=(<StreamType.video: 'video'>,)), index=0)), name='concat', input_typings=(<StreamType.video: 'video'>, <StreamType.video: 'video'>), output_typings=(<StreamType.video: 'video'>,)), index=0),), filename='tmp.mp4'), index=None)"
            ]
          },
          "execution_count": 24,
          "metadata": {},
          "output_type": "execute_result"
        }
      ],
      "source": [
        "from ffmpeg import input\n",
        "from ffmpeg.filters import concat\n",
        "\n",
        "# Define a problematic FFmpeg graph without the required split\n",
        "input_stream = input(\"input.mp4\")\n",
        "stream = input_stream.reverse()\n",
        "graph = concat(stream, stream).video(0).output(filename=\"tmp.mp4\")\n",
        "graph\n"
      ]
    },
    {
      "cell_type": "code",
      "execution_count": 25,
      "metadata": {},
      "outputs": [
        {
          "data": {
            "text/plain": [
              "\"ffmpeg -i input.mp4 -filter_complex '[0]reverse[s0];[s0][s0]concat=n=2[s1]' -map '[s1]' tmp.mp4\""
            ]
          },
          "execution_count": 25,
          "metadata": {},
          "output_type": "execute_result"
        }
      ],
      "source": [
        "\n",
        "# Attempt to compile the command without auto-fixing\n",
        "graph.compile_line(auto_fix=False)\n",
        "# Incorrect command: ffmpeg -i input.mp4 -filter_complex '[0:v]reverse[r];[r][r]concat[c]' -map '[c]' tmp.mp4\n"
      ]
    },
    {
      "cell_type": "code",
      "execution_count": 30,
      "metadata": {},
      "outputs": [
        {
          "data": {
            "image/png": "[encoded data removed]",
            "image/svg+xml": [
              "<?xml version=\"1.0\" encoding=\"UTF-8\" standalone=\"no\"?>\n",
              "<!DOCTYPE svg PUBLIC \"-//W3C//DTD SVG 1.1//EN\"\n",
              " \"http://www.w3.org/Graphics/SVG/1.1/DTD/svg11.dtd\">\n",
              "<!-- Generated by graphviz version 2.43.0 (0)\n",
              " -->\n",
              "<!-- Title: %3 Pages: 1 -->\n",
              "<svg width=\"678pt\" height=\"48pt\"\n",
              " viewBox=\"0.00 0.00 678.00 48.47\" xmlns=\"http://www.w3.org/2000/svg\" xmlns:xlink=\"http://www.w3.org/1999/xlink\">\n",
              "<g id=\"graph0\" class=\"graph\" transform=\"scale(1 1) rotate(0) translate(4 44.47)\">\n",
              "<title>%3</title>\n",
              "<polygon fill=\"white\" stroke=\"transparent\" points=\"-4,4 -4,-44.47 674,-44.47 674,4 -4,4\"/>\n",
              "<!-- e113d8a4702134a -->\n",
              "<g id=\"node1\" class=\"node\">\n",
              "<title>e113d8a4702134a</title>\n",
              "<polygon fill=\"#99cc00\" stroke=\"black\" points=\"77,-40.47 0,-40.47 0,-4.47 77,-4.47 77,-40.47\"/>\n",
              "<text text-anchor=\"middle\" x=\"38.5\" y=\"-19.37\" font-family=\"Helvetica,sans-Serif\" font-size=\"12.00\">input.mp4</text>\n",
              "</g>\n",
              "<!-- 3aa8ecf782dd547d -->\n",
              "<g id=\"node2\" class=\"node\">\n",
              "<title>3aa8ecf782dd547d</title>\n",
              "<polygon fill=\"#ffcc00\" stroke=\"black\" points=\"224,-40.47 162,-40.47 162,-4.47 224,-4.47 224,-40.47\"/>\n",
              "<text text-anchor=\"middle\" x=\"193\" y=\"-19.37\" font-family=\"Helvetica,sans-Serif\" font-size=\"12.00\">reverse</text>\n",
              "</g>\n",
              "<!-- e113d8a4702134a&#45;&gt;3aa8ecf782dd547d -->\n",
              "<g id=\"edge1\" class=\"edge\">\n",
              "<title>e113d8a4702134a&#45;&gt;3aa8ecf782dd547d</title>\n",
              "<path fill=\"none\" stroke=\"black\" d=\"M77.2,-22.47C99.84,-22.47 128.63,-22.47 151.72,-22.47\"/>\n",
              "<polygon fill=\"black\" stroke=\"black\" points=\"151.88,-25.97 161.88,-22.47 151.88,-18.97 151.88,-25.97\"/>\n",
              "<text text-anchor=\"middle\" x=\"119.5\" y=\"-26.27\" font-family=\"Times,serif\" font-size=\"14.00\">* =&gt; 0</text>\n",
              "</g>\n",
              "<!-- 62a8dc54feea27f2 -->\n",
              "<g id=\"node3\" class=\"node\">\n",
              "<title>62a8dc54feea27f2</title>\n",
              "<polygon fill=\"#ffcc00\" stroke=\"black\" points=\"366,-40.47 312,-40.47 312,-4.47 366,-4.47 366,-40.47\"/>\n",
              "<text text-anchor=\"middle\" x=\"339\" y=\"-19.37\" font-family=\"Helvetica,sans-Serif\" font-size=\"12.00\">split</text>\n",
              "</g>\n",
              "<!-- 3aa8ecf782dd547d&#45;&gt;62a8dc54feea27f2 -->\n",
              "<g id=\"edge2\" class=\"edge\">\n",
              "<title>3aa8ecf782dd547d&#45;&gt;62a8dc54feea27f2</title>\n",
              "<path fill=\"none\" stroke=\"black\" d=\"M224.19,-22.47C246.75,-22.47 277.68,-22.47 301.61,-22.47\"/>\n",
              "<polygon fill=\"black\" stroke=\"black\" points=\"301.72,-25.97 311.72,-22.47 301.72,-18.97 301.72,-25.97\"/>\n",
              "<text text-anchor=\"middle\" x=\"268\" y=\"-26.27\" font-family=\"Times,serif\" font-size=\"14.00\">0 =&gt; 0</text>\n",
              "</g>\n",
              "<!-- 36df2aadc13050d9 -->\n",
              "<g id=\"node4\" class=\"node\">\n",
              "<title>36df2aadc13050d9</title>\n",
              "<polygon fill=\"#ffcc00\" stroke=\"black\" points=\"511,-40.47 454,-40.47 454,-4.47 511,-4.47 511,-40.47\"/>\n",
              "<text text-anchor=\"middle\" x=\"482.5\" y=\"-19.37\" font-family=\"Helvetica,sans-Serif\" font-size=\"12.00\">concat</text>\n",
              "</g>\n",
              "<!-- 62a8dc54feea27f2&#45;&gt;36df2aadc13050d9 -->\n",
              "<g id=\"edge3\" class=\"edge\">\n",
              "<title>62a8dc54feea27f2&#45;&gt;36df2aadc13050d9</title>\n",
              "<path fill=\"none\" stroke=\"black\" d=\"M366.28,-22.47C388.1,-22.47 419.41,-22.47 443.88,-22.47\"/>\n",
              "<polygon fill=\"black\" stroke=\"black\" points=\"443.91,-25.97 453.91,-22.47 443.91,-18.97 443.91,-25.97\"/>\n",
              "<text text-anchor=\"middle\" x=\"410\" y=\"-26.27\" font-family=\"Times,serif\" font-size=\"14.00\">0 =&gt; 0</text>\n",
              "</g>\n",
              "<!-- 62a8dc54feea27f2&#45;&gt;36df2aadc13050d9 -->\n",
              "<g id=\"edge4\" class=\"edge\">\n",
              "<title>62a8dc54feea27f2&#45;&gt;36df2aadc13050d9</title>\n",
              "<path fill=\"none\" stroke=\"black\" d=\"M366.42,-9.02C372.09,-6.72 378.13,-4.69 384,-3.47 406.63,1.2 413.34,1.07 436,-3.47 438.66,-4.01 441.36,-4.7 444.05,-5.51\"/>\n",
              "<polygon fill=\"black\" stroke=\"black\" points=\"443.06,-8.86 453.65,-8.82 445.34,-2.25 443.06,-8.86\"/>\n",
              "<text text-anchor=\"middle\" x=\"410\" y=\"-7.27\" font-family=\"Times,serif\" font-size=\"14.00\">1 =&gt; 1</text>\n",
              "</g>\n",
              "<!-- 523a434f0dd098e7 -->\n",
              "<g id=\"node5\" class=\"node\">\n",
              "<title>523a434f0dd098e7</title>\n",
              "<polygon fill=\"#99ccff\" stroke=\"black\" points=\"670,-40.47 599,-40.47 599,-4.47 670,-4.47 670,-40.47\"/>\n",
              "<text text-anchor=\"middle\" x=\"634.5\" y=\"-19.37\" font-family=\"Helvetica,sans-Serif\" font-size=\"12.00\">tmp.mp4</text>\n",
              "</g>\n",
              "<!-- 36df2aadc13050d9&#45;&gt;523a434f0dd098e7 -->\n",
              "<g id=\"edge5\" class=\"edge\">\n",
              "<title>36df2aadc13050d9&#45;&gt;523a434f0dd098e7</title>\n",
              "<path fill=\"none\" stroke=\"black\" d=\"M511.01,-22.47C532.72,-22.47 563.44,-22.47 588.68,-22.47\"/>\n",
              "<polygon fill=\"black\" stroke=\"black\" points=\"588.77,-25.97 598.77,-22.47 588.77,-18.97 588.77,-25.97\"/>\n",
              "<text text-anchor=\"middle\" x=\"555\" y=\"-26.27\" font-family=\"Times,serif\" font-size=\"14.00\">0 =&gt; 0</text>\n",
              "</g>\n",
              "</g>\n",
              "</svg>\n"
            ],
            "text/plain": [
              "OutputStream(node=OutputNode(kwargs=(), inputs=(VideoStream(node=FilterNode(kwargs=(('n', 2),), inputs=(VideoStream(node=FilterNode(kwargs=(('outputs', 2),), inputs=(VideoStream(node=FilterNode(kwargs=(), inputs=(AVStream(node=InputNode(kwargs=(), inputs=(), filename='input.mp4'), index=None),), name='reverse', input_typings=(<StreamType.video: 'video'>,), output_typings=(<StreamType.video: 'video'>,)), index=0),), name='split', input_typings=(<StreamType.video: 'video'>,), output_typings=(<StreamType.video: 'video'>, <StreamType.video: 'video'>)), index=0), VideoStream(node=FilterNode(kwargs=(('outputs', 2),), inputs=(VideoStream(node=FilterNode(kwargs=(), inputs=(AVStream(node=InputNode(kwargs=(), inputs=(), filename='input.mp4'), index=None),), name='reverse', input_typings=(<StreamType.video: 'video'>,), output_typings=(<StreamType.video: 'video'>,)), index=0),), name='split', input_typings=(<StreamType.video: 'video'>,), output_typings=(<StreamType.video: 'video'>, <StreamType.video: 'video'>)), index=1)), name='concat', input_typings=(<StreamType.video: 'video'>, <StreamType.video: 'video'>), output_typings=(<StreamType.video: 'video'>,)), index=0),), filename='tmp.mp4'), index=None)"
            ]
          },
          "execution_count": 30,
          "metadata": {},
          "output_type": "execute_result"
        }
      ],
      "source": [
        "# typed-ffmpeg's built-in validation will catch the issue and suggest a fix\n",
        "\n",
        "from ffmpeg.dag.validate import validate\n",
        "validate(graph)"
      ]
    },
    {
      "cell_type": "code",
      "execution_count": 31,
      "metadata": {},
      "outputs": [
        {
          "data": {
            "text/plain": [
              "\"ffmpeg -i input.mp4 -filter_complex '[0]reverse[s0];[s0]split=outputs=2[s1#0][s1#1];[s1#0][s1#1]concat=n=2[s2]' -map '[s2]' tmp.mp4\""
            ]
          },
          "execution_count": 31,
          "metadata": {},
          "output_type": "execute_result"
        }
      ],
      "source": [
        "\n",
        "# Automatically fix and compile the command\n",
        "graph.compile_line()\n",
        "# Corrected command: ffmpeg -i input.mp4 -filter_complex '[0:v]reverse[r];[r]split=2[s1][s2];[s1][s2]concat[c]' -map '[c]' tmp.mp4"
      ]
    },
    {
      "cell_type": "markdown",
      "metadata": {},
      "source": [
        "\n",
        "In this case, Typed-FFmpeg intelligently adds a split filter to meet FFmpeg's requirements for stream usage.\n",
        "\n",
        "#### Eliminating Redundant Split Filters\n",
        "\n",
        "Conversely, unnecessary split filters can also introduce problems, such as unintended stream selections or inefficient processing. Typed-FFmpeg can identify and remove these redundant filters, streamlining your command.\n",
        "\n",
        "**Example of Redundant Split Filter Issue:**"
      ]
    },
    {
      "cell_type": "code",
      "execution_count": 35,
      "metadata": {},
      "outputs": [
        {
          "data": {
            "image/png": "[encoded data removed]",
            "image/svg+xml": [
              "<?xml version=\"1.0\" encoding=\"UTF-8\" standalone=\"no\"?>\n",
              "<!DOCTYPE svg PUBLIC \"-//W3C//DTD SVG 1.1//EN\"\n",
              " \"http://www.w3.org/Graphics/SVG/1.1/DTD/svg11.dtd\">\n",
              "<!-- Generated by graphviz version 2.43.0 (0)\n",
              " -->\n",
              "<!-- Title: %3 Pages: 1 -->\n",
              "<svg width=\"533pt\" height=\"44pt\"\n",
              " viewBox=\"0.00 0.00 533.00 44.00\" xmlns=\"http://www.w3.org/2000/svg\" xmlns:xlink=\"http://www.w3.org/1999/xlink\">\n",
              "<g id=\"graph0\" class=\"graph\" transform=\"scale(1 1) rotate(0) translate(4 40)\">\n",
              "<title>%3</title>\n",
              "<polygon fill=\"white\" stroke=\"transparent\" points=\"-4,4 -4,-40 529,-40 529,4 -4,4\"/>\n",
              "<!-- 25cdd004dd9dfc4d -->\n",
              "<g id=\"node1\" class=\"node\">\n",
              "<title>25cdd004dd9dfc4d</title>\n",
              "<polygon fill=\"#99cc00\" stroke=\"black\" points=\"85,-36 0,-36 0,0 85,0 85,-36\"/>\n",
              "<text text-anchor=\"middle\" x=\"42.5\" y=\"-14.9\" font-family=\"Helvetica,sans-Serif\" font-size=\"12.00\">input1.mp4</text>\n",
              "</g>\n",
              "<!-- 1b2386ed9aa8a8b8 -->\n",
              "<g id=\"node2\" class=\"node\">\n",
              "<title>1b2386ed9aa8a8b8</title>\n",
              "<polygon fill=\"#ffcc00\" stroke=\"black\" points=\"224,-36 170,-36 170,0 224,0 224,-36\"/>\n",
              "<text text-anchor=\"middle\" x=\"197\" y=\"-14.9\" font-family=\"Helvetica,sans-Serif\" font-size=\"12.00\">split</text>\n",
              "</g>\n",
              "<!-- 25cdd004dd9dfc4d&#45;&gt;1b2386ed9aa8a8b8 -->\n",
              "<g id=\"edge1\" class=\"edge\">\n",
              "<title>25cdd004dd9dfc4d&#45;&gt;1b2386ed9aa8a8b8</title>\n",
              "<path fill=\"none\" stroke=\"black\" d=\"M85.17,-18C108.47,-18 137.23,-18 159.61,-18\"/>\n",
              "<polygon fill=\"black\" stroke=\"black\" points=\"159.72,-21.5 169.72,-18 159.72,-14.5 159.72,-21.5\"/>\n",
              "<text text-anchor=\"middle\" x=\"127.5\" y=\"-21.8\" font-family=\"Times,serif\" font-size=\"14.00\">* =&gt; 0</text>\n",
              "</g>\n",
              "<!-- da99bfaad49a0 -->\n",
              "<g id=\"node3\" class=\"node\">\n",
              "<title>da99bfaad49a0</title>\n",
              "<polygon fill=\"#ffcc00\" stroke=\"black\" points=\"366,-36 312,-36 312,0 366,0 366,-36\"/>\n",
              "<text text-anchor=\"middle\" x=\"339\" y=\"-14.9\" font-family=\"Helvetica,sans-Serif\" font-size=\"12.00\">trim</text>\n",
              "</g>\n",
              "<!-- 1b2386ed9aa8a8b8&#45;&gt;da99bfaad49a0 -->\n",
              "<g id=\"edge2\" class=\"edge\">\n",
              "<title>1b2386ed9aa8a8b8&#45;&gt;da99bfaad49a0</title>\n",
              "<path fill=\"none\" stroke=\"black\" d=\"M224,-18C245.77,-18 277.08,-18 301.38,-18\"/>\n",
              "<polygon fill=\"black\" stroke=\"black\" points=\"301.66,-21.5 311.66,-18 301.66,-14.5 301.66,-21.5\"/>\n",
              "<text text-anchor=\"middle\" x=\"268\" y=\"-21.8\" font-family=\"Times,serif\" font-size=\"14.00\">0 =&gt; 0</text>\n",
              "</g>\n",
              "<!-- 7dad15d0fb5905fb -->\n",
              "<g id=\"node4\" class=\"node\">\n",
              "<title>7dad15d0fb5905fb</title>\n",
              "<polygon fill=\"#99ccff\" stroke=\"black\" points=\"525,-36 454,-36 454,0 525,0 525,-36\"/>\n",
              "<text text-anchor=\"middle\" x=\"489.5\" y=\"-14.9\" font-family=\"Helvetica,sans-Serif\" font-size=\"12.00\">tmp.mp4</text>\n",
              "</g>\n",
              "<!-- da99bfaad49a0&#45;&gt;7dad15d0fb5905fb -->\n",
              "<g id=\"edge3\" class=\"edge\">\n",
              "<title>da99bfaad49a0&#45;&gt;7dad15d0fb5905fb</title>\n",
              "<path fill=\"none\" stroke=\"black\" d=\"M366.21,-18C387.65,-18 418.46,-18 443.79,-18\"/>\n",
              "<polygon fill=\"black\" stroke=\"black\" points=\"443.91,-21.5 453.91,-18 443.91,-14.5 443.91,-21.5\"/>\n",
              "<text text-anchor=\"middle\" x=\"410\" y=\"-21.8\" font-family=\"Times,serif\" font-size=\"14.00\">0 =&gt; 0</text>\n",
              "</g>\n",
              "</g>\n",
              "</svg>\n"
            ],
            "text/plain": [
              "OutputStream(node=OutputNode(kwargs=(), inputs=(VideoStream(node=FilterNode(kwargs=(('end', 5),), inputs=(VideoStream(node=FilterNode(kwargs=(('outputs', 2),), inputs=(AVStream(node=InputNode(kwargs=(), inputs=(), filename='input1.mp4'), index=None),), name='split', input_typings=(<StreamType.video: 'video'>,), output_typings=(<StreamType.video: 'video'>, <StreamType.video: 'video'>)), index=0),), name='trim', input_typings=(<StreamType.video: 'video'>,), output_typings=(<StreamType.video: 'video'>,)), index=0),), filename='tmp.mp4'), index=None)"
            ]
          },
          "execution_count": 35,
          "metadata": {},
          "output_type": "execute_result"
        }
      ],
      "source": [
        "from ffmpeg import input\n",
        "\n",
        "# Set up an FFmpeg graph with a redundant split\n",
        "input1 = input(\"input1.mp4\")\n",
        "f = (\n",
        "    input1\n",
        "    .split(outputs=2)\n",
        "    .video(0)\n",
        "    .trim(end=5)\n",
        "    .output(filename=\"tmp.mp4\")\n",
        ")\n",
        "f"
      ]
    },
    {
      "cell_type": "code",
      "execution_count": 39,
      "metadata": {},
      "outputs": [
        {
          "data": {
            "text/plain": [
              "\"ffmpeg -i input1.mp4 -filter_complex '[0]split=outputs=2[s0#0];[s0#0]trim=end=5[s1]' -map '[s1]' tmp.mp4\""
            ]
          },
          "execution_count": 39,
          "metadata": {},
          "output_type": "execute_result"
        }
      ],
      "source": [
        "\n",
        "# Compile the command with the redundant split, without auto-fixing\n",
        "f.compile_line(auto_fix=False)\n",
        "# Inefficient command: ffmpeg -i input1.mp4 -filter_complex '[0:v]split=2[s0][s1];[s0]trim=end=5[t]' -map '[t]' tmp.mp4\n"
      ]
    },
    {
      "cell_type": "code",
      "execution_count": 38,
      "metadata": {},
      "outputs": [
        {
          "data": {
            "image/png": "[encoded data removed]",
            "image/svg+xml": [
              "<?xml version=\"1.0\" encoding=\"UTF-8\" standalone=\"no\"?>\n",
              "<!DOCTYPE svg PUBLIC \"-//W3C//DTD SVG 1.1//EN\"\n",
              " \"http://www.w3.org/Graphics/SVG/1.1/DTD/svg11.dtd\">\n",
              "<!-- Generated by graphviz version 2.43.0 (0)\n",
              " -->\n",
              "<!-- Title: %3 Pages: 1 -->\n",
              "<svg width=\"391pt\" height=\"44pt\"\n",
              " viewBox=\"0.00 0.00 391.00 44.00\" xmlns=\"http://www.w3.org/2000/svg\" xmlns:xlink=\"http://www.w3.org/1999/xlink\">\n",
              "<g id=\"graph0\" class=\"graph\" transform=\"scale(1 1) rotate(0) translate(4 40)\">\n",
              "<title>%3</title>\n",
              "<polygon fill=\"white\" stroke=\"transparent\" points=\"-4,4 -4,-40 387,-40 387,4 -4,4\"/>\n",
              "<!-- 25cdd004dd9dfc4d -->\n",
              "<g id=\"node1\" class=\"node\">\n",
              "<title>25cdd004dd9dfc4d</title>\n",
              "<polygon fill=\"#99cc00\" stroke=\"black\" points=\"85,-36 0,-36 0,0 85,0 85,-36\"/>\n",
              "<text text-anchor=\"middle\" x=\"42.5\" y=\"-14.9\" font-family=\"Helvetica,sans-Serif\" font-size=\"12.00\">input1.mp4</text>\n",
              "</g>\n",
              "<!-- 648a77af0522d341 -->\n",
              "<g id=\"node2\" class=\"node\">\n",
              "<title>648a77af0522d341</title>\n",
              "<polygon fill=\"#ffcc00\" stroke=\"black\" points=\"224,-36 170,-36 170,0 224,0 224,-36\"/>\n",
              "<text text-anchor=\"middle\" x=\"197\" y=\"-14.9\" font-family=\"Helvetica,sans-Serif\" font-size=\"12.00\">trim</text>\n",
              "</g>\n",
              "<!-- 25cdd004dd9dfc4d&#45;&gt;648a77af0522d341 -->\n",
              "<g id=\"edge1\" class=\"edge\">\n",
              "<title>25cdd004dd9dfc4d&#45;&gt;648a77af0522d341</title>\n",
              "<path fill=\"none\" stroke=\"black\" d=\"M85.17,-18C108.47,-18 137.23,-18 159.61,-18\"/>\n",
              "<polygon fill=\"black\" stroke=\"black\" points=\"159.72,-21.5 169.72,-18 159.72,-14.5 159.72,-21.5\"/>\n",
              "<text text-anchor=\"middle\" x=\"127.5\" y=\"-21.8\" font-family=\"Times,serif\" font-size=\"14.00\">* =&gt; 0</text>\n",
              "</g>\n",
              "<!-- 421f73eb39448e25 -->\n",
              "<g id=\"node3\" class=\"node\">\n",
              "<title>421f73eb39448e25</title>\n",
              "<polygon fill=\"#99ccff\" stroke=\"black\" points=\"383,-36 312,-36 312,0 383,0 383,-36\"/>\n",
              "<text text-anchor=\"middle\" x=\"347.5\" y=\"-14.9\" font-family=\"Helvetica,sans-Serif\" font-size=\"12.00\">tmp.mp4</text>\n",
              "</g>\n",
              "<!-- 648a77af0522d341&#45;&gt;421f73eb39448e25 -->\n",
              "<g id=\"edge2\" class=\"edge\">\n",
              "<title>648a77af0522d341&#45;&gt;421f73eb39448e25</title>\n",
              "<path fill=\"none\" stroke=\"black\" d=\"M224.21,-18C245.65,-18 276.46,-18 301.79,-18\"/>\n",
              "<polygon fill=\"black\" stroke=\"black\" points=\"301.91,-21.5 311.91,-18 301.91,-14.5 301.91,-21.5\"/>\n",
              "<text text-anchor=\"middle\" x=\"268\" y=\"-21.8\" font-family=\"Times,serif\" font-size=\"14.00\">0 =&gt; 0</text>\n",
              "</g>\n",
              "</g>\n",
              "</svg>\n"
            ],
            "text/plain": [
              "OutputStream(node=OutputNode(kwargs=(), inputs=(VideoStream(node=FilterNode(kwargs=(('end', 5),), inputs=(AVStream(node=InputNode(kwargs=(), inputs=(), filename='input1.mp4'), index=None),), name='trim', input_typings=(<StreamType.video: 'video'>,), output_typings=(<StreamType.video: 'video'>,)), index=0),), filename='tmp.mp4'), index=None)"
            ]
          },
          "execution_count": 38,
          "metadata": {},
          "output_type": "execute_result"
        }
      ],
      "source": [
        "# typed-ffmpeg's built-in validation will catch the issue and suggest a fix\n",
        "\n",
        "from ffmpeg.dag.validate import validate\n",
        "validate(f)"
      ]
    },
    {
      "cell_type": "code",
      "execution_count": 40,
      "metadata": {},
      "outputs": [
        {
          "data": {
            "text/plain": [
              "\"ffmpeg -i input1.mp4 -filter_complex '[0]trim=end=5[s0]' -map '[s0]' tmp.mp4\""
            ]
          },
          "execution_count": 40,
          "metadata": {},
          "output_type": "execute_result"
        }
      ],
      "source": [
        "\n",
        "# Auto-remove the redundant split and compile\n",
        "f.compile_line()\n",
        "# Optimized command: ffmpeg -i input1.mp4 -filter_complex '[0:v]trim=end=5[t]' -map '[t]' tmp.mp4\n"
      ]
    },
    {
      "cell_type": "markdown",
      "metadata": {},
      "source": [
        "\n",
        "In this example, Typed-FFmpeg eliminates the unnecessary split, thereby simplifying the command and potentially improving processing efficiency.\n",
        "\n",
        "#### Conclusion\n",
        "\n",
        "Typed-FFmpeg's validation and auto-fixing capabilities greatly enhance the user experience by automating the resolution of common issues and optimizing command structure. This ensures that users can focus more on their creative and technical goals rather than on navigating the intricacies of FFmpeg's syntax and stream management rules.\n"
      ]
    }
  ],
  "metadata": {
    "kernelspec": {
      "display_name": ".venv",
      "language": "python",
      "name": "python3"
    },
    "language_info": {
      "codemirror_mode": {
        "name": "ipython",
        "version": 3
      },
      "file_extension": ".py",
      "mimetype": "text/x-python",
      "name": "python",
      "nbconvert_exporter": "python",
      "pygments_lexer": "ipython3",
      "version": "3.10.13"
    }
  },
  "nbformat": 4,
  "nbformat_minor": 2
}
