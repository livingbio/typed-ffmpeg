{
  "cells": [
    {
      "cell_type": "markdown",
      "metadata": {},
      "source": [
        "## Execute\n",
        "\n",
        "Once you have defined your FFmpeg processing pipeline in Typed-FFmpeg, executing the command or inspecting the underlying FFmpeg command is straightforward. This section covers how to run your FFmpeg tasks programmatically and how to retrieve the command line equivalent for debugging or educational purposes.\n"
      ]
    },
    {
      "cell_type": "code",
      "execution_count": 4,
      "metadata": {},
      "outputs": [
        {
          "data": {
            "image/png": "[encoded data removed]",
            "image/svg+xml": [
              "<?xml version=\"1.0\" encoding=\"UTF-8\" standalone=\"no\"?>\n",
              "<!DOCTYPE svg PUBLIC \"-//W3C//DTD SVG 1.1//EN\"\n",
              " \"http://www.w3.org/Graphics/SVG/1.1/DTD/svg11.dtd\">\n",
              "<!-- Generated by graphviz version 2.43.0 (0)\n",
              " -->\n",
              "<!-- Title: %3 Pages: 1 -->\n",
              "<svg width=\"556pt\" height=\"44pt\"\n",
              " viewBox=\"0.00 0.00 556.00 44.00\" xmlns=\"http://www.w3.org/2000/svg\" xmlns:xlink=\"http://www.w3.org/1999/xlink\">\n",
              "<g id=\"graph0\" class=\"graph\" transform=\"scale(1 1) rotate(0) translate(4 40)\">\n",
              "<title>%3</title>\n",
              "<polygon fill=\"white\" stroke=\"transparent\" points=\"-4,4 -4,-40 552,-40 552,4 -4,4\"/>\n",
              "<!-- 1d6bd3ce2bd77c8d -->\n",
              "<g id=\"node1\" class=\"node\">\n",
              "<title>1d6bd3ce2bd77c8d</title>\n",
              "<polygon fill=\"#99cc00\" stroke=\"black\" points=\"77,-36 0,-36 0,0 77,0 77,-36\"/>\n",
              "<text text-anchor=\"middle\" x=\"38.5\" y=\"-14.9\" font-family=\"Helvetica,sans-Serif\" font-size=\"12.00\">input.mp4</text>\n",
              "</g>\n",
              "<!-- 7aece0373898e17b -->\n",
              "<g id=\"node2\" class=\"node\">\n",
              "<title>7aece0373898e17b</title>\n",
              "<polygon fill=\"#ffcc00\" stroke=\"black\" points=\"216,-36 162,-36 162,0 216,0 216,-36\"/>\n",
              "<text text-anchor=\"middle\" x=\"189\" y=\"-14.9\" font-family=\"Helvetica,sans-Serif\" font-size=\"12.00\">trim</text>\n",
              "</g>\n",
              "<!-- 1d6bd3ce2bd77c8d&#45;&gt;7aece0373898e17b -->\n",
              "<g id=\"edge1\" class=\"edge\">\n",
              "<title>1d6bd3ce2bd77c8d&#45;&gt;7aece0373898e17b</title>\n",
              "<path fill=\"none\" stroke=\"black\" d=\"M77.36,-18C100.21,-18 129.16,-18 151.72,-18\"/>\n",
              "<polygon fill=\"black\" stroke=\"black\" points=\"151.91,-21.5 161.91,-18 151.91,-14.5 151.91,-21.5\"/>\n",
              "<text text-anchor=\"middle\" x=\"119.5\" y=\"-21.8\" font-family=\"Times,serif\" font-size=\"14.00\">* =&gt; 0</text>\n",
              "</g>\n",
              "<!-- 35a1434bca1b80f1 -->\n",
              "<g id=\"node3\" class=\"node\">\n",
              "<title>35a1434bca1b80f1</title>\n",
              "<polygon fill=\"#ffcc00\" stroke=\"black\" points=\"374,-36 304,-36 304,0 374,0 374,-36\"/>\n",
              "<text text-anchor=\"middle\" x=\"339\" y=\"-14.9\" font-family=\"Helvetica,sans-Serif\" font-size=\"12.00\">drawtext</text>\n",
              "</g>\n",
              "<!-- 7aece0373898e17b&#45;&gt;35a1434bca1b80f1 -->\n",
              "<g id=\"edge2\" class=\"edge\">\n",
              "<title>7aece0373898e17b&#45;&gt;35a1434bca1b80f1</title>\n",
              "<path fill=\"none\" stroke=\"black\" d=\"M216.12,-18C237.56,-18 268.4,-18 293.7,-18\"/>\n",
              "<polygon fill=\"black\" stroke=\"black\" points=\"293.8,-21.5 303.8,-18 293.8,-14.5 293.8,-21.5\"/>\n",
              "<text text-anchor=\"middle\" x=\"260\" y=\"-21.8\" font-family=\"Times,serif\" font-size=\"14.00\">0 =&gt; 0</text>\n",
              "</g>\n",
              "<!-- 28f64cfcfea41643 -->\n",
              "<g id=\"node4\" class=\"node\">\n",
              "<title>28f64cfcfea41643</title>\n",
              "<polygon fill=\"#99ccff\" stroke=\"black\" points=\"548,-36 462,-36 462,0 548,0 548,-36\"/>\n",
              "<text text-anchor=\"middle\" x=\"505\" y=\"-14.9\" font-family=\"Helvetica,sans-Serif\" font-size=\"12.00\">output.mp4</text>\n",
              "</g>\n",
              "<!-- 35a1434bca1b80f1&#45;&gt;28f64cfcfea41643 -->\n",
              "<g id=\"edge3\" class=\"edge\">\n",
              "<title>35a1434bca1b80f1&#45;&gt;28f64cfcfea41643</title>\n",
              "<path fill=\"none\" stroke=\"black\" d=\"M374.38,-18C396.75,-18 426.36,-18 451.63,-18\"/>\n",
              "<polygon fill=\"black\" stroke=\"black\" points=\"451.8,-21.5 461.8,-18 451.8,-14.5 451.8,-21.5\"/>\n",
              "<text text-anchor=\"middle\" x=\"418\" y=\"-21.8\" font-family=\"Times,serif\" font-size=\"14.00\">0 =&gt; 0</text>\n",
              "</g>\n",
              "</g>\n",
              "</svg>\n"
            ],
            "text/plain": [
              "OutputStream(node=OutputNode(kwargs=(), inputs=(VideoStream(node=FilterNode(kwargs=(('text', 'Hello World'), ('fontsize', 12), ('x', 10), ('y', 10)), inputs=(VideoStream(node=FilterNode(kwargs=(('start', 10), ('end', 20)), inputs=(AVStream(node=InputNode(kwargs=(), inputs=(), filename='input.mp4'), index=None),), name='trim', input_typings=(<StreamType.video: 'video'>,), output_typings=(<StreamType.video: 'video'>,)), index=0),), name='drawtext', input_typings=(<StreamType.video: 'video'>,), output_typings=(<StreamType.video: 'video'>,)), index=0),), filename='output.mp4'), index=None)"
            ]
          },
          "execution_count": 4,
          "metadata": {},
          "output_type": "execute_result"
        }
      ],
      "source": [
        "import ffmpeg\n",
        "\n",
        "# Define the FFmpeg command with filters and output\n",
        "input_stream = ffmpeg.input('input.mp4')\n",
        "f = (\n",
        "    input_stream\n",
        "    .trim(start=10, end=20)\n",
        "    .drawtext(text='Hello World', fontsize=12, x=10, y=10)\n",
        "    .output(filename=\"output.mp4\")\n",
        ")\n",
        "f "
      ]
    },
    {
      "cell_type": "code",
      "execution_count": 5,
      "metadata": {},
      "outputs": [
        {
          "name": "stderr",
          "output_type": "stream",
          "text": [
            "ffmpeg version 6.0-static https://johnvansickle.com/ffmpeg/  Copyright (c) 2000-2023 the FFmpeg developers\n",
            "  built with gcc 8 (Debian 8.3.0-6)\n",
            "  configuration: --enable-gpl --enable-version3 --enable-static --disable-debug --disable-ffplay --disable-indev=sndio --disable-outdev=sndio --cc=gcc --enable-fontconfig --enable-frei0r --enable-gnutls --enable-gmp --enable-libgme --enable-gray --enable-libaom --enable-libfribidi --enable-libass --enable-libvmaf --enable-libfreetype --enable-libmp3lame --enable-libopencore-amrnb --enable-libopencore-amrwb --enable-libopenjpeg --enable-librubberband --enable-libsoxr --enable-libspeex --enable-libsrt --enable-libvorbis --enable-libopus --enable-libtheora --enable-libvidstab --enable-libvo-amrwbenc --enable-libvpx --enable-libwebp --enable-libx264 --enable-libx265 --enable-libxml2 --enable-libdav1d --enable-libxvid --enable-libzvbi --enable-libzimg\n",
            "  libavutil      58.  2.100 / 58.  2.100\n",
            "  libavcodec     60.  3.100 / 60.  3.100\n",
            "  libavformat    60.  3.100 / 60.  3.100\n",
            "  libavdevice    60.  1.100 / 60.  1.100\n",
            "  libavfilter     9.  3.100 /  9.  3.100\n",
            "  libswscale      7.  1.100 /  7.  1.100\n",
            "  libswresample   4. 10.100 /  4. 10.100\n",
            "  libpostproc    57.  1.100 / 57.  1.100\n",
            "input.mp4: No such file or directory\n"
          ]
        },
        {
          "ename": "FFMpegExecuteError",
          "evalue": "ffmpeg -i input.mp4 -filter_complex '[0]trim=start=10:end=20[s0];[s0]drawtext=text=Hello World:fontsize=12:x=10:y=10[s1]' -map '[s1]' output.mp4 error (see stderr output for detail) None",
          "output_type": "error",
          "traceback": [
            "\u001b[0;31m---------------------------------------------------------------------------\u001b[0m",
            "\u001b[0;31mFFMpegExecuteError\u001b[0m                        Traceback (most recent call last)",
            "Cell \u001b[0;32mIn[5], line 2\u001b[0m\n\u001b[1;32m      1\u001b[0m \u001b[38;5;66;03m# Execute the FFmpeg command\u001b[39;00m\n\u001b[0;32m----> 2\u001b[0m \u001b[43mf\u001b[49m\u001b[38;5;241;43m.\u001b[39;49m\u001b[43mrun\u001b[49m\u001b[43m(\u001b[49m\u001b[43m)\u001b[49m\n",
            "File \u001b[0;32m/workspaces/typed-ffmpeg/src/ffmpeg/dag/global_runnable/runnable.py:167\u001b[0m, in \u001b[0;36mGlobalRunable.run\u001b[0;34m(self, cmd, capture_stdout, capture_stderr, input, quiet, overwrite_output, auto_fix)\u001b[0m\n\u001b[1;32m    164\u001b[0m retcode \u001b[38;5;241m=\u001b[39m process\u001b[38;5;241m.\u001b[39mpoll()\n\u001b[1;32m    166\u001b[0m \u001b[38;5;28;01mif\u001b[39;00m retcode:\n\u001b[0;32m--> 167\u001b[0m     \u001b[38;5;28;01mraise\u001b[39;00m FFMpegExecuteError(\n\u001b[1;32m    168\u001b[0m         retcode\u001b[38;5;241m=\u001b[39mretcode,\n\u001b[1;32m    169\u001b[0m         cmd\u001b[38;5;241m=\u001b[39m\u001b[38;5;28mself\u001b[39m\u001b[38;5;241m.\u001b[39mcompile_line(cmd, overwrite_output\u001b[38;5;241m=\u001b[39moverwrite_output, auto_fix\u001b[38;5;241m=\u001b[39mauto_fix),\n\u001b[1;32m    170\u001b[0m         stdout\u001b[38;5;241m=\u001b[39mstdout,\n\u001b[1;32m    171\u001b[0m         stderr\u001b[38;5;241m=\u001b[39mstderr,\n\u001b[1;32m    172\u001b[0m     )\n\u001b[1;32m    174\u001b[0m \u001b[38;5;28;01mreturn\u001b[39;00m stdout, stderr\n",
            "\u001b[0;31mFFMpegExecuteError\u001b[0m: ffmpeg -i input.mp4 -filter_complex '[0]trim=start=10:end=20[s0];[s0]drawtext=text=Hello World:fontsize=12:x=10:y=10[s1]' -map '[s1]' output.mp4 error (see stderr output for detail) None"
          ]
        }
      ],
      "source": [
        "\n",
        "# Execute the FFmpeg command\n",
        "f.run()"
      ]
    },
    {
      "cell_type": "markdown",
      "metadata": {},
      "source": [
        "\n",
        "### Retrieving the Command Line\n",
        "\n",
        "For debugging or verification purposes, you might want to inspect the exact command line that Typed-FFmpeg will execute. This can be done using the .compile() or .command_line() methods. These methods are especially useful for understanding how Typed-FFmpeg translates your Python code into FFmpeg command-line arguments.\n"
      ]
    },
    {
      "cell_type": "code",
      "execution_count": 8,
      "metadata": {},
      "outputs": [
        {
          "data": {
            "text/plain": [
              "['ffmpeg',\n",
              " '-i',\n",
              " 'input.mp4',\n",
              " '-filter_complex',\n",
              " '[0]trim=start=10:end=20[s0];[s0]drawtext=text=Hello World:fontsize=12:x=10:y=10[s1]',\n",
              " '-map',\n",
              " '[s1]',\n",
              " 'output.mp4']"
            ]
          },
          "execution_count": 8,
          "metadata": {},
          "output_type": "execute_result"
        }
      ],
      "source": [
        "# Compile the FFmpeg command into a list format\n",
        "command_list = f.compile()\n",
        "command_list\n"
      ]
    },
    {
      "cell_type": "code",
      "execution_count": 11,
      "metadata": {},
      "outputs": [
        {
          "data": {
            "text/plain": [
              "\"ffmpeg -i input.mp4 -filter_complex '[0]trim=start=10:end=20[s0];[s0]drawtext=text=Hello World:fontsize=12:x=10:y=10[s1]' -map '[s1]' output.mp4\""
            ]
          },
          "execution_count": 11,
          "metadata": {},
          "output_type": "execute_result"
        }
      ],
      "source": [
        "# Alternatively, get the command line as a single string\n",
        "command_string = f.compile_line()\n",
        "command_string\n"
      ]
    },
    {
      "cell_type": "markdown",
      "metadata": {},
      "source": [
        "These methods are primarily intended for debugging and ensuring that the Typed-FFmpeg commands align with your expectations.\n"
      ]
    },
    {
      "cell_type": "markdown",
      "metadata": {},
      "source": [
        "### Visualizing the Command\n",
        "\n",
        "Typed-FFmpeg also offers a method to visualize your filter graph, which can help in understanding the flow and structure of your FFmpeg command. This is particularly helpful when dealing with complex filter chains or multi-stream workflows.\n"
      ]
    },
    {
      "cell_type": "code",
      "execution_count": 15,
      "metadata": {},
      "outputs": [
        {
          "data": {
            "text/plain": [
              "'Digraph.gv.png'"
            ]
          },
          "execution_count": 15,
          "metadata": {},
          "output_type": "execute_result"
        }
      ],
      "source": [
        "# Visualize the FFmpeg filter graph\n",
        "f.view()"
      ]
    },
    {
      "cell_type": "markdown",
      "metadata": {},
      "source": [
        "Utilizing the .view() method renders a graphical representation of your command's filter graph, providing a clear and intuitive overview of how your streams and filters are interconnected.\n",
        "\n",
        "By following these steps, you can effectively execute, debug, and visualize your video and audio processing tasks within the Typed-FFmpeg framework.\n",
        "\n",
        "\n",
        "### Validate & Auto Fix with Typed-FFmpeg\n",
        "\n",
        "Typed-FFmpeg introduces an advanced feature for validating and automatically correcting your FFmpeg commands. This functionality is invaluable for ensuring that your commands are not only syntactically correct but also adhere to FFmpeg's operational requirements, which can sometimes be non-intuitive and lead to user confusion.\n",
        "\n",
        "#### Resolving Missing Split Filters\n",
        "\n",
        "A common issue in FFmpeg commands is the improper reuse of filtered streams without a split. FFmpeg requires distinct stream references when a stream is used in multiple contexts. Typed-FFmpeg can automatically insert necessary split filters to rectify this.\n",
        "\n",
        "**Example of a Missing Split Filter Issue:**"
      ]
    },
    {
      "cell_type": "code",
      "execution_count": 16,
      "metadata": {},
      "outputs": [
        {
          "data": {
            "text/plain": [
              "\"ffmpeg -i input.mp4 -filter_complex '[0]reverse[s0];[s0]split=outputs=2[s1#0][s1#1];[s1#0][s1#1]concat=n=2[s2]' -map '[s2]' tmp.mp4\""
            ]
          },
          "execution_count": 16,
          "metadata": {},
          "output_type": "execute_result"
        }
      ],
      "source": [
        "from ffmpeg import input\n",
        "from ffmpeg.filters import concat\n",
        "\n",
        "# Define a problematic FFmpeg graph without the required split\n",
        "input_stream = input(\"input.mp4\")\n",
        "stream = input_stream.reverse()\n",
        "graph = concat(stream, stream).video(0).output(filename=\"tmp.mp4\")\n",
        "\n",
        "# Attempt to compile the command without auto-fixing\n",
        "graph.compile_line(auto_fix=False)\n",
        "# Incorrect command: ffmpeg -i input.mp4 -filter_complex '[0:v]reverse[r];[r][r]concat[c]' -map '[c]' tmp.mp4\n",
        "\n",
        "# Automatically fix and compile the command\n",
        "graph.compile_line()\n",
        "# Corrected command: ffmpeg -i input.mp4 -filter_complex '[0:v]reverse[r];[r]split=2[s1][s2];[s1][s2]concat[c]' -map '[c]' tmp.mp4"
      ]
    },
    {
      "cell_type": "markdown",
      "metadata": {},
      "source": [
        "\n",
        "In this case, Typed-FFmpeg intelligently adds a split filter to meet FFmpeg's requirements for stream usage.\n",
        "\n",
        "#### Eliminating Redundant Split Filters\n",
        "\n",
        "Conversely, unnecessary split filters can also introduce problems, such as unintended stream selections or inefficient processing. Typed-FFmpeg can identify and remove these redundant filters, streamlining your command.\n",
        "\n",
        "**Example of Redundant Split Filter Issue:**"
      ]
    },
    {
      "cell_type": "code",
      "execution_count": 17,
      "metadata": {},
      "outputs": [
        {
          "data": {
            "text/plain": [
              "\"ffmpeg -i input1.mp4 -filter_complex '[0]trim=end=5[s0]' -map '[s0]' tmp.mp4\""
            ]
          },
          "execution_count": 17,
          "metadata": {},
          "output_type": "execute_result"
        }
      ],
      "source": [
        "from ffmpeg import input\n",
        "\n",
        "# Set up an FFmpeg graph with a redundant split\n",
        "input1 = input(\"input1.mp4\")\n",
        "f = (\n",
        "    input1\n",
        "    .split(outputs=2)\n",
        "    .video(0)\n",
        "    .trim(end=5)\n",
        "    .output(filename=\"tmp.mp4\")\n",
        ")\n",
        "\n",
        "# Compile the command with the redundant split, without auto-fixing\n",
        "f.compile_line(auto_fix=False)\n",
        "# Inefficient command: ffmpeg -i input1.mp4 -filter_complex '[0:v]split=2[s0][s1];[s0]trim=end=5[t]' -map '[t]' tmp.mp4\n",
        "\n",
        "# Auto-remove the redundant split and compile\n",
        "f.compile_line()\n",
        "# Optimized command: ffmpeg -i input1.mp4 -filter_complex '[0:v]trim=end=5[t]' -map '[t]' tmp.mp4\n"
      ]
    },
    {
      "cell_type": "markdown",
      "metadata": {},
      "source": [
        "\n",
        "In this example, Typed-FFmpeg eliminates the unnecessary split, thereby simplifying the command and potentially improving processing efficiency.\n",
        "\n",
        "#### Conclusion\n",
        "\n",
        "Typed-FFmpeg's validation and auto-fixing capabilities greatly enhance the user experience by automating the resolution of common issues and optimizing command structure. This ensures that users can focus more on their creative and technical goals rather than on navigating the intricacies of FFmpeg's syntax and stream management rules.\n"
      ]
    }
  ],
  "metadata": {
    "kernelspec": {
      "display_name": ".venv",
      "language": "python",
      "name": "python3"
    },
    "language_info": {
      "codemirror_mode": {
        "name": "ipython",
        "version": 3
      },
      "file_extension": ".py",
      "mimetype": "text/x-python",
      "name": "python",
      "nbconvert_exporter": "python",
      "pygments_lexer": "ipython3",
      "version": "3.10.13"
    }
  },
  "nbformat": 4,
  "nbformat_minor": 2
}
