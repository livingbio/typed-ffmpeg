{
  "cells": [
    {
      "cell_type": "markdown",
      "metadata": {},
      "source": [
        "## Execute\n",
        "\n",
        "Once you have defined your FFmpeg processing pipeline in Typed-FFmpeg, executing the command or inspecting the underlying FFmpeg command is straightforward. This section covers how to run your FFmpeg tasks programmatically and how to retrieve the command line equivalent for debugging or educational purposes.\n"
      ]
    },
    {
      "cell_type": "code",
      "execution_count": null,
      "metadata": {
        "vscode": {
          "languageId": "plaintext"
        }
      },
      "outputs": [],
      "source": [
        "import ffmpeg\n",
        "\n",
        "# Define the FFmpeg command with filters and output\n",
        "input_stream = ffmpeg.input('input.mp4')\n",
        "f = (\n",
        "    input_stream\n",
        "    .trim(start=10, end=20)\n",
        "    .drawtext(text='Hello World', fontsize=12, x=10, y=10)\n",
        "    .output(filename=\"output.mp4\")\n",
        ")\n",
        "\n",
        "# Execute the FFmpeg command\n",
        "f.run()"
      ]
    },
    {
      "cell_type": "markdown",
      "metadata": {},
      "source": [
        "\n",
        "### Retrieving the Command Line\n",
        "\n",
        "For debugging or verification purposes, you might want to inspect the exact command line that Typed-FFmpeg will execute. This can be done using the .compile() or .command_line() methods. These methods are especially useful for understanding how Typed-FFmpeg translates your Python code into FFmpeg command-line arguments.\n"
      ]
    },
    {
      "cell_type": "code",
      "execution_count": null,
      "metadata": {
        "vscode": {
          "languageId": "plaintext"
        }
      },
      "outputs": [],
      "source": [
        "# Compile the FFmpeg command into a list format\n",
        "command_list = f.compile()\n",
        "print(command_list)\n",
        "# Outputs: ['ffmpeg', '-i', 'input.mp4', '-filter_complex', '[0:v]trim=start=10:end=20,drawtext=text=Hello World:fontsize=12:x=10:y=10', '-map', '0:v', 'output.mp4']\n",
        "\n",
        "# Alternatively, get the command line as a single string\n",
        "command_string = f.command_line()\n",
        "print(command_string)\n",
        "# Outputs: ffmpeg -i input.mp4 -filter_complex '[0:v]trim=start=10:end=20,drawtext=text=Hello World:fontsize=12:x=10:y=10' -map '0:v' output.mp4\n"
      ]
    },
    {
      "cell_type": "markdown",
      "metadata": {},
      "source": [
        "These methods are primarily intended for debugging and ensuring that the Typed-FFmpeg commands align with your expectations.\n"
      ]
    },
    {
      "cell_type": "markdown",
      "metadata": {},
      "source": [
        "### Visualizing the Command\n",
        "\n",
        "Typed-FFmpeg also offers a method to visualize your filter graph, which can help in understanding the flow and structure of your FFmpeg command. This is particularly helpful when dealing with complex filter chains or multi-stream workflows.\n"
      ]
    },
    {
      "cell_type": "code",
      "execution_count": null,
      "metadata": {
        "vscode": {
          "languageId": "plaintext"
        }
      },
      "outputs": [],
      "source": [
        "# Visualize the FFmpeg filter graph\n",
        "f.view()"
      ]
    },
    {
      "cell_type": "markdown",
      "metadata": {},
      "source": [
        "Utilizing the .view() method renders a graphical representation of your command's filter graph, providing a clear and intuitive overview of how your streams and filters are interconnected.\n",
        "\n",
        "By following these steps, you can effectively execute, debug, and visualize your video and audio processing tasks within the Typed-FFmpeg framework.\n",
        "\n",
        "\n",
        "### Validate & Auto Fix with Typed-FFmpeg\n",
        "\n",
        "Typed-FFmpeg introduces an advanced feature for validating and automatically correcting your FFmpeg commands. This functionality is invaluable for ensuring that your commands are not only syntactically correct but also adhere to FFmpeg's operational requirements, which can sometimes be non-intuitive and lead to user confusion.\n",
        "\n",
        "#### Resolving Missing Split Filters\n",
        "\n",
        "A common issue in FFmpeg commands is the improper reuse of filtered streams without a split. FFmpeg requires distinct stream references when a stream is used in multiple contexts. Typed-FFmpeg can automatically insert necessary split filters to rectify this.\n",
        "\n",
        "**Example of a Missing Split Filter Issue:**"
      ]
    },
    {
      "cell_type": "code",
      "execution_count": null,
      "metadata": {
        "vscode": {
          "languageId": "plaintext"
        }
      },
      "outputs": [],
      "source": [
        "from ffmpeg import input\n",
        "from ffmpeg.filters import concat\n",
        "\n",
        "# Define a problematic FFmpeg graph without the required split\n",
        "input_stream = input(\"input.mp4\")\n",
        "stream = input_stream.reverse()\n",
        "graph = concat(stream, stream).video(0).output(filename=\"tmp.mp4\")\n",
        "\n",
        "# Attempt to compile the command without auto-fixing\n",
        "graph.compile_line(auto_fix=False)\n",
        "# Incorrect command: ffmpeg -i input.mp4 -filter_complex '[0:v]reverse[r];[r][r]concat[c]' -map '[c]' tmp.mp4\n",
        "\n",
        "# Automatically fix and compile the command\n",
        "graph.compile_line()\n",
        "# Corrected command: ffmpeg -i input.mp4 -filter_complex '[0:v]reverse[r];[r]split=2[s1][s2];[s1][s2]concat[c]' -map '[c]' tmp.mp4"
      ]
    },
    {
      "cell_type": "markdown",
      "metadata": {},
      "source": [
        "\n",
        "In this case, Typed-FFmpeg intelligently adds a split filter to meet FFmpeg's requirements for stream usage.\n",
        "\n",
        "#### Eliminating Redundant Split Filters\n",
        "\n",
        "Conversely, unnecessary split filters can also introduce problems, such as unintended stream selections or inefficient processing. Typed-FFmpeg can identify and remove these redundant filters, streamlining your command.\n",
        "\n",
        "**Example of Redundant Split Filter Issue:**"
      ]
    },
    {
      "cell_type": "code",
      "execution_count": null,
      "metadata": {
        "vscode": {
          "languageId": "plaintext"
        }
      },
      "outputs": [],
      "source": [
        "from ffmpeg import input\n",
        "\n",
        "# Set up an FFmpeg graph with a redundant split\n",
        "input1 = input(\"input1.mp4\")\n",
        "f = (\n",
        "    input1\n",
        "    .split(outputs=2)\n",
        "    .video(0)\n",
        "    .trim(end=5)\n",
        "    .output(filename=\"tmp.mp4\")\n",
        ")\n",
        "\n",
        "# Compile the command with the redundant split, without auto-fixing\n",
        "f.compile_line(auto_fix=False)\n",
        "# Inefficient command: ffmpeg -i input1.mp4 -filter_complex '[0:v]split=2[s0][s1];[s0]trim=end=5[t]' -map '[t]' tmp.mp4\n",
        "\n",
        "# Auto-remove the redundant split and compile\n",
        "f.compile_line()\n",
        "# Optimized command: ffmpeg -i input1.mp4 -filter_complex '[0:v]trim=end=5[t]' -map '[t]' tmp.mp4\n"
      ]
    },
    {
      "cell_type": "markdown",
      "metadata": {},
      "source": [
        "\n",
        "In this example, Typed-FFmpeg eliminates the unnecessary split, thereby simplifying the command and potentially improving processing efficiency.\n",
        "\n",
        "#### Conclusion\n",
        "\n",
        "Typed-FFmpeg's validation and auto-fixing capabilities greatly enhance the user experience by automating the resolution of common issues and optimizing command structure. This ensures that users can focus more on their creative and technical goals rather than on navigating the intricacies of FFmpeg's syntax and stream management rules.\n"
      ]
    }
  ],
  "metadata": {
    "language_info": {
      "name": "python"
    }
  },
  "nbformat": 4,
  "nbformat_minor": 2
}
